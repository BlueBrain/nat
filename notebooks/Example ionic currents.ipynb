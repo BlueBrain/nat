{
 "cells": [
  {
   "cell_type": "markdown",
   "metadata": {},
   "source": [
    "### Installation of the NeuroAnnotation Toolbox (NAT)"
   ]
  },
  {
   "cell_type": "code",
   "execution_count": 1,
   "metadata": {
    "collapsed": false
   },
   "outputs": [],
   "source": [
    "!pip3 install -q --upgrade --user  --force-reinstall  git+https://github.com/christian-oreilly/nat.git"
   ]
  },
  {
   "cell_type": "markdown",
   "metadata": {},
   "source": [
    "### Installation of other standard toolboxes"
   ]
  },
  {
   "cell_type": "code",
   "execution_count": 2,
   "metadata": {
    "collapsed": true
   },
   "outputs": [],
   "source": [
    "!pip3 install -q matplotlib seaborn gitpython"
   ]
  },
  {
   "cell_type": "markdown",
   "metadata": {},
   "source": [
    "### Downloading the corpus"
   ]
  },
  {
   "cell_type": "code",
   "execution_count": 3,
   "metadata": {
    "collapsed": true
   },
   "outputs": [],
   "source": [
    "from git import Repo\n",
    "import os\n",
    "\n",
    "git_url = \"https://github.com/christian-oreilly/corpus-thalamus.git\"\n",
    "repo_dir = os.path.join(os.getcwd(), \"neurocuratorDB\")\n",
    "if not os.path.isdir(repo_dir):\n",
    "    Repo.clone_from(git_url, repo_dir)\n",
    "else:\n",
    "    Repo(repo_dir).remotes.origin.pull()"
   ]
  },
  {
   "cell_type": "markdown",
   "metadata": {},
   "source": [
    "### Imports"
   ]
  },
  {
   "cell_type": "code",
   "execution_count": 4,
   "metadata": {
    "collapsed": false
   },
   "outputs": [],
   "source": [
    "# Stadard imports\n",
    "import sys, os\n",
    "import matplotlib.pylab as plt\n",
    "import seaborn as sns\n",
    "import quantities as pq\n",
    "import numpy as np\n",
    "\n",
    "# NAT imports\n",
    "from nat.annotationSearch import ParameterSearch, ConditionAtom"
   ]
  },
  {
   "cell_type": "markdown",
   "metadata": {},
   "source": [
    "### Searching for annotated maximal ionic current conductances and showing the three first records"
   ]
  },
  {
   "cell_type": "code",
   "execution_count": 5,
   "metadata": {
    "collapsed": false
   },
   "outputs": [
    {
     "data": {
      "text/html": [
       "<div>\n",
       "<table border=\"1\" class=\"dataframe\">\n",
       "  <thead>\n",
       "    <tr style=\"text-align: right;\">\n",
       "      <th></th>\n",
       "      <th>Cell</th>\n",
       "      <th>Context</th>\n",
       "      <th>Parameter instance ID</th>\n",
       "      <th>Parameter name</th>\n",
       "      <th>Parameter type ID</th>\n",
       "      <th>Result type</th>\n",
       "      <th>Text</th>\n",
       "      <th>Transmembrane ionic current</th>\n",
       "      <th>Unit</th>\n",
       "      <th>Values</th>\n",
       "      <th>obj_annotation</th>\n",
       "      <th>obj_parameter</th>\n",
       "    </tr>\n",
       "  </thead>\n",
       "  <tbody>\n",
       "    <tr>\n",
       "      <th>0</th>\n",
       "      <td>Thalamocortical cell</td>\n",
       "      <td>sly\\n(Fig. 10B; Crandall et al., 2010; Erringt...</td>\n",
       "      <td>e47cae04-ffdc-11e5-8b78-64006a4c56ef</td>\n",
       "      <td>conductance_ion_curr_max</td>\n",
       "      <td>BBP-030003</td>\n",
       "      <td>pointValue</td>\n",
       "      <td>the range of uniformly distributed gT\\ndensiti...</td>\n",
       "      <td>Low threshold calcium T-current</td>\n",
       "      <td>S/cm^2</td>\n",
       "      <td>0.00007</td>\n",
       "      <td>\"6018bec2-f022-11e5-ab76-c869cd917532\";\"\";\"&lt;cl...</td>\n",
       "      <td>{'description': {'type': 'pointValue', 'depVar...</td>\n",
       "    </tr>\n",
       "    <tr>\n",
       "      <th>1</th>\n",
       "      <td>Thalamic reticular nucleus cell</td>\n",
       "      <td>), independentlyof the particular\\ndetails of ...</td>\n",
       "      <td>f36fd1be-02ef-11e6-93a1-3417ebb8f5ca</td>\n",
       "      <td>conductance_ion_curr_max</td>\n",
       "      <td>BBP-030003</td>\n",
       "      <td>pointValue</td>\n",
       "      <td>However, if I, was located only in the soma us...</td>\n",
       "      <td>Low threshold calcium T-current</td>\n",
       "      <td>mS/cm^2</td>\n",
       "      <td>3.00000</td>\n",
       "      <td>\"dddd04ca-02ef-11e6-93a1-3417ebb8f5ca\";\"T chan...</td>\n",
       "      <td>{'description': {'type': 'pointValue', 'depVar...</td>\n",
       "    </tr>\n",
       "    <tr>\n",
       "      <th>2</th>\n",
       "      <td>Thalamus ventroposterior nucleus principal neuron</td>\n",
       "      <td>imum conductances).\\n\\nB\\n\\nLeaks + IT\\n\\nVm(m...</td>\n",
       "      <td>ceac0b7a-f289-11e5-b804-64006a4c56ef</td>\n",
       "      <td>conductance_ion_curr_max</td>\n",
       "      <td>BBP-030003</td>\n",
       "      <td>pointValue</td>\n",
       "      <td>were adjusted to match the slope and the extr...</td>\n",
       "      <td>Potassium leak current</td>\n",
       "      <td>S/cm^2</td>\n",
       "      <td>0.00001</td>\n",
       "      <td>\"68d83bf4-ead0-11e5-8acd-c869cd917532\";\"Leak p...</td>\n",
       "      <td>{'relationship': {'type': 'point', 'entity1': ...</td>\n",
       "    </tr>\n",
       "  </tbody>\n",
       "</table>\n",
       "</div>"
      ],
      "text/plain": [
       "                                                Cell  \\\n",
       "0                               Thalamocortical cell   \n",
       "1                    Thalamic reticular nucleus cell   \n",
       "2  Thalamus ventroposterior nucleus principal neuron   \n",
       "\n",
       "                                             Context  \\\n",
       "0  sly\\n(Fig. 10B; Crandall et al., 2010; Erringt...   \n",
       "1  ), independentlyof the particular\\ndetails of ...   \n",
       "2  imum conductances).\\n\\nB\\n\\nLeaks + IT\\n\\nVm(m...   \n",
       "\n",
       "                  Parameter instance ID            Parameter name  \\\n",
       "0  e47cae04-ffdc-11e5-8b78-64006a4c56ef  conductance_ion_curr_max   \n",
       "1  f36fd1be-02ef-11e6-93a1-3417ebb8f5ca  conductance_ion_curr_max   \n",
       "2  ceac0b7a-f289-11e5-b804-64006a4c56ef  conductance_ion_curr_max   \n",
       "\n",
       "  Parameter type ID Result type  \\\n",
       "0        BBP-030003  pointValue   \n",
       "1        BBP-030003  pointValue   \n",
       "2        BBP-030003  pointValue   \n",
       "\n",
       "                                                Text  \\\n",
       "0  the range of uniformly distributed gT\\ndensiti...   \n",
       "1  However, if I, was located only in the soma us...   \n",
       "2   were adjusted to match the slope and the extr...   \n",
       "\n",
       "       Transmembrane ionic current     Unit   Values  \\\n",
       "0  Low threshold calcium T-current   S/cm^2  0.00007   \n",
       "1  Low threshold calcium T-current  mS/cm^2  3.00000   \n",
       "2           Potassium leak current   S/cm^2  0.00001   \n",
       "\n",
       "                                      obj_annotation  \\\n",
       "0  \"6018bec2-f022-11e5-ab76-c869cd917532\";\"\";\"<cl...   \n",
       "1  \"dddd04ca-02ef-11e6-93a1-3417ebb8f5ca\";\"T chan...   \n",
       "2  \"68d83bf4-ead0-11e5-8acd-c869cd917532\";\"Leak p...   \n",
       "\n",
       "                                       obj_parameter  \n",
       "0  {'description': {'type': 'pointValue', 'depVar...  \n",
       "1  {'description': {'type': 'pointValue', 'depVar...  \n",
       "2  {'relationship': {'type': 'point', 'entity1': ...  "
      ]
     },
     "execution_count": 5,
     "metadata": {},
     "output_type": "execute_result"
    }
   ],
   "source": [
    "searcher = ParameterSearch(repo_dir)\n",
    "searcher.setSearchConditions(ConditionAtom(\"Parameter name\", \"conductance_ion_curr_max\"))\n",
    "searcher.expandRequiredTags = True\n",
    "searcher.onlyCentralTendancy = True\n",
    "resultDF = searcher.search()\n",
    "resultDF[:3]"
   ]
  },
  {
   "cell_type": "markdown",
   "metadata": {},
   "source": [
    "### Checking which conductances have been specified as \"specific conductances\" (i.e., conductance densities) and normalizing the units."
   ]
  },
  {
   "cell_type": "code",
   "execution_count": 6,
   "metadata": {
    "collapsed": true
   },
   "outputs": [],
   "source": [
    "isSpecific = []\n",
    "allConductances = []\n",
    "for v, u in zip(resultDF[\"Values\"], resultDF[\"Unit\"]):\n",
    "    try:\n",
    "        allConductances.append(float(pq.Quantity(v, u).rescale('S/cm**2')))\n",
    "        isSpecific.append(True)\n",
    "    except:\n",
    "        isSpecific.append(False)"
   ]
  },
  {
   "cell_type": "markdown",
   "metadata": {
    "collapsed": false
   },
   "source": [
    "### Plotting the result of our query"
   ]
  },
  {
   "cell_type": "code",
   "execution_count": 7,
   "metadata": {
    "collapsed": false
   },
   "outputs": [
    {
     "data": {
      "image/png": "[encoded data removed]",
      "text/plain": [
       "<matplotlib.figure.Figure at 0x7f87eb7f3860>"
      ]
     },
     "metadata": {},
     "output_type": "display_data"
    }
   ],
   "source": [
    "%matplotlib inline\n",
    "\n",
    "resultDF = resultDF[isSpecific]\n",
    "resultDF[\"Values\"] = np.log10(allConductances)\n",
    "\n",
    "# Plotting a violin plot for annotated values for specific conductances\n",
    "# of the various kind of ionic currents \n",
    "g = sns.violinplot(y=\"Transmembrane ionic current\", x=\"Values\", data=resultDF, bw=0.25)\n",
    "g = sns.swarmplot( y=\"Transmembrane ionic current\", x=\"Values\", data=resultDF)\n",
    "g.set_ylabel(\"\")\n",
    "g.set_xlabel(\"Specific conductance ($S/cm^2$)\")\n",
    "g.set_xticklabels([('%.0e' % 10**nb) for nb in g.get_xticks()]) \n",
    "plt.plot()\n",
    "plt.savefig('example_currents.png', bbox_inches='tight', transparent=True, dpi=200)"
   ]
  },
  {
   "cell_type": "markdown",
   "metadata": {
    "collapsed": true
   },
   "source": [
    "### Printing the JSON representation of a specific annotation of the plot"
   ]
  },
  {
   "cell_type": "code",
   "execution_count": 8,
   "metadata": {
    "collapsed": false
   },
   "outputs": [
    {
     "name": "stdout",
     "output_type": "stream",
     "text": [
      "{\n",
      "    \"annotId\": \"8e3edae6-ef34-11e5-ba5d-c869cd917532\",\n",
      "    \"authors\": [\n",
      "        \"iavarone\",\n",
      "        \"oreilly\"\n",
      "    ],\n",
      "    \"comment\": \"Fast potassium current parameters\",\n",
      "    \"experimentProperties\": [],\n",
      "    \"localizer\": {\n",
      "        \"location\": 26404,\n",
      "        \"text\": \"The gKIR and the\\nfast voltage-gated potassium channel ( gKf) had conductances of 20 \\u0002s/\\ncm2 and 50 mS/cm2, respectively. Both potassium channels had reversal\\npotentials of 100 mV.\",\n",
      "        \"type\": \"text\"\n",
      "    },\n",
      "    \"parameters\": [\n",
      "        {\n",
      "            \"description\": {\n",
      "                \"depVar\": {\n",
      "                    \"typeId\": \"BBP-030003\",\n",
      "                    \"values\": {\n",
      "                        \"statistic\": \"raw\",\n",
      "                        \"type\": \"simple\",\n",
      "                        \"unit\": \"mS/cm^2\",\n",
      "                        \"values\": [\n",
      "                            50.0\n",
      "                        ]\n",
      "                    }\n",
      "                },\n",
      "                \"type\": \"pointValue\"\n",
      "            },\n",
      "            \"id\": \"e47c93ba-ffdc-11e5-8b78-64006a4c56ef\",\n",
      "            \"isExperimentProperty\": false,\n",
      "            \"requiredTags\": [\n",
      "                {\n",
      "                    \"id\": \"BBP_nlx_0020\",\n",
      "                    \"name\": \"Fast voltage-gated potassium (Kf) current\",\n",
      "                    \"rootId\": \"nifext_8054\"\n",
      "                },\n",
      "                {\n",
      "                    \"id\": \"NIFCELL:nifext_41\",\n",
      "                    \"name\": \"Thalamocortical cell\",\n",
      "                    \"rootId\": \"sao1813327414\"\n",
      "                }\n",
      "            ]\n",
      "        },\n",
      "        {\n",
      "            \"description\": {\n",
      "                \"depVar\": {\n",
      "                    \"typeId\": \"BBP-011001\",\n",
      "                    \"values\": {\n",
      "                        \"statistic\": \"raw\",\n",
      "                        \"type\": \"simple\",\n",
      "                        \"unit\": \"mV\",\n",
      "                        \"values\": [\n",
      "                            -100.0\n",
      "                        ]\n",
      "                    }\n",
      "                },\n",
      "                \"type\": \"pointValue\"\n",
      "            },\n",
      "            \"id\": \"e47c95c2-ffdc-11e5-8b78-64006a4c56ef\",\n",
      "            \"isExperimentProperty\": false,\n",
      "            \"requiredTags\": [\n",
      "                {\n",
      "                    \"id\": \"BBP_nlx_0020\",\n",
      "                    \"name\": \"Fast voltage-gated potassium (Kf) current\",\n",
      "                    \"rootId\": \"nifext_8054\"\n",
      "                },\n",
      "                {\n",
      "                    \"id\": \"NIFCELL:nifext_41\",\n",
      "                    \"name\": \"Thalamocortical cell\",\n",
      "                    \"rootId\": \"sao1813327414\"\n",
      "                }\n",
      "            ]\n",
      "        }\n",
      "    ],\n",
      "    \"pubId\": \"10.1523/JNEUROSCI.2740-15.2015\",\n",
      "    \"tags\": [\n",
      "        {\n",
      "            \"id\": \"NIFINV:birnlex_2300\",\n",
      "            \"name\": \"Computational model\"\n",
      "        },\n",
      "        {\n",
      "            \"id\": \"NIFCELL:nifext_46\",\n",
      "            \"name\": \"Thalamus interneuron small\"\n",
      "        },\n",
      "        {\n",
      "            \"id\": \"NIFORG:birnlex_160\",\n",
      "            \"name\": \"Rat\"\n",
      "        }\n",
      "    ],\n",
      "    \"version\": \"1\"\n",
      "}\n"
     ]
    }
   ],
   "source": [
    "import json\n",
    "record = resultDF[resultDF[\"Transmembrane ionic current\"] == \"Fast voltage-gated potassium (Kf) current\"]\n",
    "print(json.dumps(record[\"obj_annotation\"].values[0].toJSON(), \n",
    "                 sort_keys=True, indent=4, separators=(',', ': ')))"
   ]
  },
  {
   "cell_type": "markdown",
   "metadata": {},
   "source": [
    "### Showing the annotated text in its context"
   ]
  },
  {
   "cell_type": "code",
   "execution_count": 9,
   "metadata": {
    "collapsed": false
   },
   "outputs": [
    {
     "data": {
      "text/html": [
       "st.\n",
       "Thus, our final model comprised the following: gLEAK was modeled\n",
       "with a reversal potential of Ϫ79 mV and conductance of 150 ␮s/cm 2, and\n",
       "gH had a reversal potential of Ϫ45 mV and peak conductance of 150\n",
       "␮s/cm 2. T-type Ca2ϩ channels ( gT) were modeled with a reversal potential of 120 mV and a permeability of 0.7 ␮m/s. The gCAN had a conductance of 250 ␮S/cm 2 and reversal potential of Ϫ20 mV. <b>The gKIR and the\n",
       "fast voltage-gated potassium channel ( gKf) had conductances of 20 ␮s/\n",
       "cm 2 and 50 mS/cm 2, respectively. Both potassium channels had reversal\n",
       "potentials of Ϫ100 </b>mV. The gNa had conductance of 50 mS/cm 2 and\n",
       "reversal potential of 50 mV. Throughout this manuscript, when referring\n",
       "to the ability of gT to provide current, we use the term “conductance”\n",
       "rather than “permeability.” Whereas the model is in actuality based on\n",
       "permeability rather than conductance, we use this naming convention to\n",
       "simplify the text.\n",
       "Simulations were solved with a fixed time step of "
      ],
      "text/plain": [
       "<IPython.core.display.HTML object>"
      ]
     },
     "execution_count": 9,
     "metadata": {},
     "output_type": "execute_result"
    }
   ],
   "source": [
    "nbContextChar = 400\n",
    "context = record[\"obj_annotation\"].values[0].getContext(nbContextChar)\n",
    "from IPython.display import HTML\n",
    "HTML(context[:nbContextChar] +  '<b>' + context[nbContextChar:-nbContextChar]\n",
    "      + '</b>' + context[-nbContextChar:])"
   ]
  }
 ],
 "metadata": {
  "kernelspec": {
   "display_name": "Python 3",
   "language": "python",
   "name": "python3"
  },
  "language_info": {
   "codemirror_mode": {
    "name": "ipython",
    "version": 3
   },
   "file_extension": ".py",
   "mimetype": "text/x-python",
   "name": "python",
   "nbconvert_exporter": "python",
   "pygments_lexer": "ipython3",
   "version": "3.4.3"
  }
 },
 "nbformat": 4,
 "nbformat_minor": 0
}
