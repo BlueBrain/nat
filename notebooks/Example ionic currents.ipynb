{
 "cells": [
  {
   "cell_type": "markdown",
   "metadata": {},
   "source": [
    "### Installation of other standard toolboxes"
   ]
  },
  {
   "cell_type": "code",
   "execution_count": 9,
   "metadata": {
    "collapsed": true
   },
   "outputs": [],
   "source": [
    "!pip3 install -q matplotlib seaborn gitpython --user"
   ]
  },
  {
   "cell_type": "markdown",
   "metadata": {},
   "source": [
    "### Downloading the corpus"
   ]
  },
  {
   "cell_type": "code",
   "execution_count": 20,
   "metadata": {
    "collapsed": true
   },
   "outputs": [],
   "source": [
    "from git import Repo\n",
    "import os\n",
    "\n",
    "git_url = \"https://github.com/BlueBrain/corpus-thalamus.git\"\n",
    "repo_dir = os.path.join(os.getcwd(), \"neurocuratorDB\")\n",
    "if not os.path.isdir(repo_dir):\n",
    "    Repo.clone_from(git_url, repo_dir)\n",
    "else:\n",
    "    Repo(repo_dir).remotes.origin.pull()"
   ]
  },
  {
   "cell_type": "markdown",
   "metadata": {},
   "source": [
    "### Imports"
   ]
  },
  {
   "cell_type": "code",
   "execution_count": 11,
   "metadata": {
    "collapsed": true
   },
   "outputs": [],
   "source": [
    "# Stadard imports\n",
    "import sys, os\n",
    "import matplotlib.pylab as plt\n",
    "import seaborn as sns\n",
    "import quantities as pq\n",
    "import numpy as np\n",
    "\n",
    "# NAT imports\n",
    "from nat.annotationSearch import ParameterSearch, ConditionAtom"
   ]
  },
  {
   "cell_type": "markdown",
   "metadata": {},
   "source": [
    "### Searching for annotated maximal ionic current conductances and showing the three first records"
   ]
  },
  {
   "cell_type": "code",
   "execution_count": 12,
   "metadata": {},
   "outputs": [
    {
     "data": {
      "text/html": [
       "<div>\n",
       "<style>\n",
       "    .dataframe thead tr:only-child th {\n",
       "        text-align: right;\n",
       "    }\n",
       "\n",
       "    .dataframe thead th {\n",
       "        text-align: left;\n",
       "    }\n",
       "\n",
       "    .dataframe tbody tr th {\n",
       "        vertical-align: top;\n",
       "    }\n",
       "</style>\n",
       "<table border=\"1\" class=\"dataframe\">\n",
       "  <thead>\n",
       "    <tr style=\"text-align: right;\">\n",
       "      <th></th>\n",
       "      <th>AgeCategories</th>\n",
       "      <th>Cell</th>\n",
       "      <th>Context</th>\n",
       "      <th>Parameter instance ID</th>\n",
       "      <th>Parameter name</th>\n",
       "      <th>Parameter type ID</th>\n",
       "      <th>Result type</th>\n",
       "      <th>Species</th>\n",
       "      <th>Text</th>\n",
       "      <th>Transmembrane ionic current</th>\n",
       "      <th>Unit</th>\n",
       "      <th>Values</th>\n",
       "      <th>neuron part</th>\n",
       "      <th>obj_annotation</th>\n",
       "      <th>obj_parameter</th>\n",
       "    </tr>\n",
       "  </thead>\n",
       "  <tbody>\n",
       "    <tr>\n",
       "      <th>0</th>\n",
       "      <td>[]</td>\n",
       "      <td>Thalamus ventroposterior nucleus principal neuron</td>\n",
       "      <td>RMP (the reversal\\npotential of the total I-V...</td>\n",
       "      <td>baa995d0-02f0-11e6-ad29-64006a4c56ef</td>\n",
       "      <td>conductance_ion_curr_max</td>\n",
       "      <td>BBP-030003</td>\n",
       "      <td>pointValue</td>\n",
       "      <td>[{'id': 'NIFORG:birnlex_167', 'name': 'Mouse'}...</td>\n",
       "      <td>The maximum conductance for IA ( \u0002gA \b 5.5 \u0006 1...</td>\n",
       "      <td>A current</td>\n",
       "      <td>S/cm^2</td>\n",
       "      <td>0.00550</td>\n",
       "      <td></td>\n",
       "      <td>\"945825fe-02f0-11e6-ad29-64006a4c56ef\";\"\";\"&lt;cl...</td>\n",
       "      <td>{'isExperimentProperty': False, 'description':...</td>\n",
       "    </tr>\n",
       "    <tr>\n",
       "      <th>1</th>\n",
       "      <td>[]</td>\n",
       "      <td>Thalamus relay cell</td>\n",
       "      <td>ones than\\nthat in relay neurones, the mean si...</td>\n",
       "      <td>4adad790-a12a-11e6-98a4-64006a4c56ef</td>\n",
       "      <td>conductance_ion_curr_max</td>\n",
       "      <td>BBP-030003</td>\n",
       "      <td>pointValue</td>\n",
       "      <td>[{'id': 'NIFORG:birnlex_160', 'name': 'Rat'}]</td>\n",
       "      <td>when the difference in\\nmembrane surface area ...</td>\n",
       "      <td>Low threshold calcium T-current</td>\n",
       "      <td>pA/um^2</td>\n",
       "      <td>1.30000</td>\n",
       "      <td>neuron part</td>\n",
       "      <td>\"08d1eadc-a12a-11e6-98a4-64006a4c56ef\";\"\";\"&lt;cl...</td>\n",
       "      <td>{'isExperimentProperty': False, 'description':...</td>\n",
       "    </tr>\n",
       "    <tr>\n",
       "      <th>2</th>\n",
       "      <td>[]</td>\n",
       "      <td>Thalamocortical cell</td>\n",
       "      <td>sly\\n(Fig. 10B; Crandall et al., 2010; Erringt...</td>\n",
       "      <td>e47cae04-ffdc-11e5-8b78-64006a4c56ef</td>\n",
       "      <td>conductance_ion_curr_max</td>\n",
       "      <td>BBP-030003</td>\n",
       "      <td>pointValue</td>\n",
       "      <td>[{'id': 'NIFORG:birnlex_160', 'name': 'Rat'}]</td>\n",
       "      <td>the range of uniformly distributed gT\\ndensiti...</td>\n",
       "      <td>Low threshold calcium T-current</td>\n",
       "      <td>S/cm^2</td>\n",
       "      <td>0.00007</td>\n",
       "      <td></td>\n",
       "      <td>\"6018bec2-f022-11e5-ab76-c869cd917532\";\"\";\"&lt;cl...</td>\n",
       "      <td>{'isExperimentProperty': False, 'description':...</td>\n",
       "    </tr>\n",
       "  </tbody>\n",
       "</table>\n",
       "</div>"
      ],
      "text/plain": [
       "  AgeCategories                                               Cell  \\\n",
       "0            []  Thalamus ventroposterior nucleus principal neuron   \n",
       "1            []                                Thalamus relay cell   \n",
       "2            []                               Thalamocortical cell   \n",
       "\n",
       "                                             Context  \\\n",
       "0   RMP (the reversal\\npotential of the total I-V...   \n",
       "1  ones than\\nthat in relay neurones, the mean si...   \n",
       "2  sly\\n(Fig. 10B; Crandall et al., 2010; Erringt...   \n",
       "\n",
       "                  Parameter instance ID            Parameter name  \\\n",
       "0  baa995d0-02f0-11e6-ad29-64006a4c56ef  conductance_ion_curr_max   \n",
       "1  4adad790-a12a-11e6-98a4-64006a4c56ef  conductance_ion_curr_max   \n",
       "2  e47cae04-ffdc-11e5-8b78-64006a4c56ef  conductance_ion_curr_max   \n",
       "\n",
       "  Parameter type ID Result type  \\\n",
       "0        BBP-030003  pointValue   \n",
       "1        BBP-030003  pointValue   \n",
       "2        BBP-030003  pointValue   \n",
       "\n",
       "                                             Species  \\\n",
       "0  [{'id': 'NIFORG:birnlex_167', 'name': 'Mouse'}...   \n",
       "1      [{'id': 'NIFORG:birnlex_160', 'name': 'Rat'}]   \n",
       "2      [{'id': 'NIFORG:birnlex_160', 'name': 'Rat'}]   \n",
       "\n",
       "                                                Text  \\\n",
       "0  The maximum conductance for IA ( \u0002gA \b 5.5 \u0006 1...   \n",
       "1  when the difference in\\nmembrane surface area ...   \n",
       "2  the range of uniformly distributed gT\\ndensiti...   \n",
       "\n",
       "       Transmembrane ionic current     Unit   Values  neuron part  \\\n",
       "0                        A current   S/cm^2  0.00550                \n",
       "1  Low threshold calcium T-current  pA/um^2  1.30000  neuron part   \n",
       "2  Low threshold calcium T-current   S/cm^2  0.00007                \n",
       "\n",
       "                                      obj_annotation  \\\n",
       "0  \"945825fe-02f0-11e6-ad29-64006a4c56ef\";\"\";\"<cl...   \n",
       "1  \"08d1eadc-a12a-11e6-98a4-64006a4c56ef\";\"\";\"<cl...   \n",
       "2  \"6018bec2-f022-11e5-ab76-c869cd917532\";\"\";\"<cl...   \n",
       "\n",
       "                                       obj_parameter  \n",
       "0  {'isExperimentProperty': False, 'description':...  \n",
       "1  {'isExperimentProperty': False, 'description':...  \n",
       "2  {'isExperimentProperty': False, 'description':...  "
      ]
     },
     "execution_count": 12,
     "metadata": {},
     "output_type": "execute_result"
    }
   ],
   "source": [
    "searcher = ParameterSearch(repo_dir)\n",
    "searcher.setSearchConditions(ConditionAtom(\"Parameter name\", \"conductance_ion_curr_max\"))\n",
    "searcher.expandRequiredTags = True\n",
    "searcher.onlyCentralTendancy = True\n",
    "resultDF = searcher.search()\n",
    "resultDF[:3]"
   ]
  },
  {
   "cell_type": "markdown",
   "metadata": {},
   "source": [
    "### Checking which conductances have been specified as \"specific conductances\" (i.e., conductance densities) and normalizing the units."
   ]
  },
  {
   "cell_type": "code",
   "execution_count": 13,
   "metadata": {
    "collapsed": true
   },
   "outputs": [],
   "source": [
    "isSpecific = []\n",
    "allConductances = []\n",
    "for v, u in zip(resultDF[\"Values\"], resultDF[\"Unit\"]):\n",
    "    try:\n",
    "        allConductances.append(float(pq.Quantity(v, u).rescale('S/cm**2')))\n",
    "        isSpecific.append(True)\n",
    "    except:\n",
    "        isSpecific.append(False)"
   ]
  },
  {
   "cell_type": "markdown",
   "metadata": {},
   "source": [
    "### Plotting the result of our query"
   ]
  },
  {
   "cell_type": "code",
   "execution_count": 14,
   "metadata": {},
   "outputs": [
    {
     "data": {
      "image/png": "[encoded data removed]",
      "text/plain": [
       "<matplotlib.figure.Figure at 0x7f17c9f55f28>"
      ]
     },
     "metadata": {},
     "output_type": "display_data"
    }
   ],
   "source": [
    "%matplotlib inline\n",
    "\n",
    "resultDF = resultDF[isSpecific]\n",
    "resultDF[\"Values\"] = np.log10(allConductances)\n",
    "\n",
    "# Plotting a violin plot for annotated values for specific conductances\n",
    "# of the various kind of ionic currents \n",
    "g = sns.violinplot(y=\"Transmembrane ionic current\", x=\"Values\", data=resultDF, bw=0.25)\n",
    "g = sns.swarmplot( y=\"Transmembrane ionic current\", x=\"Values\", data=resultDF)\n",
    "g.set_ylabel(\"\")\n",
    "g.set_xlabel(\"Specific conductance ($S/cm^2$)\")\n",
    "g.set_xticklabels([('%.0e' % 10**nb) for nb in g.get_xticks()]) \n",
    "plt.plot()\n",
    "plt.savefig('example_currents.png', bbox_inches='tight', transparent=True, dpi=200)"
   ]
  },
  {
   "cell_type": "markdown",
   "metadata": {
    "collapsed": true
   },
   "source": [
    "### Printing the JSON representation of a specific annotation of the plot"
   ]
  },
  {
   "cell_type": "code",
   "execution_count": 15,
   "metadata": {},
   "outputs": [
    {
     "name": "stdout",
     "output_type": "stream",
     "text": [
      "{\n",
      "    \"annotId\": \"8e3edae6-ef34-11e5-ba5d-c869cd917532\",\n",
      "    \"authors\": [\n",
      "        \"iavarone\",\n",
      "        \"oreilly\"\n",
      "    ],\n",
      "    \"comment\": \"Fast potassium current parameters\",\n",
      "    \"experimentProperties\": [],\n",
      "    \"localizer\": {\n",
      "        \"location\": 26404,\n",
      "        \"text\": \"The gKIR and the\\nfast voltage-gated potassium channel ( gKf) had conductances of 20 \\u0002s/\\ncm2 and 50 mS/cm2, respectively. Both potassium channels had reversal\\npotentials of 100 mV.\",\n",
      "        \"type\": \"text\"\n",
      "    },\n",
      "    \"parameters\": [\n",
      "        {\n",
      "            \"description\": {\n",
      "                \"depVar\": {\n",
      "                    \"typeId\": \"BBP-030003\",\n",
      "                    \"values\": {\n",
      "                        \"statistic\": \"raw\",\n",
      "                        \"type\": \"simple\",\n",
      "                        \"unit\": \"mS/cm^2\",\n",
      "                        \"values\": [\n",
      "                            50.0\n",
      "                        ]\n",
      "                    }\n",
      "                },\n",
      "                \"type\": \"pointValue\"\n",
      "            },\n",
      "            \"id\": \"e47c93ba-ffdc-11e5-8b78-64006a4c56ef\",\n",
      "            \"isExperimentProperty\": false,\n",
      "            \"requiredTags\": [\n",
      "                {\n",
      "                    \"id\": \"BBP_nlx_0020\",\n",
      "                    \"name\": \"Fast voltage-gated potassium (Kf) current\",\n",
      "                    \"rootId\": \"nifext_8054\"\n",
      "                },\n",
      "                {\n",
      "                    \"id\": \"NIFCELL:nifext_41\",\n",
      "                    \"name\": \"Thalamocortical cell\",\n",
      "                    \"rootId\": \"sao1813327414\"\n",
      "                }\n",
      "            ]\n",
      "        },\n",
      "        {\n",
      "            \"description\": {\n",
      "                \"depVar\": {\n",
      "                    \"typeId\": \"BBP-011001\",\n",
      "                    \"values\": {\n",
      "                        \"statistic\": \"raw\",\n",
      "                        \"type\": \"simple\",\n",
      "                        \"unit\": \"mV\",\n",
      "                        \"values\": [\n",
      "                            -100.0\n",
      "                        ]\n",
      "                    }\n",
      "                },\n",
      "                \"type\": \"pointValue\"\n",
      "            },\n",
      "            \"id\": \"e47c95c2-ffdc-11e5-8b78-64006a4c56ef\",\n",
      "            \"isExperimentProperty\": false,\n",
      "            \"requiredTags\": [\n",
      "                {\n",
      "                    \"id\": \"BBP_nlx_0020\",\n",
      "                    \"name\": \"Fast voltage-gated potassium (Kf) current\",\n",
      "                    \"rootId\": \"nifext_8054\"\n",
      "                },\n",
      "                {\n",
      "                    \"id\": \"NIFCELL:nifext_41\",\n",
      "                    \"name\": \"Thalamocortical cell\",\n",
      "                    \"rootId\": \"sao1813327414\"\n",
      "                }\n",
      "            ]\n",
      "        }\n",
      "    ],\n",
      "    \"pubId\": \"10.1523/JNEUROSCI.2740-15.2015\",\n",
      "    \"tags\": [\n",
      "        {\n",
      "            \"id\": \"NIFINV:birnlex_2300\",\n",
      "            \"name\": \"Computational model\"\n",
      "        },\n",
      "        {\n",
      "            \"id\": \"NIFCELL:nifext_46\",\n",
      "            \"name\": \"Thalamus interneuron small\"\n",
      "        },\n",
      "        {\n",
      "            \"id\": \"NIFORG:birnlex_160\",\n",
      "            \"name\": \"Rat\"\n",
      "        }\n",
      "    ],\n",
      "    \"version\": \"1\"\n",
      "}\n"
     ]
    }
   ],
   "source": [
    "import json\n",
    "record = resultDF[resultDF[\"Transmembrane ionic current\"] == \"Fast voltage-gated potassium (Kf) current\"]\n",
    "print(json.dumps(record[\"obj_annotation\"].values[0].toJSON(), \n",
    "                 sort_keys=True, indent=4, separators=(',', ': ')))"
   ]
  },
  {
   "cell_type": "markdown",
   "metadata": {},
   "source": [
    "### Showing the annotated text in its context"
   ]
  },
  {
   "cell_type": "code",
   "execution_count": 16,
   "metadata": {},
   "outputs": [
    {
     "data": {
      "text/html": [
       "st.\n",
       "Thus, our final model comprised the following: gLEAK was modeled\n",
       "with a reversal potential of Ϫ79 mV and conductance of 150 ␮s/cm 2, and\n",
       "gH had a reversal potential of Ϫ45 mV and peak conductance of 150\n",
       "␮s/cm 2. T-type Ca2ϩ channels ( gT) were modeled with a reversal potential of 120 mV and a permeability of 0.7 ␮m/s. The gCAN had a conductance of 250 ␮S/cm 2 and reversal potential of Ϫ20 mV. <b>The gKIR and the\n",
       "fast voltage-gated potassium channel ( gKf) had conductances of 20 ␮s/\n",
       "cm 2 and 50 mS/cm 2, respectively. Both potassium channels had reversal\n",
       "potentials of Ϫ100 </b>mV. The gNa had conductance of 50 mS/cm 2 and\n",
       "reversal potential of 50 mV. Throughout this manuscript, when referring\n",
       "to the ability of gT to provide current, we use the term “conductance”\n",
       "rather than “permeability.” Whereas the model is in actuality based on\n",
       "permeability rather than conductance, we use this naming convention to\n",
       "simplify the text.\n",
       "Simulations were solved with a fixed time step of "
      ],
      "text/plain": [
       "<IPython.core.display.HTML object>"
      ]
     },
     "execution_count": 16,
     "metadata": {},
     "output_type": "execute_result"
    }
   ],
   "source": [
    "nbContextChar = 400\n",
    "context = record[\"obj_annotation\"].values[0].getContext(nbContextChar)\n",
    "from IPython.display import HTML\n",
    "HTML(context[:nbContextChar] +  '<b>' + context[nbContextChar:-nbContextChar]\n",
    "      + '</b>' + context[-nbContextChar:])"
   ]
  }
 ],
 "metadata": {
  "kernelspec": {
   "display_name": "Python 3",
   "language": "python",
   "name": "python3"
  },
  "language_info": {
   "codemirror_mode": {
    "name": "ipython",
    "version": 3
   },
   "file_extension": ".py",
   "mimetype": "text/x-python",
   "name": "python",
   "nbconvert_exporter": "python",
   "pygments_lexer": "ipython3",
   "version": "3.5.2"
  }
 },
 "nbformat": 4,
 "nbformat_minor": 1
}
