{
 "cells": [
  {
   "cell_type": "markdown",
   "metadata": {},
   "source": [
    "### Installation of the NeuroAnnotation Toolbox (NAT)"
   ]
  },
  {
   "cell_type": "code",
   "execution_count": 1,
   "metadata": {
    "collapsed": false
   },
   "outputs": [
    {
     "name": "stdout",
     "output_type": "stream",
     "text": [
      "\u001b[31mException:\r\n",
      "Traceback (most recent call last):\r\n",
      "  File \"/home/oreilly/.local/lib/python3.4/site-packages/pip/basecommand.py\", line 215, in main\r\n",
      "    status = self.run(options, args)\r\n",
      "  File \"/home/oreilly/.local/lib/python3.4/site-packages/pip/commands/install.py\", line 317, in run\r\n",
      "    prefix=options.prefix_path,\r\n",
      "  File \"/home/oreilly/.local/lib/python3.4/site-packages/pip/req/req_set.py\", line 742, in install\r\n",
      "    **kwargs\r\n",
      "  File \"/home/oreilly/.local/lib/python3.4/site-packages/pip/req/req_install.py\", line 831, in install\r\n",
      "    self.move_wheel_files(self.source_dir, root=root, prefix=prefix)\r\n",
      "  File \"/home/oreilly/.local/lib/python3.4/site-packages/pip/req/req_install.py\", line 1032, in move_wheel_files\r\n",
      "    isolated=self.isolated,\r\n",
      "  File \"/home/oreilly/.local/lib/python3.4/site-packages/pip/wheel.py\", line 346, in move_wheel_files\r\n",
      "    clobber(source, lib_dir, True)\r\n",
      "  File \"/home/oreilly/.local/lib/python3.4/site-packages/pip/wheel.py\", line 317, in clobber\r\n",
      "    ensure_dir(destdir)\r\n",
      "  File \"/home/oreilly/.local/lib/python3.4/site-packages/pip/utils/__init__.py\", line 83, in ensure_dir\r\n",
      "    os.makedirs(path)\r\n",
      "  File \"/usr/lib/python3.4/os.py\", line 237, in makedirs\r\n",
      "    mkdir(name, mode)\r\n",
      "PermissionError: [Errno 13] Permission denied: '/usr/local/lib/python3.4/dist-packages/numpy'\u001b[0m\r\n"
     ]
    }
   ],
   "source": [
    "!pip3 uninstall -q -y nat\n",
    "!pip3 install -q --upgrade  --force-reinstall  git+https://github.com/christian-oreilly/neurocurator.git@natLib"
   ]
  },
  {
   "cell_type": "markdown",
   "metadata": {},
   "source": [
    "### Installation of other standard toolboxes"
   ]
  },
  {
   "cell_type": "code",
   "execution_count": 2,
   "metadata": {
    "collapsed": true
   },
   "outputs": [],
   "source": [
    "!pip3 install -q matplotlib seaborn gitpython"
   ]
  },
  {
   "cell_type": "markdown",
   "metadata": {},
   "source": [
    "### Downloading the corpus"
   ]
  },
  {
   "cell_type": "code",
   "execution_count": 3,
   "metadata": {
    "collapsed": true
   },
   "outputs": [],
   "source": [
    "from git import Repo\n",
    "import os\n",
    "\n",
    "git_url = \"https://github.com/christian-oreilly/corpus-thalamus.git\"\n",
    "repo_dir = os.path.join(os.getcwd(), \"neurocuratorDB\")\n",
    "if not os.path.isdir(repo_dir):\n",
    "    Repo.clone_from(git_url, repo_dir)\n",
    "else:\n",
    "    Repo(repo_dir).remotes.origin.pull()"
   ]
  },
  {
   "cell_type": "markdown",
   "metadata": {},
   "source": [
    "### Imports"
   ]
  },
  {
   "cell_type": "code",
   "execution_count": 11,
   "metadata": {
    "collapsed": false
   },
   "outputs": [],
   "source": [
    "# Stadard imports\n",
    "import sys, os\n",
    "import matplotlib.pylab as plt\n",
    "import seaborn as sns\n",
    "import quantities as pq\n",
    "import numpy as np\n",
    "\n",
    "# NAT imports\n",
    "from nat.annotationSearch import ParameterSearch, ConditionAtom"
   ]
  },
  {
   "cell_type": "markdown",
   "metadata": {},
   "source": [
    "### Searching for annotated maximal ionic current conductances and showing the three first records"
   ]
  },
  {
   "cell_type": "code",
   "execution_count": 12,
   "metadata": {
    "collapsed": false
   },
   "outputs": [
    {
     "data": {
      "text/html": [
       "<div>\n",
       "<table border=\"1\" class=\"dataframe\">\n",
       "  <thead>\n",
       "    <tr style=\"text-align: right;\">\n",
       "      <th></th>\n",
       "      <th>Cell</th>\n",
       "      <th>Context</th>\n",
       "      <th>Parameter instance ID</th>\n",
       "      <th>Parameter name</th>\n",
       "      <th>Parameter type ID</th>\n",
       "      <th>Result type</th>\n",
       "      <th>Text</th>\n",
       "      <th>Transmembrane ionic current</th>\n",
       "      <th>Unit</th>\n",
       "      <th>Values</th>\n",
       "      <th>obj_annotation</th>\n",
       "      <th>obj_parameter</th>\n",
       "    </tr>\n",
       "  </thead>\n",
       "  <tbody>\n",
       "    <tr>\n",
       "      <th>0</th>\n",
       "      <td>Thalamus relay cell</td>\n",
       "      <td></td>\n",
       "      <td>3e8c9756-02df-11e6-93a1-3417ebb8f5ca</td>\n",
       "      <td>conductance_ion_curr_max</td>\n",
       "      <td>BBP-030003</td>\n",
       "      <td>pointValue</td>\n",
       "      <td>Table 2</td>\n",
       "      <td>Inward rectifier (h-type) current</td>\n",
       "      <td>mS/cm^2</td>\n",
       "      <td>0.03</td>\n",
       "      <td>\"7aabe8de-02dc-11e6-93a1-3417ebb8f5ca\";\"Values...</td>\n",
       "      <td>{'id': '3e8c9756-02df-11e6-93a1-3417ebb8f5ca',...</td>\n",
       "    </tr>\n",
       "    <tr>\n",
       "      <th>1</th>\n",
       "      <td>Thalamus relay cell</td>\n",
       "      <td></td>\n",
       "      <td>389f0aec-02dd-11e6-93a1-3417ebb8f5ca</td>\n",
       "      <td>conductance_ion_curr_max</td>\n",
       "      <td>BBP-030003</td>\n",
       "      <td>pointValue</td>\n",
       "      <td>Table 2</td>\n",
       "      <td>Sodium transient fast current</td>\n",
       "      <td>mS/cm^2</td>\n",
       "      <td>300.00</td>\n",
       "      <td>\"7aabe8de-02dc-11e6-93a1-3417ebb8f5ca\";\"Values...</td>\n",
       "      <td>{'id': '389f0aec-02dd-11e6-93a1-3417ebb8f5ca',...</td>\n",
       "    </tr>\n",
       "    <tr>\n",
       "      <th>2</th>\n",
       "      <td>Thalamus ventroposterior nucleus principal neuron</td>\n",
       "      <td>nces with biophysical parameters\\ntaken from p...</td>\n",
       "      <td>ceabe9c4-f289-11e5-b804-64006a4c56ef</td>\n",
       "      <td>conductance_ion_curr_max</td>\n",
       "      <td>BBP-030003</td>\n",
       "      <td>pointValue</td>\n",
       "      <td>Fast transiente sodium current</td>\n",
       "      <td>Sodium transient fast current</td>\n",
       "      <td>S/cm^2</td>\n",
       "      <td>0.01</td>\n",
       "      <td>\"9091d010-ea76-11e5-a1a8-c869cd917532\";\"From D...</td>\n",
       "      <td>{'id': 'ceabe9c4-f289-11e5-b804-64006a4c56ef',...</td>\n",
       "    </tr>\n",
       "  </tbody>\n",
       "</table>\n",
       "</div>"
      ],
      "text/plain": [
       "                                                Cell  \\\n",
       "0                                Thalamus relay cell   \n",
       "1                                Thalamus relay cell   \n",
       "2  Thalamus ventroposterior nucleus principal neuron   \n",
       "\n",
       "                                             Context  \\\n",
       "0                                                      \n",
       "1                                                      \n",
       "2  nces with biophysical parameters\\ntaken from p...   \n",
       "\n",
       "                  Parameter instance ID            Parameter name  \\\n",
       "0  3e8c9756-02df-11e6-93a1-3417ebb8f5ca  conductance_ion_curr_max   \n",
       "1  389f0aec-02dd-11e6-93a1-3417ebb8f5ca  conductance_ion_curr_max   \n",
       "2  ceabe9c4-f289-11e5-b804-64006a4c56ef  conductance_ion_curr_max   \n",
       "\n",
       "  Parameter type ID Result type                             Text  \\\n",
       "0        BBP-030003  pointValue                          Table 2   \n",
       "1        BBP-030003  pointValue                          Table 2   \n",
       "2        BBP-030003  pointValue  Fast transiente sodium current    \n",
       "\n",
       "         Transmembrane ionic current     Unit  Values  \\\n",
       "0  Inward rectifier (h-type) current  mS/cm^2    0.03   \n",
       "1      Sodium transient fast current  mS/cm^2  300.00   \n",
       "2      Sodium transient fast current   S/cm^2    0.01   \n",
       "\n",
       "                                      obj_annotation  \\\n",
       "0  \"7aabe8de-02dc-11e6-93a1-3417ebb8f5ca\";\"Values...   \n",
       "1  \"7aabe8de-02dc-11e6-93a1-3417ebb8f5ca\";\"Values...   \n",
       "2  \"9091d010-ea76-11e5-a1a8-c869cd917532\";\"From D...   \n",
       "\n",
       "                                       obj_parameter  \n",
       "0  {'id': '3e8c9756-02df-11e6-93a1-3417ebb8f5ca',...  \n",
       "1  {'id': '389f0aec-02dd-11e6-93a1-3417ebb8f5ca',...  \n",
       "2  {'id': 'ceabe9c4-f289-11e5-b804-64006a4c56ef',...  "
      ]
     },
     "execution_count": 12,
     "metadata": {},
     "output_type": "execute_result"
    }
   ],
   "source": [
    "searcher = ParameterSearch(repo_dir)\n",
    "searcher.setSearchConditions(ConditionAtom(\"Parameter name\", \"conductance_ion_curr_max\"))\n",
    "searcher.expandRequiredTags = True\n",
    "searcher.onlyCentralTendancy = True\n",
    "resultDF = searcher.search()\n",
    "resultDF[:3]"
   ]
  },
  {
   "cell_type": "markdown",
   "metadata": {},
   "source": [
    "### Checking which conductances have been specified as \"specific conductances\" (i.e., conductance densities) and normalizing the units."
   ]
  },
  {
   "cell_type": "code",
   "execution_count": 13,
   "metadata": {
    "collapsed": true
   },
   "outputs": [],
   "source": [
    "isSpecific = []\n",
    "allConductances = []\n",
    "for v, u in zip(resultDF[\"Values\"], resultDF[\"Unit\"]):\n",
    "    try:\n",
    "        allConductances.append(float(pq.Quantity(v, u).rescale('S/cm**2')))\n",
    "        isSpecific.append(True)\n",
    "    except:\n",
    "        isSpecific.append(False)"
   ]
  },
  {
   "cell_type": "markdown",
   "metadata": {
    "collapsed": false
   },
   "source": [
    "### Plotting the result of our query"
   ]
  },
  {
   "cell_type": "code",
   "execution_count": 14,
   "metadata": {
    "collapsed": false
   },
   "outputs": [
    {
     "data": {
      "image/png": "[encoded data removed]",
      "text/plain": [
       "<matplotlib.figure.Figure at 0x7f2080ec8358>"
      ]
     },
     "metadata": {},
     "output_type": "display_data"
    }
   ],
   "source": [
    "%matplotlib inline\n",
    "\n",
    "resultDF = resultDF[isSpecific]\n",
    "resultDF[\"Values\"] = np.log10(allConductances)\n",
    "\n",
    "# Plotting a violin plot for annotated values for specific conductances\n",
    "# of the various kind of ionic currents \n",
    "g = sns.violinplot(y=\"Transmembrane ionic current\", x=\"Values\", data=resultDF, bw=0.25)\n",
    "g = sns.swarmplot( y=\"Transmembrane ionic current\", x=\"Values\", data=resultDF)\n",
    "g.set_ylabel(\"\")\n",
    "g.set_xlabel(\"Specific conductance ($S/cm^2$)\")\n",
    "g.set_xticklabels([('%.0e' % 10**nb) for nb in g.get_xticks()]) \n",
    "plt.plot()\n",
    "plt.savefig('example_currents.png', bbox_inches='tight', transparent=True, dpi=200)"
   ]
  },
  {
   "cell_type": "markdown",
   "metadata": {
    "collapsed": true
   },
   "source": [
    "### Printing the JSON representation of a specific annotation of the plot"
   ]
  },
  {
   "cell_type": "code",
   "execution_count": 9,
   "metadata": {
    "collapsed": false
   },
   "outputs": [
    {
     "name": "stdout",
     "output_type": "stream",
     "text": [
      "{\n",
      "    \"annotId\": \"8e3edae6-ef34-11e5-ba5d-c869cd917532\",\n",
      "    \"authors\": [\n",
      "        \"iavarone\",\n",
      "        \"oreilly\"\n",
      "    ],\n",
      "    \"comment\": \"Fast potassium current parameters\",\n",
      "    \"experimentProperties\": [],\n",
      "    \"localizer\": {\n",
      "        \"location\": 26404,\n",
      "        \"text\": \"The gKIR and the\\nfast voltage-gated potassium channel ( gKf) had conductances of 20 \\u0002s/\\ncm2 and 50 mS/cm2, respectively. Both potassium channels had reversal\\npotentials of 100 mV.\",\n",
      "        \"type\": \"text\"\n",
      "    },\n",
      "    \"parameters\": [\n",
      "        {\n",
      "            \"description\": {\n",
      "                \"depVar\": {\n",
      "                    \"typeId\": \"BBP-030003\",\n",
      "                    \"values\": {\n",
      "                        \"statistic\": \"raw\",\n",
      "                        \"type\": \"simple\",\n",
      "                        \"unit\": \"mS/cm^2\",\n",
      "                        \"values\": [\n",
      "                            50.0\n",
      "                        ]\n",
      "                    }\n",
      "                },\n",
      "                \"type\": \"pointValue\"\n",
      "            },\n",
      "            \"id\": \"e47c93ba-ffdc-11e5-8b78-64006a4c56ef\",\n",
      "            \"isExperimentProperty\": false,\n",
      "            \"requiredTags\": [\n",
      "                {\n",
      "                    \"id\": \"BBP_nlx_0020\",\n",
      "                    \"name\": \"Fast voltage-gated potassium (Kf) current\",\n",
      "                    \"rootId\": \"nifext_8054\"\n",
      "                },\n",
      "                {\n",
      "                    \"id\": \"NIFCELL:nifext_41\",\n",
      "                    \"name\": \"Thalamocortical cell\",\n",
      "                    \"rootId\": \"sao1813327414\"\n",
      "                }\n",
      "            ]\n",
      "        },\n",
      "        {\n",
      "            \"description\": {\n",
      "                \"depVar\": {\n",
      "                    \"typeId\": \"BBP-011001\",\n",
      "                    \"values\": {\n",
      "                        \"statistic\": \"raw\",\n",
      "                        \"type\": \"simple\",\n",
      "                        \"unit\": \"mV\",\n",
      "                        \"values\": [\n",
      "                            -100.0\n",
      "                        ]\n",
      "                    }\n",
      "                },\n",
      "                \"type\": \"pointValue\"\n",
      "            },\n",
      "            \"id\": \"e47c95c2-ffdc-11e5-8b78-64006a4c56ef\",\n",
      "            \"isExperimentProperty\": false,\n",
      "            \"requiredTags\": [\n",
      "                {\n",
      "                    \"id\": \"BBP_nlx_0020\",\n",
      "                    \"name\": \"Fast voltage-gated potassium (Kf) current\",\n",
      "                    \"rootId\": \"nifext_8054\"\n",
      "                },\n",
      "                {\n",
      "                    \"id\": \"NIFCELL:nifext_41\",\n",
      "                    \"name\": \"Thalamocortical cell\",\n",
      "                    \"rootId\": \"sao1813327414\"\n",
      "                }\n",
      "            ]\n",
      "        }\n",
      "    ],\n",
      "    \"pubId\": \"10.1523/JNEUROSCI.2740-15.2015\",\n",
      "    \"tags\": [\n",
      "        {\n",
      "            \"id\": \"NIFINV:birnlex_2300\",\n",
      "            \"name\": \"Computational model\"\n",
      "        },\n",
      "        {\n",
      "            \"id\": \"NIFCELL:nifext_46\",\n",
      "            \"name\": \"Thalamus interneuron small\"\n",
      "        },\n",
      "        {\n",
      "            \"id\": \"NIFORG:birnlex_160\",\n",
      "            \"name\": \"Rat\"\n",
      "        }\n",
      "    ],\n",
      "    \"version\": \"1\"\n",
      "}\n"
     ]
    }
   ],
   "source": [
    "import json\n",
    "record = resultDF[resultDF[\"Transmembrane ionic current\"] == \"Fast voltage-gated potassium (Kf) current\"]\n",
    "print(json.dumps(record[\"obj_annotation\"].values[0].toJSON(), \n",
    "                 sort_keys=True, indent=4, separators=(',', ': ')))"
   ]
  },
  {
   "cell_type": "markdown",
   "metadata": {},
   "source": [
    "### Showing the annotated text in its context"
   ]
  },
  {
   "cell_type": "code",
   "execution_count": 10,
   "metadata": {
    "collapsed": false
   },
   "outputs": [
    {
     "data": {
      "text/html": [
       "st.\n",
       "Thus, our final model comprised the following: gLEAK was modeled\n",
       "with a reversal potential of Ϫ79 mV and conductance of 150 ␮s/cm 2, and\n",
       "gH had a reversal potential of Ϫ45 mV and peak conductance of 150\n",
       "␮s/cm 2. T-type Ca2ϩ channels ( gT) were modeled with a reversal potential of 120 mV and a permeability of 0.7 ␮m/s. The gCAN had a conductance of 250 ␮S/cm 2 and reversal potential of Ϫ20 mV. <b>The gKIR and the\n",
       "fast voltage-gated potassium channel ( gKf) had conductances of 20 ␮s/\n",
       "cm 2 and 50 mS/cm 2, respectively. Both potassium channels had reversal\n",
       "potentials of Ϫ100 </b>mV. The gNa had conductance of 50 mS/cm 2 and\n",
       "reversal potential of 50 mV. Throughout this manuscript, when referring\n",
       "to the ability of gT to provide current, we use the term “conductance”\n",
       "rather than “permeability.” Whereas the model is in actuality based on\n",
       "permeability rather than conductance, we use this naming convention to\n",
       "simplify the text.\n",
       "Simulations were solved with a fixed time step of "
      ],
      "text/plain": [
       "<IPython.core.display.HTML object>"
      ]
     },
     "execution_count": 10,
     "metadata": {},
     "output_type": "execute_result"
    }
   ],
   "source": [
    "nbContextChar = 400\n",
    "context = record[\"obj_annotation\"].values[0].getContext(nbContextChar)\n",
    "from IPython.display import HTML\n",
    "HTML(context[:nbContextChar] +  '<b>' + context[nbContextChar:-nbContextChar]\n",
    "      + '</b>' + context[-nbContextChar:])"
   ]
  }
 ],
 "metadata": {
  "kernelspec": {
   "display_name": "Python 3",
   "language": "python",
   "name": "python3"
  },
  "language_info": {
   "codemirror_mode": {
    "name": "ipython",
    "version": 3
   },
   "file_extension": ".py",
   "mimetype": "text/x-python",
   "name": "python",
   "nbconvert_exporter": "python",
   "pygments_lexer": "ipython3",
   "version": "3.4.3"
  }
 },
 "nbformat": 4,
 "nbformat_minor": 0
}
