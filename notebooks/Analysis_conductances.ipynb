{
 "cells": [
  {
   "cell_type": "markdown",
   "metadata": {},
   "source": [
    "# Statistical analysis of curated parameter values\n",
    "\n",
    "This notebook illustrates how the parameter values available in an annotation corpus can be used to perform simple statistical analyses.\n",
    "\n",
    "**NOTE**: These analyses are for demonstration purpose only. Their outcome should not be interpreted as indicative a genuine relationships, the data sample being too sparse and heterogeneous at that point to claim any scientific validity for the conclusion of the analyses demonstrated here."
   ]
  },
  {
   "cell_type": "markdown",
   "metadata": {},
   "source": [
    "### Downloading/updating the corpus"
   ]
  },
  {
   "cell_type": "code",
   "execution_count": 1,
   "metadata": {},
   "outputs": [],
   "source": [
    "from git import Repo\n",
    "import os\n",
    "\n",
    "git_url = \"https://github.com/christian-oreilly/corpus-thalamus.git\"\n",
    "repo_dir = os.path.join(os.getcwd(), \"neurocuratorDB\")\n",
    "if not os.path.isdir(repo_dir):\n",
    "    Repo.clone_from(git_url, repo_dir)\n",
    "else:\n",
    "    Repo(repo_dir).remotes.origin.pull()"
   ]
  },
  {
   "cell_type": "markdown",
   "metadata": {},
   "source": [
    "### Imports"
   ]
  },
  {
   "cell_type": "code",
   "execution_count": 2,
   "metadata": {},
   "outputs": [
    {
     "name": "stderr",
     "output_type": "stream",
     "text": [
      "/home/oreilly/python_venv/venv-3.4/lib/python3.5/site-packages/statsmodels/compat/pandas.py:56: FutureWarning: The pandas.core.datetools module is deprecated and will be removed in a future version. Please use the pandas.tseries module instead.\n",
      "  from pandas.core import datetools\n"
     ]
    }
   ],
   "source": [
    "# Stadard imports\n",
    "import sys, os\n",
    "import matplotlib.pylab as plt\n",
    "import seaborn as sns\n",
    "import quantities as pq\n",
    "import numpy as np\n",
    "import statsmodels.api as sm\n",
    "from statsmodels.formula.api import ols\n",
    "\n",
    "# NAT imports\n",
    "from nat.annotationSearch import ParameterSearch, ConditionAtom"
   ]
  },
  {
   "cell_type": "markdown",
   "metadata": {},
   "source": [
    "# Looking at curated ionic current conductances"
   ]
  },
  {
   "cell_type": "markdown",
   "metadata": {},
   "source": [
    "### Searching for annotated maximal ionic current conductances and showing the first ten records"
   ]
  },
  {
   "cell_type": "code",
   "execution_count": 3,
   "metadata": {},
   "outputs": [
    {
     "data": {
      "text/html": [
       "<div>\n",
       "<style scoped>\n",
       "    .dataframe tbody tr th:only-of-type {\n",
       "        vertical-align: middle;\n",
       "    }\n",
       "\n",
       "    .dataframe tbody tr th {\n",
       "        vertical-align: top;\n",
       "    }\n",
       "\n",
       "    .dataframe thead th {\n",
       "        text-align: right;\n",
       "    }\n",
       "</style>\n",
       "<table border=\"1\" class=\"dataframe\">\n",
       "  <thead>\n",
       "    <tr style=\"text-align: right;\">\n",
       "      <th></th>\n",
       "      <th>Species</th>\n",
       "      <th>Text</th>\n",
       "      <th>Transmembrane ionic current</th>\n",
       "      <th>Unit</th>\n",
       "      <th>Values</th>\n",
       "      <th>neuron part</th>\n",
       "    </tr>\n",
       "  </thead>\n",
       "  <tbody>\n",
       "    <tr>\n",
       "      <th>0</th>\n",
       "      <td>[{'id': 'NIFORG:birnlex_160', 'name': 'Rat'}]</td>\n",
       "      <td>Table 2</td>\n",
       "      <td>Sodium transient fast current</td>\n",
       "      <td>mS/cm^2</td>\n",
       "      <td>300.000000</td>\n",
       "      <td></td>\n",
       "    </tr>\n",
       "    <tr>\n",
       "      <th>1</th>\n",
       "      <td>[{'id': 'NIFORG:birnlex_160', 'name': 'Rat'}]</td>\n",
       "      <td>our final model comprised the following: gLEAK...</td>\n",
       "      <td>Leak ionic current</td>\n",
       "      <td>uS/cm^2</td>\n",
       "      <td>150.000000</td>\n",
       "      <td></td>\n",
       "    </tr>\n",
       "    <tr>\n",
       "      <th>2</th>\n",
       "      <td>[{'id': 'NIFORG:birnlex_167', 'name': 'Mouse'}]</td>\n",
       "      <td>Table 1</td>\n",
       "      <td>Potassium delayed rectifier</td>\n",
       "      <td>S/cm^2</td>\n",
       "      <td>0.005100</td>\n",
       "      <td>dendrite</td>\n",
       "    </tr>\n",
       "    <tr>\n",
       "      <th>3</th>\n",
       "      <td>[{'id': 'NIFORG:birnlex_160', 'name': 'Rat'}]</td>\n",
       "      <td>The gCAN had a conductance\\nof 250\u0002S/cm2</td>\n",
       "      <td>Calcium activated nonspecific cation current</td>\n",
       "      <td>uS/cm^2</td>\n",
       "      <td>250.000000</td>\n",
       "      <td></td>\n",
       "    </tr>\n",
       "    <tr>\n",
       "      <th>4</th>\n",
       "      <td>[{'id': 'NIFORG:birnlex_160', 'name': 'Rat'}]</td>\n",
       "      <td>when the difference in\\nmembrane surface area ...</td>\n",
       "      <td>Low threshold calcium T-current</td>\n",
       "      <td>pA/um^2</td>\n",
       "      <td>1.300000</td>\n",
       "      <td>neuron part</td>\n",
       "    </tr>\n",
       "    <tr>\n",
       "      <th>5</th>\n",
       "      <td>[{'id': 'NIFORG:birnlex_167', 'name': 'Mouse'}]</td>\n",
       "      <td>Table 1</td>\n",
       "      <td>Sodium transient fast current</td>\n",
       "      <td>S/cm^2</td>\n",
       "      <td>0.180000</td>\n",
       "      <td>Neuronal Cell Body</td>\n",
       "    </tr>\n",
       "    <tr>\n",
       "      <th>6</th>\n",
       "      <td>[{'id': 'NIFORG:birnlex_167', 'name': 'Mouse'}]</td>\n",
       "      <td>Table 1</td>\n",
       "      <td>Low threshold calcium T-current</td>\n",
       "      <td>S/cm^2</td>\n",
       "      <td>0.000012</td>\n",
       "      <td>Neuronal Cell Body</td>\n",
       "    </tr>\n",
       "    <tr>\n",
       "      <th>7</th>\n",
       "      <td>[{'id': 'NIFORG:birnlex_167', 'name': 'Mouse'}]</td>\n",
       "      <td>Table 1</td>\n",
       "      <td>Potassium delayed rectifier</td>\n",
       "      <td>S/cm^2</td>\n",
       "      <td>0.340000</td>\n",
       "      <td>Neuronal Cell Body</td>\n",
       "    </tr>\n",
       "    <tr>\n",
       "      <th>8</th>\n",
       "      <td>[{'id': 'NIFORG:birnlex_160', 'name': 'Rat'}]</td>\n",
       "      <td>When the difference in\\nmembrane surface area ...</td>\n",
       "      <td>A current</td>\n",
       "      <td>pS/um**2</td>\n",
       "      <td>9.600000</td>\n",
       "      <td>neuron part</td>\n",
       "    </tr>\n",
       "    <tr>\n",
       "      <th>9</th>\n",
       "      <td>[]</td>\n",
       "      <td>Table 2-6</td>\n",
       "      <td>Sodium transient fast current</td>\n",
       "      <td>S/cm^2</td>\n",
       "      <td>0.011000</td>\n",
       "      <td></td>\n",
       "    </tr>\n",
       "  </tbody>\n",
       "</table>\n",
       "</div>"
      ],
      "text/plain": [
       "                                           Species  \\\n",
       "0    [{'id': 'NIFORG:birnlex_160', 'name': 'Rat'}]   \n",
       "1    [{'id': 'NIFORG:birnlex_160', 'name': 'Rat'}]   \n",
       "2  [{'id': 'NIFORG:birnlex_167', 'name': 'Mouse'}]   \n",
       "3    [{'id': 'NIFORG:birnlex_160', 'name': 'Rat'}]   \n",
       "4    [{'id': 'NIFORG:birnlex_160', 'name': 'Rat'}]   \n",
       "5  [{'id': 'NIFORG:birnlex_167', 'name': 'Mouse'}]   \n",
       "6  [{'id': 'NIFORG:birnlex_167', 'name': 'Mouse'}]   \n",
       "7  [{'id': 'NIFORG:birnlex_167', 'name': 'Mouse'}]   \n",
       "8    [{'id': 'NIFORG:birnlex_160', 'name': 'Rat'}]   \n",
       "9                                               []   \n",
       "\n",
       "                                                Text  \\\n",
       "0                                            Table 2   \n",
       "1  our final model comprised the following: gLEAK...   \n",
       "2                                            Table 1   \n",
       "3           The gCAN had a conductance\\nof 250\u0002S/cm2   \n",
       "4  when the difference in\\nmembrane surface area ...   \n",
       "5                                            Table 1   \n",
       "6                                            Table 1   \n",
       "7                                            Table 1   \n",
       "8  When the difference in\\nmembrane surface area ...   \n",
       "9                                          Table 2-6   \n",
       "\n",
       "                    Transmembrane ionic current      Unit      Values  \\\n",
       "0                 Sodium transient fast current   mS/cm^2  300.000000   \n",
       "1                            Leak ionic current   uS/cm^2  150.000000   \n",
       "2                   Potassium delayed rectifier    S/cm^2    0.005100   \n",
       "3  Calcium activated nonspecific cation current   uS/cm^2  250.000000   \n",
       "4               Low threshold calcium T-current   pA/um^2    1.300000   \n",
       "5                 Sodium transient fast current    S/cm^2    0.180000   \n",
       "6               Low threshold calcium T-current    S/cm^2    0.000012   \n",
       "7                   Potassium delayed rectifier    S/cm^2    0.340000   \n",
       "8                                     A current  pS/um**2    9.600000   \n",
       "9                 Sodium transient fast current    S/cm^2    0.011000   \n",
       "\n",
       "          neuron part  \n",
       "0                      \n",
       "1                      \n",
       "2            dendrite  \n",
       "3                      \n",
       "4         neuron part  \n",
       "5  Neuronal Cell Body  \n",
       "6  Neuronal Cell Body  \n",
       "7  Neuronal Cell Body  \n",
       "8         neuron part  \n",
       "9                      "
      ]
     },
     "execution_count": 3,
     "metadata": {},
     "output_type": "execute_result"
    }
   ],
   "source": [
    "searcher = ParameterSearch(repo_dir)\n",
    "searcher.setSearchConditions(ConditionAtom(\"Parameter name\", \"conductance_ion_curr_max\"))\n",
    "searcher.expandRequiredTags = True\n",
    "searcher.onlyCentralTendancy = True\n",
    "resultDF = searcher.search()\n",
    "resultDF[[\"Species\", \"Text\", \"Transmembrane ionic current\", \"Unit\",\n",
    "          \"Values\", \"neuron part\"]].head(10)"
   ]
  },
  {
   "cell_type": "markdown",
   "metadata": {},
   "source": [
    "### Keeping only specific conductances (i.e., conductance per area) and rescaling to a common unit so that numerical values are comparable"
   ]
  },
  {
   "cell_type": "code",
   "execution_count": 4,
   "metadata": {},
   "outputs": [],
   "source": [
    "isSpecific = []\n",
    "allConductances = []\n",
    "for v, u in zip(resultDF[\"Values\"], resultDF[\"Unit\"]):\n",
    "    try:\n",
    "        allConductances.append(float(pq.Quantity(v, u).rescale('S/cm**2')))\n",
    "        isSpecific.append(True)\n",
    "    except:\n",
    "        isSpecific.append(False)\n",
    "        \n",
    "resultDF = resultDF[isSpecific]\n",
    "resultDF[\"Values\"] = allConductances      "
   ]
  },
  {
   "cell_type": "markdown",
   "metadata": {},
   "source": [
    "### Manually normalizing the species and the cell types"
   ]
  },
  {
   "cell_type": "code",
   "execution_count": 5,
   "metadata": {},
   "outputs": [],
   "source": [
    "def simpleSpecies(species_lst):\n",
    "    species_strings = []    \n",
    "    for species in species_lst:\n",
    "        if \"Rat\" in species.name or \"Sprague Dawley\" == species.name:\n",
    "            species_strings.append(\"Rat\")\n",
    "        elif \"Mouse\" in species.name:\n",
    "            species_strings.append(\"Mouse\")\n",
    "        elif \"catus\" in species.name:\n",
    "            species_strings.append(\"Cat\")\n",
    "        elif \"Guinea\" in species.name:\n",
    "            species_strings.append(\"Guinea pig\")\n",
    "        elif \"furo\" in species.name:\n",
    "            species_strings.append(\"Ferret\")            \n",
    "        else:\n",
    "            print(\"The following species is not taken into account: \", species.name)\n",
    "            species_strings.append(\"\")\n",
    "    return np.unique(species_strings)\n",
    "\n",
    "def simpleCell(cell):\n",
    "    if \"relay\" in cell or \\\n",
    "       \"Thalamocortical\" in cell or \\\n",
    "       \"ventroposterior nucleus principal\" in cell:\n",
    "        return \"Thalamus relay cell\"\n",
    "    else:\n",
    "        return cell  \n",
    "\n",
    "resultOneSpecies = resultDF.reset_index()\n",
    "resultOneSpecies[\"Species\"] = [simpleSpecies(s) for s in resultOneSpecies[\"Species\"]]\n",
    "resultOneSpecies = resultOneSpecies[[len(s) == 1 for s in resultOneSpecies[\"Species\"]]].reset_index()\n",
    "resultOneSpecies[\"Species\"] = [s[0] for s in resultOneSpecies[\"Species\"]]\n",
    "resultOneSpecies[\"Cell\"] = [simpleCell(s) for s in resultOneSpecies[\"Cell\"]]\n",
    "resultOneSpecies[\"Current\"] = resultOneSpecies[\"Transmembrane ionic current\"]\n",
    "resultOneSpecies[\"log10Values\"] = np.log10(resultOneSpecies[\"Values\"])"
   ]
  },
  {
   "cell_type": "markdown",
   "metadata": {},
   "source": [
    "### Computing a linear regression model of the logarithm of the conductances as function of the species, the current type, and the cell type."
   ]
  },
  {
   "cell_type": "code",
   "execution_count": 6,
   "metadata": {},
   "outputs": [
    {
     "data": {
      "text/html": [
       "<div>\n",
       "<style scoped>\n",
       "    .dataframe tbody tr th:only-of-type {\n",
       "        vertical-align: middle;\n",
       "    }\n",
       "\n",
       "    .dataframe tbody tr th {\n",
       "        vertical-align: top;\n",
       "    }\n",
       "\n",
       "    .dataframe thead th {\n",
       "        text-align: right;\n",
       "    }\n",
       "</style>\n",
       "<table border=\"1\" class=\"dataframe\">\n",
       "  <thead>\n",
       "    <tr style=\"text-align: right;\">\n",
       "      <th></th>\n",
       "      <th>sum_sq</th>\n",
       "      <th>df</th>\n",
       "      <th>F</th>\n",
       "      <th>PR(&gt;F)</th>\n",
       "    </tr>\n",
       "  </thead>\n",
       "  <tbody>\n",
       "    <tr>\n",
       "      <th>Species</th>\n",
       "      <td>3.711695</td>\n",
       "      <td>2.0</td>\n",
       "      <td>3.266885</td>\n",
       "      <td>0.053629</td>\n",
       "    </tr>\n",
       "    <tr>\n",
       "      <th>Current</th>\n",
       "      <td>70.303119</td>\n",
       "      <td>16.0</td>\n",
       "      <td>7.734746</td>\n",
       "      <td>0.000002</td>\n",
       "    </tr>\n",
       "    <tr>\n",
       "      <th>Cell</th>\n",
       "      <td>3.244030</td>\n",
       "      <td>3.0</td>\n",
       "      <td>1.903509</td>\n",
       "      <td>0.152853</td>\n",
       "    </tr>\n",
       "    <tr>\n",
       "      <th>Residual</th>\n",
       "      <td>15.338126</td>\n",
       "      <td>27.0</td>\n",
       "      <td>NaN</td>\n",
       "      <td>NaN</td>\n",
       "    </tr>\n",
       "  </tbody>\n",
       "</table>\n",
       "</div>"
      ],
      "text/plain": [
       "             sum_sq    df         F    PR(>F)\n",
       "Species    3.711695   2.0  3.266885  0.053629\n",
       "Current   70.303119  16.0  7.734746  0.000002\n",
       "Cell       3.244030   3.0  1.903509  0.152853\n",
       "Residual  15.338126  27.0       NaN       NaN"
      ]
     },
     "execution_count": 6,
     "metadata": {},
     "output_type": "execute_result"
    }
   ],
   "source": [
    "formula = \"np.log10(Values) ~ Species + Current + Cell\"\n",
    "lm = ols(formula, data=resultOneSpecies).fit()\n",
    "table = sm.stats.anova_lm(lm, typ=2) # Type 2 ANOVA DataFrame\n",
    "table"
   ]
  },
  {
   "cell_type": "code",
   "execution_count": 7,
   "metadata": {},
   "outputs": [
    {
     "data": {
      "text/html": [
       "<table class=\"simpletable\">\n",
       "<caption>OLS Regression Results</caption>\n",
       "<tr>\n",
       "  <th>Dep. Variable:</th>    <td>np.log10(Values)</td> <th>  R-squared:         </th> <td>   0.848</td>\n",
       "</tr>\n",
       "<tr>\n",
       "  <th>Model:</th>                   <td>OLS</td>       <th>  Adj. R-squared:    </th> <td>   0.735</td>\n",
       "</tr>\n",
       "<tr>\n",
       "  <th>Method:</th>             <td>Least Squares</td>  <th>  F-statistic:       </th> <td>   7.519</td>\n",
       "</tr>\n",
       "<tr>\n",
       "  <th>Date:</th>             <td>Wed, 10 Oct 2018</td> <th>  Prob (F-statistic):</th> <td>1.49e-06</td>\n",
       "</tr>\n",
       "<tr>\n",
       "  <th>Time:</th>                 <td>11:54:02</td>     <th>  Log-Likelihood:    </th> <td> -40.728</td>\n",
       "</tr>\n",
       "<tr>\n",
       "  <th>No. Observations:</th>      <td>    48</td>      <th>  AIC:               </th> <td>   123.5</td>\n",
       "</tr>\n",
       "<tr>\n",
       "  <th>Df Residuals:</th>          <td>    27</td>      <th>  BIC:               </th> <td>   162.8</td>\n",
       "</tr>\n",
       "<tr>\n",
       "  <th>Df Model:</th>              <td>    20</td>      <th>                     </th>     <td> </td>   \n",
       "</tr>\n",
       "<tr>\n",
       "  <th>Covariance Type:</th>      <td>nonrobust</td>    <th>                     </th>     <td> </td>   \n",
       "</tr>\n",
       "</table>\n",
       "<table class=\"simpletable\">\n",
       "<tr>\n",
       "                             <td></td>                                <th>coef</th>     <th>std err</th>      <th>t</th>      <th>P>|t|</th>  <th>[0.025</th>    <th>0.975]</th>  \n",
       "</tr>\n",
       "<tr>\n",
       "  <th>Intercept</th>                                               <td>   -2.0808</td> <td>    0.568</td> <td>   -3.665</td> <td> 0.001</td> <td>   -3.246</td> <td>   -0.916</td>\n",
       "</tr>\n",
       "<tr>\n",
       "  <th>Species[T.Mouse]</th>                                        <td>   -0.8030</td> <td>    0.633</td> <td>   -1.268</td> <td> 0.216</td> <td>   -2.102</td> <td>    0.496</td>\n",
       "</tr>\n",
       "<tr>\n",
       "  <th>Species[T.Rat]</th>                                          <td>    0.1200</td> <td>    0.600</td> <td>    0.200</td> <td> 0.843</td> <td>   -1.111</td> <td>    1.351</td>\n",
       "</tr>\n",
       "<tr>\n",
       "  <th>Current[T.Calcium activated nonspecific cation current]</th> <td>   -1.0354</td> <td>    0.847</td> <td>   -1.223</td> <td> 0.232</td> <td>   -2.773</td> <td>    0.702</td>\n",
       "</tr>\n",
       "<tr>\n",
       "  <th>Current[T.Calcium-dependent potassium current]</th>          <td>   -0.4718</td> <td>    0.673</td> <td>   -0.702</td> <td> 0.489</td> <td>   -1.852</td> <td>    0.908</td>\n",
       "</tr>\n",
       "<tr>\n",
       "  <th>Current[T.Fast voltage-gated potassium (Kf) current]</th>    <td>    1.2657</td> <td>    0.847</td> <td>    1.495</td> <td> 0.147</td> <td>   -0.472</td> <td>    3.003</td>\n",
       "</tr>\n",
       "<tr>\n",
       "  <th>Current[T.Inward rectifier (h-type) current]</th>            <td>   -1.5498</td> <td>    0.586</td> <td>   -2.643</td> <td> 0.014</td> <td>   -2.753</td> <td>   -0.347</td>\n",
       "</tr>\n",
       "<tr>\n",
       "  <th>Current[T.Leak ionic current]</th>                           <td>   -1.2572</td> <td>    0.847</td> <td>   -1.485</td> <td> 0.149</td> <td>   -2.995</td> <td>    0.480</td>\n",
       "</tr>\n",
       "<tr>\n",
       "  <th>Current[T.Low threshold calcium T-current]</th>              <td>   -0.7393</td> <td>    0.475</td> <td>   -1.557</td> <td> 0.131</td> <td>   -1.714</td> <td>    0.235</td>\n",
       "</tr>\n",
       "<tr>\n",
       "  <th>Current[T.Potassium delayed rectifier]</th>                  <td>    1.6570</td> <td>    0.478</td> <td>    3.466</td> <td> 0.002</td> <td>    0.676</td> <td>    2.638</td>\n",
       "</tr>\n",
       "<tr>\n",
       "  <th>Current[T.Potassium inward rectifier (Kir) current]</th>     <td>   -2.1323</td> <td>    0.847</td> <td>   -2.518</td> <td> 0.018</td> <td>   -3.870</td> <td>   -0.395</td>\n",
       "</tr>\n",
       "<tr>\n",
       "  <th>Current[T.Potassium leak current]</th>                       <td>   -1.5103</td> <td>    0.907</td> <td>   -1.666</td> <td> 0.107</td> <td>   -3.371</td> <td>    0.350</td>\n",
       "</tr>\n",
       "<tr>\n",
       "  <th>Current[T.Slow calcium-dependent AHP potassium current]</th> <td>   -0.7817</td> <td>    0.673</td> <td>   -1.162</td> <td> 0.255</td> <td>   -2.162</td> <td>    0.598</td>\n",
       "</tr>\n",
       "<tr>\n",
       "  <th>Current[T.Slow high threshold calcium current]</th>          <td>    0.1688</td> <td>    0.847</td> <td>    0.199</td> <td> 0.844</td> <td>   -1.569</td> <td>    1.906</td>\n",
       "</tr>\n",
       "<tr>\n",
       "  <th>Current[T.Sodium current]</th>                               <td>   -0.4371</td> <td>    0.662</td> <td>   -0.660</td> <td> 0.515</td> <td>   -1.795</td> <td>    0.921</td>\n",
       "</tr>\n",
       "<tr>\n",
       "  <th>Current[T.Sodium leak current]</th>                          <td>   -2.0331</td> <td>    0.907</td> <td>   -2.242</td> <td> 0.033</td> <td>   -3.893</td> <td>   -0.173</td>\n",
       "</tr>\n",
       "<tr>\n",
       "  <th>Current[T.Sodium pesistent current]</th>                     <td>   -1.7699</td> <td>    0.907</td> <td>   -1.952</td> <td> 0.061</td> <td>   -3.630</td> <td>    0.090</td>\n",
       "</tr>\n",
       "<tr>\n",
       "  <th>Current[T.Sodium transient fast current]</th>                <td>    1.7164</td> <td>    0.465</td> <td>    3.692</td> <td> 0.001</td> <td>    0.763</td> <td>    2.670</td>\n",
       "</tr>\n",
       "<tr>\n",
       "  <th>Current[T.q- and p-type calcium current]</th>                <td>    0.9469</td> <td>    0.847</td> <td>    1.118</td> <td> 0.273</td> <td>   -0.791</td> <td>    2.684</td>\n",
       "</tr>\n",
       "<tr>\n",
       "  <th>Cell[T.Thalamic reticular nucleus cell]</th>                 <td>   -0.5485</td> <td>    0.441</td> <td>   -1.243</td> <td> 0.224</td> <td>   -1.454</td> <td>    0.357</td>\n",
       "</tr>\n",
       "<tr>\n",
       "  <th>Cell[T.Thalamus interneuron small]</th>                      <td>   -0.4893</td> <td>    0.375</td> <td>   -1.306</td> <td> 0.202</td> <td>   -1.258</td> <td>    0.279</td>\n",
       "</tr>\n",
       "<tr>\n",
       "  <th>Cell[T.Thalamus relay cell]</th>                             <td>   -0.6059</td> <td>    0.268</td> <td>   -2.262</td> <td> 0.032</td> <td>   -1.155</td> <td>   -0.056</td>\n",
       "</tr>\n",
       "</table>\n",
       "<table class=\"simpletable\">\n",
       "<tr>\n",
       "  <th>Omnibus:</th>       <td> 4.655</td> <th>  Durbin-Watson:     </th> <td>   2.181</td>\n",
       "</tr>\n",
       "<tr>\n",
       "  <th>Prob(Omnibus):</th> <td> 0.098</td> <th>  Jarque-Bera (JB):  </th> <td>   4.084</td>\n",
       "</tr>\n",
       "<tr>\n",
       "  <th>Skew:</th>          <td> 0.714</td> <th>  Prob(JB):          </th> <td>   0.130</td>\n",
       "</tr>\n",
       "<tr>\n",
       "  <th>Kurtosis:</th>      <td> 3.033</td> <th>  Cond. No.          </th> <td>1.12e+16</td>\n",
       "</tr>\n",
       "</table>"
      ],
      "text/plain": [
       "<class 'statsmodels.iolib.summary.Summary'>\n",
       "\"\"\"\n",
       "                            OLS Regression Results                            \n",
       "==============================================================================\n",
       "Dep. Variable:       np.log10(Values)   R-squared:                       0.848\n",
       "Model:                            OLS   Adj. R-squared:                  0.735\n",
       "Method:                 Least Squares   F-statistic:                     7.519\n",
       "Date:                Wed, 10 Oct 2018   Prob (F-statistic):           1.49e-06\n",
       "Time:                        11:54:02   Log-Likelihood:                -40.728\n",
       "No. Observations:                  48   AIC:                             123.5\n",
       "Df Residuals:                      27   BIC:                             162.8\n",
       "Df Model:                          20                                         \n",
       "Covariance Type:            nonrobust                                         \n",
       "===========================================================================================================================\n",
       "                                                              coef    std err          t      P>|t|      [0.025      0.975]\n",
       "---------------------------------------------------------------------------------------------------------------------------\n",
       "Intercept                                                  -2.0808      0.568     -3.665      0.001      -3.246      -0.916\n",
       "Species[T.Mouse]                                           -0.8030      0.633     -1.268      0.216      -2.102       0.496\n",
       "Species[T.Rat]                                              0.1200      0.600      0.200      0.843      -1.111       1.351\n",
       "Current[T.Calcium activated nonspecific cation current]    -1.0354      0.847     -1.223      0.232      -2.773       0.702\n",
       "Current[T.Calcium-dependent potassium current]             -0.4718      0.673     -0.702      0.489      -1.852       0.908\n",
       "Current[T.Fast voltage-gated potassium (Kf) current]        1.2657      0.847      1.495      0.147      -0.472       3.003\n",
       "Current[T.Inward rectifier (h-type) current]               -1.5498      0.586     -2.643      0.014      -2.753      -0.347\n",
       "Current[T.Leak ionic current]                              -1.2572      0.847     -1.485      0.149      -2.995       0.480\n",
       "Current[T.Low threshold calcium T-current]                 -0.7393      0.475     -1.557      0.131      -1.714       0.235\n",
       "Current[T.Potassium delayed rectifier]                      1.6570      0.478      3.466      0.002       0.676       2.638\n",
       "Current[T.Potassium inward rectifier (Kir) current]        -2.1323      0.847     -2.518      0.018      -3.870      -0.395\n",
       "Current[T.Potassium leak current]                          -1.5103      0.907     -1.666      0.107      -3.371       0.350\n",
       "Current[T.Slow calcium-dependent AHP potassium current]    -0.7817      0.673     -1.162      0.255      -2.162       0.598\n",
       "Current[T.Slow high threshold calcium current]              0.1688      0.847      0.199      0.844      -1.569       1.906\n",
       "Current[T.Sodium current]                                  -0.4371      0.662     -0.660      0.515      -1.795       0.921\n",
       "Current[T.Sodium leak current]                             -2.0331      0.907     -2.242      0.033      -3.893      -0.173\n",
       "Current[T.Sodium pesistent current]                        -1.7699      0.907     -1.952      0.061      -3.630       0.090\n",
       "Current[T.Sodium transient fast current]                    1.7164      0.465      3.692      0.001       0.763       2.670\n",
       "Current[T.q- and p-type calcium current]                    0.9469      0.847      1.118      0.273      -0.791       2.684\n",
       "Cell[T.Thalamic reticular nucleus cell]                    -0.5485      0.441     -1.243      0.224      -1.454       0.357\n",
       "Cell[T.Thalamus interneuron small]                         -0.4893      0.375     -1.306      0.202      -1.258       0.279\n",
       "Cell[T.Thalamus relay cell]                                -0.6059      0.268     -2.262      0.032      -1.155      -0.056\n",
       "==============================================================================\n",
       "Omnibus:                        4.655   Durbin-Watson:                   2.181\n",
       "Prob(Omnibus):                  0.098   Jarque-Bera (JB):                4.084\n",
       "Skew:                           0.714   Prob(JB):                        0.130\n",
       "Kurtosis:                       3.033   Cond. No.                     1.12e+16\n",
       "==============================================================================\n",
       "\n",
       "Warnings:\n",
       "[1] Standard Errors assume that the covariance matrix of the errors is correctly specified.\n",
       "[2] The smallest eigenvalue is 8.16e-31. This might indicate that there are\n",
       "strong multicollinearity problems or that the design matrix is singular.\n",
       "\"\"\""
      ]
     },
     "execution_count": 7,
     "metadata": {},
     "output_type": "execute_result"
    }
   ],
   "source": [
    "lm.summary()"
   ]
  },
  {
   "cell_type": "markdown",
   "metadata": {
    "collapsed": true
   },
   "source": [
    "### Violin plot showing the distribution of the log10 of the conductances, for rats and mice."
   ]
  },
  {
   "cell_type": "code",
   "execution_count": 8,
   "metadata": {},
   "outputs": [
    {
     "data": {
      "image/png": "[encoded data removed]",
      "text/plain": [
       "<matplotlib.figure.Figure at 0x7ff9c50970f0>"
      ]
     },
     "metadata": {},
     "output_type": "display_data"
    }
   ],
   "source": [
    "%matplotlib inline\n",
    "\n",
    "a4_dims = (12, 12)\n",
    "fig, ax = plt.subplots(figsize=a4_dims)\n",
    "\n",
    "sns.set(style=\"whitegrid\", palette=\"bright\", color_codes=True)\n",
    "\n",
    "# Load the example tips dataset\n",
    "tips = sns.load_dataset(\"tips\")\n",
    "\n",
    "# Draw a nested violinplot and split the violins for easier comparison\n",
    "sns.violinplot(x=\"log10Values\", y=\"Current\", hue=\"Species\", ax=ax,\n",
    "               data=resultOneSpecies[np.in1d(resultOneSpecies[\"Species\"], [\"Rat\", \"Mouse\"])], \n",
    "               split=True, inner=\"quart\", palette={\"Mouse\": \"b\", \"Rat\": \"y\"})\n",
    "sns.swarmplot(y=\"Current\", x=\"log10Values\", hue=\"Species\", ax=ax,\n",
    "              data=resultOneSpecies[np.in1d(resultOneSpecies[\"Species\"], [\"Rat\", \"Mouse\"])],\n",
    "              palette={\"Mouse\": \"b\", \"Rat\": \"y\"})\n",
    "\n",
    "plt.legend(loc=\"lower right\")\n",
    "sns.despine(left=True)"
   ]
  },
  {
   "cell_type": "markdown",
   "metadata": {},
   "source": [
    "### Violin plot showing the distribution of the log10 of the conductances across species (regardless of current types or cell types)."
   ]
  },
  {
   "cell_type": "code",
   "execution_count": 9,
   "metadata": {},
   "outputs": [
    {
     "data": {
      "text/plain": [
       "<matplotlib.axes._subplots.AxesSubplot at 0x7ff9c4faac50>"
      ]
     },
     "execution_count": 9,
     "metadata": {},
     "output_type": "execute_result"
    },
    {
     "data": {
      "image/png": "[encoded data removed]",
      "text/plain": [
       "<matplotlib.figure.Figure at 0x7ff9c505e4e0>"
      ]
     },
     "metadata": {},
     "output_type": "display_data"
    }
   ],
   "source": [
    "sns.violinplot(x=\"log10Values\", y=\"Species\", data=resultOneSpecies, \n",
    "               inner=\"quart\")"
   ]
  },
  {
   "cell_type": "markdown",
   "metadata": {},
   "source": [
    "### Violin plot showing the distribution of the log10 of the conductances cell types (regardless of current types or species)."
   ]
  },
  {
   "cell_type": "code",
   "execution_count": 10,
   "metadata": {},
   "outputs": [
    {
     "data": {
      "text/plain": [
       "<matplotlib.axes._subplots.AxesSubplot at 0x7ff9c5106c18>"
      ]
     },
     "execution_count": 10,
     "metadata": {},
     "output_type": "execute_result"
    },
    {
     "data": {
      "image/png": "[encoded data removed]",
      "text/plain": [
       "<matplotlib.figure.Figure at 0x7ff9c5003d68>"
      ]
     },
     "metadata": {},
     "output_type": "display_data"
    }
   ],
   "source": [
    "sns.violinplot(x=\"log10Values\", y=\"Cell\", data=resultOneSpecies, \n",
    "               inner=\"quart\")"
   ]
  },
  {
   "cell_type": "markdown",
   "metadata": {},
   "source": [
    "# Looking a resting membrane potentials"
   ]
  },
  {
   "cell_type": "code",
   "execution_count": 11,
   "metadata": {},
   "outputs": [
    {
     "data": {
      "text/html": [
       "<div>\n",
       "<style scoped>\n",
       "    .dataframe tbody tr th:only-of-type {\n",
       "        vertical-align: middle;\n",
       "    }\n",
       "\n",
       "    .dataframe tbody tr th {\n",
       "        vertical-align: top;\n",
       "    }\n",
       "\n",
       "    .dataframe thead th {\n",
       "        text-align: right;\n",
       "    }\n",
       "</style>\n",
       "<table border=\"1\" class=\"dataframe\">\n",
       "  <thead>\n",
       "    <tr style=\"text-align: right;\">\n",
       "      <th></th>\n",
       "      <th>level_0</th>\n",
       "      <th>index</th>\n",
       "      <th>AgeCategories</th>\n",
       "      <th>Cell</th>\n",
       "      <th>Parameter name</th>\n",
       "      <th>Species</th>\n",
       "      <th>Unit</th>\n",
       "      <th>Values</th>\n",
       "    </tr>\n",
       "  </thead>\n",
       "  <tbody>\n",
       "    <tr>\n",
       "      <th>0</th>\n",
       "      <td>0</td>\n",
       "      <td>0</td>\n",
       "      <td>[]</td>\n",
       "      <td>Thalamus interneuron small</td>\n",
       "      <td>resting_membrane_potential</td>\n",
       "      <td>Mouse</td>\n",
       "      <td>mV</td>\n",
       "      <td>-69</td>\n",
       "    </tr>\n",
       "    <tr>\n",
       "      <th>1</th>\n",
       "      <td>1</td>\n",
       "      <td>1</td>\n",
       "      <td>[]</td>\n",
       "      <td>Thalamus relay cell</td>\n",
       "      <td>resting_membrane_potential</td>\n",
       "      <td>Rat</td>\n",
       "      <td>mV</td>\n",
       "      <td>-74.4</td>\n",
       "    </tr>\n",
       "    <tr>\n",
       "      <th>2</th>\n",
       "      <td>2</td>\n",
       "      <td>2</td>\n",
       "      <td>[]</td>\n",
       "      <td>Thalamus relay cell</td>\n",
       "      <td>resting_membrane_potential</td>\n",
       "      <td>Rat</td>\n",
       "      <td>mV</td>\n",
       "      <td>-71.4</td>\n",
       "    </tr>\n",
       "    <tr>\n",
       "      <th>3</th>\n",
       "      <td>3</td>\n",
       "      <td>3</td>\n",
       "      <td>[]</td>\n",
       "      <td>Thalamus interneuron small</td>\n",
       "      <td>resting_membrane_potential</td>\n",
       "      <td>Rat</td>\n",
       "      <td>mV</td>\n",
       "      <td>-54.5</td>\n",
       "    </tr>\n",
       "    <tr>\n",
       "      <th>4</th>\n",
       "      <td>5</td>\n",
       "      <td>5</td>\n",
       "      <td>[]</td>\n",
       "      <td>Thalamus relay cell</td>\n",
       "      <td>resting_membrane_potential</td>\n",
       "      <td>Cat</td>\n",
       "      <td>mV</td>\n",
       "      <td>-61.9</td>\n",
       "    </tr>\n",
       "  </tbody>\n",
       "</table>\n",
       "</div>"
      ],
      "text/plain": [
       "   level_0  index AgeCategories                        Cell  \\\n",
       "0        0      0            []  Thalamus interneuron small   \n",
       "1        1      1            []         Thalamus relay cell   \n",
       "2        2      2            []         Thalamus relay cell   \n",
       "3        3      3            []  Thalamus interneuron small   \n",
       "4        5      5            []         Thalamus relay cell   \n",
       "\n",
       "               Parameter name Species Unit Values  \n",
       "0  resting_membrane_potential   Mouse   mV    -69  \n",
       "1  resting_membrane_potential     Rat   mV  -74.4  \n",
       "2  resting_membrane_potential     Rat   mV  -71.4  \n",
       "3  resting_membrane_potential     Rat   mV  -54.5  \n",
       "4  resting_membrane_potential     Cat   mV  -61.9  "
      ]
     },
     "execution_count": 11,
     "metadata": {},
     "output_type": "execute_result"
    }
   ],
   "source": [
    "searcher = ParameterSearch(pathDB=\"neurocuratorDB\")\n",
    "searcher.setSearchConditions(ConditionAtom(\"Parameter name\", \"resting_membrane_potential\"))\n",
    "searcher.expandRequiredTags = True\n",
    "searcher.onlyCentralTendancy = True\n",
    "\n",
    "resultDF2 = searcher.search()\n",
    "del resultDF2[\"obj_parameter\"]\n",
    "del resultDF2[\"obj_annotation\"]\n",
    "del resultDF2[\"Context\"]\n",
    "del resultDF2[\"Parameter instance ID\"]\n",
    "del resultDF2[\"Text\"]\n",
    "del resultDF2[\"Parameter type ID\"]\n",
    "del resultDF2[\"Result type\"]\n",
    "\n",
    "resultOneSpecies = resultDF2.reset_index()\n",
    "resultOneSpecies[\"Species\"] = [simpleSpecies(s) for s in resultOneSpecies[\"Species\"]]\n",
    "resultOneSpecies = resultOneSpecies[[len(s) == 1 for s in resultOneSpecies[\"Species\"]]].reset_index()\n",
    "resultOneSpecies[\"Species\"] = [s[0] for s in resultOneSpecies[\"Species\"]]\n",
    "resultOneSpecies[\"Cell\"] = [simpleCell(s) for s in resultOneSpecies[\"Cell\"]]\n",
    "\n",
    "resultOneSpecies.head()"
   ]
  },
  {
   "cell_type": "code",
   "execution_count": 12,
   "metadata": {},
   "outputs": [
    {
     "data": {
      "text/plain": [
       "<matplotlib.legend.Legend at 0x7ff985699710>"
      ]
     },
     "execution_count": 12,
     "metadata": {},
     "output_type": "execute_result"
    },
    {
     "data": {
      "image/png": "[encoded data removed]",
      "text/plain": [
       "<matplotlib.figure.Figure at 0x7ff9c4fc3b38>"
      ]
     },
     "metadata": {},
     "output_type": "display_data"
    }
   ],
   "source": [
    "%matplotlib inline\n",
    "import seaborn as sns\n",
    "resultOneSpecies[\"Values\"] = [np.mean(val) for val in resultOneSpecies[\"Values\"]]\n",
    "#g = sns.violinplot(x=\"Cell\", y=\"Values\", hue=\"Species\", data=resultOneSpecies, bw=0.4)\n",
    "g = sns.swarmplot(y=\"Values\", x=\"Cell\", hue=\"Species\",\n",
    "              data=resultOneSpecies)#, #resultOneSpecies[np.in1d(resultOneSpecies[\"Species\"], [\"Rat\", \"Mouse\"])],\n",
    "              #palette={\"Mouse\": \"b\", \"Rat\": \"y\"})\n",
    "\n",
    "\n",
    "g.set_xticklabels(g.get_xticklabels(), rotation=90)\n",
    "g.set_xlabel(\"\")\n",
    "plt.legend(loc=\"lower right\")"
   ]
  },
  {
   "cell_type": "code",
   "execution_count": 13,
   "metadata": {},
   "outputs": [
    {
     "data": {
      "text/html": [
       "<div>\n",
       "<style scoped>\n",
       "    .dataframe tbody tr th:only-of-type {\n",
       "        vertical-align: middle;\n",
       "    }\n",
       "\n",
       "    .dataframe tbody tr th {\n",
       "        vertical-align: top;\n",
       "    }\n",
       "\n",
       "    .dataframe thead th {\n",
       "        text-align: right;\n",
       "    }\n",
       "</style>\n",
       "<table border=\"1\" class=\"dataframe\">\n",
       "  <thead>\n",
       "    <tr style=\"text-align: right;\">\n",
       "      <th></th>\n",
       "      <th>sum_sq</th>\n",
       "      <th>df</th>\n",
       "      <th>F</th>\n",
       "      <th>PR(&gt;F)</th>\n",
       "    </tr>\n",
       "  </thead>\n",
       "  <tbody>\n",
       "    <tr>\n",
       "      <th>Species</th>\n",
       "      <td>100.922516</td>\n",
       "      <td>3.0</td>\n",
       "      <td>1.021971</td>\n",
       "      <td>0.403889</td>\n",
       "    </tr>\n",
       "    <tr>\n",
       "      <th>Cell</th>\n",
       "      <td>157.103279</td>\n",
       "      <td>3.0</td>\n",
       "      <td>1.590873</td>\n",
       "      <td>0.222961</td>\n",
       "    </tr>\n",
       "    <tr>\n",
       "      <th>Residual</th>\n",
       "      <td>658.352299</td>\n",
       "      <td>20.0</td>\n",
       "      <td>NaN</td>\n",
       "      <td>NaN</td>\n",
       "    </tr>\n",
       "  </tbody>\n",
       "</table>\n",
       "</div>"
      ],
      "text/plain": [
       "              sum_sq    df         F    PR(>F)\n",
       "Species   100.922516   3.0  1.021971  0.403889\n",
       "Cell      157.103279   3.0  1.590873  0.222961\n",
       "Residual  658.352299  20.0       NaN       NaN"
      ]
     },
     "execution_count": 13,
     "metadata": {},
     "output_type": "execute_result"
    }
   ],
   "source": [
    "formula = \"Values ~ Species + Cell\"\n",
    "lm = ols(formula, data=resultOneSpecies).fit()\n",
    "table = sm.stats.anova_lm(lm, typ=2) # Type 2 ANOVA DataFrame\n",
    "table"
   ]
  },
  {
   "cell_type": "code",
   "execution_count": 14,
   "metadata": {},
   "outputs": [
    {
     "data": {
      "text/html": [
       "<table class=\"simpletable\">\n",
       "<caption>OLS Regression Results</caption>\n",
       "<tr>\n",
       "  <th>Dep. Variable:</th>         <td>Values</td>      <th>  R-squared:         </th> <td>   0.216</td>\n",
       "</tr>\n",
       "<tr>\n",
       "  <th>Model:</th>                   <td>OLS</td>       <th>  Adj. R-squared:    </th> <td>  -0.019</td>\n",
       "</tr>\n",
       "<tr>\n",
       "  <th>Method:</th>             <td>Least Squares</td>  <th>  F-statistic:       </th> <td>  0.9195</td>\n",
       "</tr>\n",
       "<tr>\n",
       "  <th>Date:</th>             <td>Wed, 10 Oct 2018</td> <th>  Prob (F-statistic):</th>  <td> 0.502</td> \n",
       "</tr>\n",
       "<tr>\n",
       "  <th>Time:</th>                 <td>11:54:07</td>     <th>  Log-Likelihood:    </th> <td> -81.429</td>\n",
       "</tr>\n",
       "<tr>\n",
       "  <th>No. Observations:</th>      <td>    27</td>      <th>  AIC:               </th> <td>   176.9</td>\n",
       "</tr>\n",
       "<tr>\n",
       "  <th>Df Residuals:</th>          <td>    20</td>      <th>  BIC:               </th> <td>   185.9</td>\n",
       "</tr>\n",
       "<tr>\n",
       "  <th>Df Model:</th>              <td>     6</td>      <th>                     </th>     <td> </td>   \n",
       "</tr>\n",
       "<tr>\n",
       "  <th>Covariance Type:</th>      <td>nonrobust</td>    <th>                     </th>     <td> </td>   \n",
       "</tr>\n",
       "</table>\n",
       "<table class=\"simpletable\">\n",
       "<tr>\n",
       "                     <td></td>                        <th>coef</th>     <th>std err</th>      <th>t</th>      <th>P>|t|</th>  <th>[0.025</th>    <th>0.975]</th>  \n",
       "</tr>\n",
       "<tr>\n",
       "  <th>Intercept</th>                               <td>  -56.8077</td> <td>    7.430</td> <td>   -7.646</td> <td> 0.000</td> <td>  -72.306</td> <td>  -41.310</td>\n",
       "</tr>\n",
       "<tr>\n",
       "  <th>Species[T.Ferret]</th>                       <td>   10.0946</td> <td>   10.064</td> <td>    1.003</td> <td> 0.328</td> <td>  -10.899</td> <td>   31.088</td>\n",
       "</tr>\n",
       "<tr>\n",
       "  <th>Species[T.Mouse]</th>                        <td>   -4.2893</td> <td>    6.973</td> <td>   -0.615</td> <td> 0.545</td> <td>  -18.834</td> <td>   10.255</td>\n",
       "</tr>\n",
       "<tr>\n",
       "  <th>Species[T.Rat]</th>                          <td>   -3.2054</td> <td>    5.954</td> <td>   -0.538</td> <td> 0.596</td> <td>  -15.625</td> <td>    9.214</td>\n",
       "</tr>\n",
       "<tr>\n",
       "  <th>Cell[T.Thalamic reticular nucleus cell]</th> <td>  -14.2869</td> <td>    7.257</td> <td>   -1.969</td> <td> 0.063</td> <td>  -29.425</td> <td>    0.851</td>\n",
       "</tr>\n",
       "<tr>\n",
       "  <th>Cell[T.Thalamus interneuron small]</th>      <td>   -2.1514</td> <td>    4.526</td> <td>   -0.475</td> <td> 0.640</td> <td>  -11.592</td> <td>    7.289</td>\n",
       "</tr>\n",
       "<tr>\n",
       "  <th>Cell[T.Thalamus relay cell]</th>             <td>   -5.0923</td> <td>    4.720</td> <td>   -1.079</td> <td> 0.294</td> <td>  -14.939</td> <td>    4.754</td>\n",
       "</tr>\n",
       "</table>\n",
       "<table class=\"simpletable\">\n",
       "<tr>\n",
       "  <th>Omnibus:</th>       <td> 0.757</td> <th>  Durbin-Watson:     </th> <td>   1.722</td>\n",
       "</tr>\n",
       "<tr>\n",
       "  <th>Prob(Omnibus):</th> <td> 0.685</td> <th>  Jarque-Bera (JB):  </th> <td>   0.705</td>\n",
       "</tr>\n",
       "<tr>\n",
       "  <th>Skew:</th>          <td>-0.021</td> <th>  Prob(JB):          </th> <td>   0.703</td>\n",
       "</tr>\n",
       "<tr>\n",
       "  <th>Kurtosis:</th>      <td> 2.210</td> <th>  Cond. No.          </th> <td>    17.4</td>\n",
       "</tr>\n",
       "</table>"
      ],
      "text/plain": [
       "<class 'statsmodels.iolib.summary.Summary'>\n",
       "\"\"\"\n",
       "                            OLS Regression Results                            \n",
       "==============================================================================\n",
       "Dep. Variable:                 Values   R-squared:                       0.216\n",
       "Model:                            OLS   Adj. R-squared:                 -0.019\n",
       "Method:                 Least Squares   F-statistic:                    0.9195\n",
       "Date:                Wed, 10 Oct 2018   Prob (F-statistic):              0.502\n",
       "Time:                        11:54:07   Log-Likelihood:                -81.429\n",
       "No. Observations:                  27   AIC:                             176.9\n",
       "Df Residuals:                      20   BIC:                             185.9\n",
       "Df Model:                           6                                         \n",
       "Covariance Type:            nonrobust                                         \n",
       "===========================================================================================================\n",
       "                                              coef    std err          t      P>|t|      [0.025      0.975]\n",
       "-----------------------------------------------------------------------------------------------------------\n",
       "Intercept                                 -56.8077      7.430     -7.646      0.000     -72.306     -41.310\n",
       "Species[T.Ferret]                          10.0946     10.064      1.003      0.328     -10.899      31.088\n",
       "Species[T.Mouse]                           -4.2893      6.973     -0.615      0.545     -18.834      10.255\n",
       "Species[T.Rat]                             -3.2054      5.954     -0.538      0.596     -15.625       9.214\n",
       "Cell[T.Thalamic reticular nucleus cell]   -14.2869      7.257     -1.969      0.063     -29.425       0.851\n",
       "Cell[T.Thalamus interneuron small]         -2.1514      4.526     -0.475      0.640     -11.592       7.289\n",
       "Cell[T.Thalamus relay cell]                -5.0923      4.720     -1.079      0.294     -14.939       4.754\n",
       "==============================================================================\n",
       "Omnibus:                        0.757   Durbin-Watson:                   1.722\n",
       "Prob(Omnibus):                  0.685   Jarque-Bera (JB):                0.705\n",
       "Skew:                          -0.021   Prob(JB):                        0.703\n",
       "Kurtosis:                       2.210   Cond. No.                         17.4\n",
       "==============================================================================\n",
       "\n",
       "Warnings:\n",
       "[1] Standard Errors assume that the covariance matrix of the errors is correctly specified.\n",
       "\"\"\""
      ]
     },
     "execution_count": 14,
     "metadata": {},
     "output_type": "execute_result"
    }
   ],
   "source": [
    "lm.summary()"
   ]
  },
  {
   "cell_type": "code",
   "execution_count": null,
   "metadata": {},
   "outputs": [],
   "source": []
  }
 ],
 "metadata": {
  "kernelspec": {
   "display_name": "venv3.4",
   "language": "python",
   "name": "venv3.4"
  },
  "language_info": {
   "codemirror_mode": {
    "name": "ipython",
    "version": 3
   },
   "file_extension": ".py",
   "mimetype": "text/x-python",
   "name": "python",
   "nbconvert_exporter": "python",
   "pygments_lexer": "ipython3",
   "version": "3.5.2"
  }
 },
 "nbformat": 4,
 "nbformat_minor": 1
}
