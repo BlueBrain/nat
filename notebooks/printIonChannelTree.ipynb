{
 "cells": [
  {
   "cell_type": "code",
   "execution_count": 1,
   "metadata": {
    "collapsed": false
   },
   "outputs": [
    {
     "ename": "ImportError",
     "evalue": "No module named 'annotationSearch'",
     "output_type": "error",
     "traceback": [
      "\u001b[1;31m---------------------------------------------------------------------------\u001b[0m",
      "\u001b[1;31mImportError\u001b[0m                               Traceback (most recent call last)",
      "\u001b[1;32m<ipython-input-1-05a755315cfc>\u001b[0m in \u001b[0;36m<module>\u001b[1;34m()\u001b[0m\n\u001b[0;32m      5\u001b[0m \u001b[1;31m# Imports from NeuroCurator code base\u001b[0m\u001b[1;33m\u001b[0m\u001b[1;33m\u001b[0m\u001b[0m\n\u001b[0;32m      6\u001b[0m \u001b[0msys\u001b[0m\u001b[1;33m.\u001b[0m\u001b[0mpath\u001b[0m\u001b[1;33m.\u001b[0m\u001b[0mappend\u001b[0m\u001b[1;33m(\u001b[0m\u001b[0mos\u001b[0m\u001b[1;33m.\u001b[0m\u001b[0mpath\u001b[0m\u001b[1;33m.\u001b[0m\u001b[0mjoin\u001b[0m\u001b[1;33m(\u001b[0m\u001b[0mos\u001b[0m\u001b[1;33m.\u001b[0m\u001b[0mgetcwd\u001b[0m\u001b[1;33m(\u001b[0m\u001b[1;33m)\u001b[0m\u001b[1;33m,\u001b[0m \u001b[1;34m\"..\"\u001b[0m\u001b[1;33m)\u001b[0m\u001b[1;33m)\u001b[0m\u001b[1;33m\u001b[0m\u001b[0m\n\u001b[1;32m----> 7\u001b[1;33m \u001b[1;32mfrom\u001b[0m \u001b[0mannotationSearch\u001b[0m \u001b[1;32mimport\u001b[0m \u001b[0mParameterSearch\u001b[0m\u001b[1;33m,\u001b[0m \u001b[0mConditionAtom\u001b[0m\u001b[1;33m\u001b[0m\u001b[0m\n\u001b[0m\u001b[0;32m      8\u001b[0m \u001b[1;32mfrom\u001b[0m \u001b[0mqtNeurolexTree\u001b[0m \u001b[1;32mimport\u001b[0m \u001b[0mTreeData\u001b[0m\u001b[1;33m,\u001b[0m \u001b[0mloadTreeData\u001b[0m\u001b[1;33m\u001b[0m\u001b[0m\n\u001b[0;32m      9\u001b[0m \u001b[1;33m\u001b[0m\u001b[0m\n",
      "\u001b[1;31mImportError\u001b[0m: No module named 'annotationSearch'"
     ]
    }
   ],
   "source": [
    "# General imports\n",
    "import sys, os\n",
    "import numpy as np\n",
    "\n",
    "# Imports from NeuroCurator code base\n",
    "sys.path.append(os.path.join(os.getcwd(), \"..\"))\n",
    "from nat.annotationSearch import ParameterSearch, ConditionAtom\n",
    "from qtNeurolexTree import TreeData, loadTreeData\n",
    "\n",
    "treeData, dicData = loadTreeData()\n",
    "\n",
    "tagId = [k for k, v in dicData.items() if \"Transmembrane ionic current\" in v][0]\n",
    "\n",
    "\n",
    "for tree in treeData:\n",
    "    subTree = tree.getSubTree(tagId)\n",
    "    if not subTree is None:\n",
    "        break\n",
    "\n",
    "subTree.printTree()\n"
   ]
  },
  {
   "cell_type": "code",
   "execution_count": null,
   "metadata": {
    "collapsed": true
   },
   "outputs": [],
   "source": [
    "\n",
    "\n",
    "\"\"\"\n",
    "\n",
    "\n",
    "        tagId = list(self.dicData.keys())[list(self.dicData.values()).index(tagName)]\n",
    "        #hipId = list(self.dicData.keys())[list(self.dicData.values()).index('Hippocampus CA1 basket cell')]\n",
    "        \n",
    "        for tree in self.treeData:\n",
    "            #print(tree.isInTree(hipId), tree.isInTree(tagId))\n",
    "            subTree = tree.getSubTree(tagId)\n",
    "            if not subTree is None:\n",
    "                #print(subTree.isInTree(hipId))\n",
    "                #subTree.printTree()\n",
    "                #'Hippocampus CA1 basket cell'\n",
    "                #pass\n",
    "                break\n",
    "        if subTree is None:\n",
    "            print(tagId, tagName)\n",
    "            raise ValueError(\"The term \" + tagName + \" was not found in the term trees.\")\n",
    "\n",
    "        idList, nameList = subTree.asList()\n",
    "\n",
    "        self.reqTagDelegate.addItems(nameList)\n",
    "\n",
    "\n",
    "\n",
    "# Searching for annotations\n",
    "searcher = ParameterSearch()\n",
    "searcher.setSearchConditions(ConditionAtom(\"Parameter name\", \"conductance_ion_curr_max\"))\n",
    "searcher.expandRequiredTags = True\n",
    "searcher.onlyCentralTendancy = True\n",
    "resultDF = searcher.search()\n",
    "\n",
    "# Checking which conductances have been specified as \"specific conductances\"\n",
    "# (i.e., conductance densities) and normalizing the units.\n",
    "isSpecific = []\n",
    "allConductances = []\n",
    "for v, u in zip(resultDF[\"Values\"], resultDF[\"Unit\"]):\n",
    "    try:\n",
    "        allConductances.append(float(pq.Quantity(v, u).rescale('S/cm**2')))\n",
    "        isSpecific.append(True)\n",
    "    except:\n",
    "        isSpecific.append(False)\n",
    "\n",
    "resultDF = resultDF[isSpecific]\n",
    "resultDF[\"Values\"] = np.log10(allConductances)\n",
    "\n",
    "# Plotting a violin plot for annotated values for specific conductances\n",
    "# of the various kind of ionic currents \n",
    "g = sns.violinplot(y=\"Transmembrane ionic current\", x=\"Values\", data=resultDF, bw=0.25)\n",
    "g = sns.swarmplot( y=\"Transmembrane ionic current\", x=\"Values\", data=resultDF)\n",
    "g.set_ylabel(\"\")\n",
    "g.set_xlabel(\"Specific conductance ($S/cm^2$)\")\n",
    "g.set_xticklabels([('%.0e' % 10**nb) for nb in g.get_xticks()]) \n",
    "plt.savefig('example_currents.png', bbox_inches='tight', transparent=True, dpi=200)\n",
    "\"\"\"\n",
    "pass"
   ]
  }
 ],
 "metadata": {
  "kernelspec": {
   "display_name": "Python 3",
   "language": "python",
   "name": "python3"
  },
  "language_info": {
   "codemirror_mode": {
    "name": "ipython",
    "version": 3
   },
   "file_extension": ".py",
   "mimetype": "text/x-python",
   "name": "python",
   "nbconvert_exporter": "python",
   "pygments_lexer": "ipython3",
   "version": "3.4.3"
  }
 },
 "nbformat": 4,
 "nbformat_minor": 0
}
