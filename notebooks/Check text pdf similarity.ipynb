{
 "cells": [
  {
   "cell_type": "markdown",
   "metadata": {},
   "source": [
    "### This notebook plots a graph showing the indice of similariries both intra-document (comparing a document with itself) and inter-documents ()"
   ]
  },
  {
   "cell_type": "code",
   "execution_count": 3,
   "metadata": {},
   "outputs": [
    {
     "name": "stdout",
     "output_type": "stream",
     "text": [
      "Collecting git+https://github.com/python-quantities/python-quantities.git\n",
      "  Cloning https://github.com/python-quantities/python-quantities.git to /tmp/pip-z019dplu-build\n",
      "Installing collected packages: quantities\n",
      "  Running setup.py install for quantities ... \u001b[?25ldone\n",
      "\u001b[?25hSuccessfully installed quantities-0.12.1\n"
     ]
    }
   ],
   "source": [
    "!pip install git+https://github.com/python-quantities/python-quantities.git --user"
   ]
  },
  {
   "cell_type": "code",
   "execution_count": 14,
   "metadata": {
    "scrolled": true
   },
   "outputs": [
    {
     "name": "stdout",
     "output_type": "stream",
     "text": [
      "['RESTClient', 'RESTClientError', 'RESTImportPDFErr', 'ZipFile', '__builtins__', '__cached__', '__doc__', '__file__', '__loader__', '__name__', '__package__', '__spec__', 'bs', 'checkImportPDF', 'checkSimilarities', 'glob', 'io', 'json', 'os', 'requests', 'warnings', 'webbrowser']\n"
     ]
    }
   ],
   "source": [
    "import nat.restClient as client\n",
    "from importlib import reload\n",
    "\n",
    "reload(client)\n",
    "print(dir(client))\n",
    "intra, inter = client.checkSimilarities(\"./neurocuratorDB\")"
   ]
  },
  {
   "cell_type": "code",
   "execution_count": 15,
   "metadata": {},
   "outputs": [
    {
     "data": {
      "text/plain": [
       "([], [])"
      ]
     },
     "execution_count": 15,
     "metadata": {},
     "output_type": "execute_result"
    }
   ],
   "source": [
    "intra, inter "
   ]
  },
  {
   "cell_type": "code",
   "execution_count": 13,
   "metadata": {},
   "outputs": [
    {
     "name": "stdout",
     "output_type": "stream",
     "text": [
      "\u001b[0m\u001b[01;32m10.1002%2Fcne.20913.pcr\u001b[0m*\r\n",
      "\u001b[01;32m10.1002%2Fcne.21671.pcr\u001b[0m*\r\n",
      "\u001b[01;32m10.1002%2Fcne.21868.pcr\u001b[0m*\r\n",
      "\u001b[01;32m10.1002%2Fcne.22461.pcr\u001b[0m*\r\n",
      "\u001b[01;32m10.1002%2Fcne.22483.pcr\u001b[0m*\r\n",
      "\u001b[01;32m10.1002%2Fcne.901300403.pcr\u001b[0m*\r\n",
      "\u001b[01;32m10.1002%2Fcne.901300404.pcr\u001b[0m*\r\n",
      "\u001b[01;32m10.1002%2Fcne.901970208.pcr\u001b[0m*\r\n",
      "\u001b[01;32m10.1002%2Fcne.903040311.pcr\u001b[0m*\r\n",
      "\u001b[01;32m10.1002%2Fcne.903290404.pcr\u001b[0m*\r\n",
      "\u001b[01;32m10.1002%2Fcne.903520106.pcr\u001b[0m*\r\n",
      "\u001b[01;32m10.1002%2Fcne.903550407.pcr\u001b[0m*\r\n",
      "\u001b[01;32m10.1002%2Fcne.903590111.pcr\u001b[0m*\r\n",
      "\u001b[01;32m10.1002%2F(SICI)1096-9861(19960311)366%3A3%3C416%3A%3AAID-CNE4%3E3.0.CO;2-7.pcr\u001b[0m*\r\n",
      "\u001b[01;32m10.1002%2F(SICI)1096-9861(19960311)366%3A3&lt;416%3A%3AAID-CNE4&gt;3.0.CO;2-7.pcr\u001b[0m\u001b[K*\r\n",
      "\u001b[01;32m10.1007%2FBF00224863.pcr\u001b[0m*\r\n",
      "\u001b[01;32m10.1007%2FBF00237987.pcr\u001b[0m*\r\n",
      "\u001b[01;32m10.1007%2Fs00424-004-1377-z.pcr\u001b[0m*\r\n",
      "\u001b[01;32m10.1007%2Fs00424-012-1188-6.pcr\u001b[0m*\r\n",
      "\u001b[01;32m10.1007%2Fs00424-014-1477-3.pcr\u001b[0m*\r\n",
      "\u001b[01;32m10.1007%2Fs10072-011-0606-4.pcr\u001b[0m*\r\n",
      "\u001b[01;32m10.1007%2Fs10072-013-1435-4.pcr\u001b[0m*\r\n",
      "\u001b[01;32m10.1007%2Fs11055-006-0134-5.pcr\u001b[0m*\r\n",
      "\u001b[01;32m10.1007%2Fs12264-013-1402-3.pcr\u001b[0m*\r\n",
      "\u001b[01;32m10.1007%2Fs12264-015-0006-5.pcr\u001b[0m*\r\n",
      "\u001b[01;32m10.1007%2Fs12272-012-1202-8.pcr\u001b[0m*\r\n",
      "\u001b[01;32m10.1016%2F0006-8993(86)91340-5.pcr\u001b[0m*\r\n",
      "\u001b[01;32m10.1016%2F0047-6374(96)01752-6.pcr\u001b[0m*\r\n",
      "\u001b[01;32m10.1016%2F0301-0082(92)90012-4.pcr\u001b[0m*\r\n",
      "\u001b[01;32m10.1016%2F0361-9230(94)00252-5.pcr\u001b[0m*\r\n",
      "\u001b[01;32m10.1016%2F0361-9230(94)90086-8.pcr\u001b[0m*\r\n",
      "\u001b[01;32m10.1016%2FB978-0-12-374245-2.00016-4.pcr\u001b[0m*\r\n",
      "\u001b[01;32m10.1016%2Fj.bbamem.2012.05.026.pcr\u001b[0m*\r\n",
      "\u001b[01;32m10.1016%2Fj.brainres.2012.05.061.pcr\u001b[0m*\r\n",
      "\u001b[01;32m10.1016%2Fj.brainresrev.2004.04.008.pcr\u001b[0m*\r\n",
      "\u001b[01;32m10.1016%2Fj.cell.2014.06.025.pcr\u001b[0m*\r\n",
      "\u001b[01;32m10.1016%2Fj.cell.2015.09.029.pcr\u001b[0m*\r\n",
      "\u001b[01;32m10.1016%2Fj.conb.2015.02.003.pcr\u001b[0m*\r\n",
      "\u001b[01;32m10.1016%2Fj.mcn.2008.07.012.pcr\u001b[0m*\r\n",
      "\u001b[01;32m10.1016%2Fj.neuroimage.2009.12.084.pcr\u001b[0m*\r\n",
      "\u001b[01;32m10.1016%2Fj.neuroimage.2012.10.078.pcr\u001b[0m*\r\n",
      "\u001b[01;32m10.1016%2Fj.neuroimage.2014.10.048.pcr\u001b[0m*\r\n",
      "\u001b[01;32m10.1016%2Fj.neuron.2007.12.022.pcr\u001b[0m*\r\n",
      "\u001b[01;32m10.1016%2Fj.neuron.2009.05.015.pcr\u001b[0m*\r\n",
      "\u001b[01;32m10.1016%2Fj.neuron.2012.10.038.pcr\u001b[0m*\r\n",
      "\u001b[01;32m10.1016%2Fj.neuron.2014.04.046.pcr\u001b[0m*\r\n",
      "\u001b[01;32m10.1016%2Fj.neuron.2015.03.040.pcr\u001b[0m*\r\n",
      "\u001b[01;32m10.1016%2Fj.neuron.2016.03.029.pcr\u001b[0m*\r\n",
      "\u001b[01;32m10.1016%2Fj.neuron.2016.10.024.pcr\u001b[0m*\r\n",
      "\u001b[01;32m10.1016%2Fj.neuroscience.2005.10.029.pcr\u001b[0m*\r\n",
      "\u001b[01;32m10.1016%2Fj.pneurobio.2005.01.002.pcr\u001b[0m*\r\n",
      "\u001b[01;32m10.1016%2Fj.tins.2005.04.003.pcr\u001b[0m*\r\n",
      "\u001b[01;32m10.1016%2Fj.tins.2013.10.001.pcr\u001b[0m*\r\n",
      "\u001b[01;32m10.1016%2Fj.tins.2016.08.001.pcr\u001b[0m*\r\n",
      "\u001b[01;32m10.1016%2FS0006-3495(93)81297-9.pcr\u001b[0m*\r\n",
      "\u001b[01;32m10.1016%2FS0079-6123(05)49009-3.pcr\u001b[0m*\r\n",
      "\u001b[01;32m10.1016%2FS0165-0173(98)00017-4.pcr\u001b[0m*\r\n",
      "\u001b[01;32m10.1016%2FS0165-3806(98)00097-2.pcr\u001b[0m*\r\n",
      "\u001b[01;32m10.1016%2FS0166-2236(97)01157-0.pcr\u001b[0m*\r\n",
      "\u001b[01;32m10.1016%2FS1472-9288(01)00006-1.pcr\u001b[0m*\r\n",
      "\u001b[01;32m10.1038%2F367069a0.pcr\u001b[0m*\r\n",
      "\u001b[01;32m10.1038%2F5729.pcr\u001b[0m*\r\n",
      "\u001b[01;32m10.1038%2F86054.pcr\u001b[0m*\r\n",
      "\u001b[01;32m10.1038%2Fnature09880.pcr\u001b[0m*\r\n",
      "\u001b[01;32m10.1038%2Fnature15398.pcr\u001b[0m*\r\n",
      "\u001b[01;32m10.1038%2Fnn.3488.pcr\u001b[0m*\r\n",
      "\u001b[01;32m10.1038%2Fnn.3951.pcr\u001b[0m*\r\n",
      "\u001b[01;32m10.1038%2Fnn.4153.pcr\u001b[0m*\r\n",
      "\u001b[01;32m10.1038%2Fnrn2402.pcr\u001b[0m*\r\n",
      "\u001b[01;32m10.1038%2Fsrep18873.pcr\u001b[0m*\r\n",
      "\u001b[01;32m10.1046%2Fj.1460-9568.2003.02579.x.pcr\u001b[0m*\r\n",
      "\u001b[01;32m10.1073%2Fpnas.0402761101.pcr\u001b[0m*\r\n",
      "\u001b[01;32m10.1073%2Fpnas.0712231105.pcr\u001b[0m*\r\n",
      "\u001b[01;32m10.1073%2Fpnas.1105115108.pcr\u001b[0m*\r\n",
      "\u001b[01;32m10.1073%2Fpnas.1320572110.pcr\u001b[0m*\r\n",
      "\u001b[01;32m10.1073%2Fpnas.95.12.7121.pcr\u001b[0m*\r\n",
      "\u001b[01;32m10.1085%2Fjgp.201511488.pcr\u001b[0m*\r\n",
      "\u001b[01;32m10.1093%2Fcercor%2F3.5.373.pcr\u001b[0m*\r\n",
      "\u001b[01;32m10.1093%2Fcercor%2Fbhh092.pcr\u001b[0m*\r\n",
      "\u001b[01;32m10.1093%2Fcercor%2Fbhj132.pcr\u001b[0m*\r\n",
      "\u001b[01;32m10.1093%2Fcercor%2Fbhm025.pcr\u001b[0m*\r\n",
      "\u001b[01;32m10.1093%2Fcercor%2Fbhp077.pcr\u001b[0m*\r\n",
      "\u001b[01;32m10.1093%2Fcercor%2Fbhq069.pcr\u001b[0m*\r\n",
      "\u001b[01;32m10.1093%2Fcercor%2Fbhr356.pcr\u001b[0m*\r\n",
      "\u001b[01;32m10.1093%2Fcercor%2Fbhw166.pcr\u001b[0m*\r\n",
      "\u001b[01;32m10.1093%2Fcercor%2Fbhw281.pcr\u001b[0m*\r\n",
      "\u001b[01;32m10.1098%2Frsta.2008.0260.pcr\u001b[0m*\r\n",
      "\u001b[01;32m10.1103%2FPhysRevE.63.021903.pcr\u001b[0m*\r\n",
      "\u001b[01;32m10.1111%2Fejn.12098.pcr\u001b[0m*\r\n",
      "\u001b[01;32m10.1111%2Fejn.12874.pcr\u001b[0m*\r\n",
      "\u001b[01;32m10.1111%2Fj.1365-2869.2010.00830.x.pcr\u001b[0m*\r\n",
      "\u001b[01;32m10.1111%2Fj.1460-9568.2008.06025.x.pcr\u001b[0m*\r\n",
      "\u001b[01;32m10.1111%2Fj.1460-9568.2009.06855.x.pcr\u001b[0m*\r\n",
      "\u001b[01;32m10.1111%2Fj.1460-9568.2012.08033.x.pcr\u001b[0m*\r\n",
      "\u001b[01;32m10.1111%2Fj.1469-7793.2000.00571.x.pcr\u001b[0m*\r\n",
      "\u001b[01;32m10.1111%2Fj.1749-6632.2009.04534.x.pcr\u001b[0m*\r\n",
      "\u001b[01;32m10.1113%2FJP271811.pcr\u001b[0m*\r\n",
      "\u001b[01;32m10.1113%2Fjphysiol.1989.sp017705.pcr\u001b[0m*\r\n",
      "\u001b[01;32m10.1113%2Fjphysiol.2004.070888.pcr\u001b[0m*\r\n",
      "\u001b[01;32m10.1113%2Fjphysiol.2006.113043.pcr\u001b[0m*\r\n",
      "\u001b[01;32m10.1113%2Fjphysiol.2007.134254.pcr\u001b[0m*\r\n",
      "\u001b[01;32m10.1113%2Fjphysiol.2010.187096.pcr\u001b[0m*\r\n",
      "\u001b[01;32m10.1126%2Fscience.1207502.pcr\u001b[0m*\r\n",
      "\u001b[01;32m10.1126%2Fscience.287.5451.273.pcr\u001b[0m*\r\n",
      "\u001b[01;32m10.1126%2Fscience.8235588.pcr\u001b[0m*\r\n",
      "\u001b[01;32m10.1126%2Fscience.aad4120.pcr\u001b[0m*\r\n",
      "\u001b[01;32m10.1146%2Fannurev-neuro-071013-014229.pcr\u001b[0m*\r\n",
      "\u001b[01;32m10.1146%2Fannurev.neuro.20.1.185.pcr\u001b[0m*\r\n",
      "\u001b[01;32m10.1146%2Fannurev.neuro.26.041002.131128.pcr\u001b[0m*\r\n",
      "\u001b[01;32m10.1152%2Fjn.00166.2006.pcr\u001b[0m*\r\n",
      "\u001b[01;32m10.1152%2Fjn.00206.2005.pcr\u001b[0m*\r\n",
      "\u001b[01;32m10.1152%2Fjn.00559.2012.pcr\u001b[0m*\r\n",
      "\u001b[01;32m10.1152%2Fjn.00573.2002.pcr\u001b[0m*\r\n",
      "\u001b[01;32m10.1152%2Fjn.00647.2013.pcr\u001b[0m*\r\n",
      "\u001b[01;32m10.1152%2Fjn.00915.2004.pcr\u001b[0m*\r\n",
      "\u001b[01;32m10.1152%2Fjn.00926.2014.pcr\u001b[0m*\r\n",
      "\u001b[01;32m10.1152%2Fjn.00974.2005.pcr\u001b[0m*\r\n",
      "\u001b[01;32m10.1152%2Fjn.00983.2004.pcr\u001b[0m*\r\n",
      "\u001b[01;32m10.1152%2Fjn.01121.2015.pcr\u001b[0m*\r\n",
      "\u001b[01;32m10.1152%2Fjn.01163.2002.pcr\u001b[0m*\r\n",
      "\u001b[01;32m10.1152%2Fjn.01206.2007.pcr\u001b[0m*\r\n",
      "\u001b[01;32m10.1152%2Fjn.01212.2005.pcr\u001b[0m*\r\n",
      "\u001b[01;32m10.1152%2Fjn.91130.2008.pcr\u001b[0m*\r\n",
      "\u001b[01;32m10.1152%2Fphysrev.00012.2003.pcr\u001b[0m*\r\n",
      "\u001b[01;32m10.1155%2F2014%2F370764.pcr\u001b[0m*\r\n",
      "\u001b[01;32m10.1155%2F2016%2F3024342.pcr\u001b[0m*\r\n",
      "\u001b[01;32m10.1162%2Fneco.1997.9.6.1179.pcr\u001b[0m*\r\n",
      "\u001b[01;32m10.1162%2Fneco.2006.18.12.3052.pcr\u001b[0m*\r\n",
      "\u001b[01;32m10.1162%2Fneco.2007.19.2.478.pcr\u001b[0m*\r\n",
      "\u001b[01;32m10.1162%2FNECO_a_00206.pcr\u001b[0m*\r\n",
      "\u001b[01;32m10.1177%2F0269881114565805.pcr\u001b[0m*\r\n",
      "\u001b[01;32m10.1177%2F1073858413500854.pcr\u001b[0m*\r\n",
      "\u001b[01;32m10.1186%2F1749-8104-8-24.pcr\u001b[0m*\r\n",
      "\u001b[01;32m10.1186%2F2190-8567-3-17.pcr\u001b[0m*\r\n",
      "\u001b[01;32m10.1371%2Fjournal.pbio.1000348.pcr\u001b[0m*\r\n",
      "\u001b[01;32m10.1371%2Fjournal.pcbi.1002160.pcr\u001b[0m*\r\n",
      "\u001b[01;32m10.1371%2Fjournal.pcbi.1005022.pcr\u001b[0m*\r\n",
      "\u001b[01;32m10.1371%2Fjournal.pone.0033477.pcr\u001b[0m*\r\n",
      "\u001b[01;32m10.1371%2Fjournal.pone.0056630.pcr\u001b[0m*\r\n",
      "\u001b[01;32m10.1371%2Fjournal.pone.0057330.pcr\u001b[0m*\r\n",
      "\u001b[01;32m10.1371%2Fjournal.pone.0107780.pcr\u001b[0m*\r\n",
      "\u001b[01;32m10.1523%2FJNEUROSCI.0077-11.2011.pcr\u001b[0m*\r\n",
      "\u001b[01;32m10.1523%2FJNEUROSCI.0562-14.2014.pcr\u001b[0m*\r\n",
      "\u001b[01;32m10.1523%2FJNEUROSCI.0607-16.2016.pcr\u001b[0m*\r\n",
      "\u001b[01;32m10.1523%2FJNEUROSCI.0839-12.2012.pcr\u001b[0m*\r\n",
      "\u001b[01;32m10.1523%2FJNEUROSCI.1194-07.2007.pcr\u001b[0m*\r\n",
      "\u001b[01;32m10.1523%2FJNEUROSCI.1362-12.2012.pcr\u001b[0m*\r\n",
      "\u001b[01;32m10.1523%2FJNEUROSCI.2333-06.2006.pcr\u001b[0m*\r\n",
      "\u001b[01;32m10.1523%2FJNEUROSCI.2740-15.2015.pcr\u001b[0m*\r\n",
      "\u001b[01;32m10.1523%2FJNEUROSCI.3073-10.2011.pcr\u001b[0m*\r\n",
      "\u001b[01;32m10.1523%2FJNEUROSCI.3169-13.2013.pcr\u001b[0m*\r\n",
      "\u001b[01;32m10.1523%2FJNEUROSCI.3358-03.2004.pcr\u001b[0m*\r\n",
      "\u001b[01;32m10.1523%2FJNEUROSCI.3636-10.2010.pcr\u001b[0m*\r\n",
      "\u001b[01;32m10.1523%2FJNEUROSCI.3688-14.2015.pcr\u001b[0m*\r\n",
      "\u001b[01;32m10.1523%2FJNEUROSCI.6141-11.2012.pcr\u001b[0m*\r\n",
      "\u001b[01;32m10.3389%2Ffncel.2011.00031.pcr\u001b[0m*\r\n",
      "\u001b[01;32m10.3389%2Ffncir.2014.00046.pcr\u001b[0m*\r\n",
      "\u001b[01;32m10.3389%2Ffncom.2013.00094.pcr\u001b[0m*\r\n",
      "\u001b[01;32m10.3389%2Ffncom.2015.00052.pcr\u001b[0m*\r\n",
      "\u001b[01;32m10.3389%2Ffncom.2016.00079.pcr\u001b[0m*\r\n",
      "\u001b[01;32m10.3389%2Fneuro.10.005.2008.pcr\u001b[0m*\r\n",
      "\u001b[01;32m10.3389%2Fneuro.11.001.2009.pcr\u001b[0m*\r\n",
      "\u001b[01;32m10.5665%2Fsleep.2702.pcr\u001b[0m*\r\n",
      "\u001b[01;32m10.7554%2FeLife.08760.001.pcr\u001b[0m*\r\n",
      "\u001b[01;32mannotations.bin\u001b[0m*\r\n",
      "\u001b[01;32montoCategories.bin\u001b[0m*\r\n",
      "\u001b[01;32montoDics.pickle\u001b[0m*\r\n",
      "\u001b[01;32montoTrees.pickle\u001b[0m*\r\n",
      "\u001b[01;32mPMID_10322042.pcr\u001b[0m*\r\n",
      "\u001b[01;32mPMID_10391450.pcr\u001b[0m*\r\n",
      "\u001b[01;32mPMID_10407013.pcr\u001b[0m*\r\n",
      "\u001b[01;32mPMID_10408596.pcr\u001b[0m*\r\n",
      "\u001b[01;32mPMID_10414998.pcr\u001b[0m*\r\n",
      "\u001b[01;32mPMID_10662820.pcr\u001b[0m*\r\n",
      "\u001b[01;32mPMID_11068332.pcr\u001b[0m*\r\n",
      "\u001b[01;32mPMID_11218057.pcr\u001b[0m*\r\n",
      "\u001b[01;32mPMID_11826050.pcr\u001b[0m*\r\n",
      "\u001b[01;32mPMID_11826128.pcr\u001b[0m*\r\n",
      "\u001b[01;32mPMID_12509484.pcr\u001b[0m*\r\n",
      "\u001b[01;32mPMID_1279135.pcr\u001b[0m*\r\n",
      "\u001b[01;32mPMID_12866666.pcr\u001b[0m*\r\n",
      "\u001b[01;32mPMID_12917373.pcr\u001b[0m*\r\n",
      "\u001b[01;32mPMID_1328563.pcr\u001b[0m*\r\n",
      "\u001b[01;32mPMID_1331356.pcr\u001b[0m*\r\n",
      "\u001b[01;32mPMID_1403085.pcr\u001b[0m*\r\n",
      "\u001b[01;32mPMID_14232399.pcr\u001b[0m*\r\n",
      "\u001b[01;32mPMID_14642484.pcr\u001b[0m*\r\n",
      "\u001b[01;32mPMID_1467985.pcr\u001b[0m*\r\n",
      "\u001b[01;32mPMID_14984412.pcr\u001b[0m*\r\n",
      "\u001b[01;32mPMID_1712843.pcr\u001b[0m*\r\n",
      "\u001b[01;32mPMID_23493337.pcr\u001b[0m*\r\n",
      "\u001b[01;32mPMID_2413176.pcr\u001b[0m*\r\n",
      "\u001b[01;32mPMID_2558172.pcr\u001b[0m*\r\n",
      "\u001b[01;32mPMID_2833597.pcr\u001b[0m*\r\n",
      "\u001b[01;32mPMID_3282295.pcr\u001b[0m*\r\n",
      "\u001b[01;32mPMID_3309260.pcr\u001b[0m*\r\n",
      "\u001b[01;32mPMID_3559675.pcr\u001b[0m*\r\n",
      "\u001b[01;32mPMID_4818499.pcr\u001b[0m*\r\n",
      "\u001b[01;32mPMID_4853232.pcr\u001b[0m*\r\n",
      "\u001b[01;32mPMID_6589612.pcr\u001b[0m*\r\n",
      "\u001b[01;32mPMID_7417821.pcr\u001b[0m*\r\n",
      "\u001b[01;32mPMID_7527077.pcr\u001b[0m*\r\n",
      "\u001b[01;32mPMID_7578475.pcr\u001b[0m*\r\n",
      "\u001b[01;32mPMID_7644532.pcr\u001b[0m*\r\n",
      "\u001b[01;32mPMID_7711933.pcr\u001b[0m*\r\n",
      "\u001b[01;32mPMID_7711934.pcr\u001b[0m*\r\n",
      "\u001b[01;32mPMID_7965855.pcr\u001b[0m*\r\n",
      "\u001b[01;32mPMID_8254530.pcr\u001b[0m*\r\n",
      "\u001b[01;32mPMID_8523899.pcr\u001b[0m*\r\n",
      "\u001b[01;32mPMID_8613783.pcr\u001b[0m*\r\n",
      "\u001b[01;32mPMID_8745283.pcr\u001b[0m*\r\n",
      "\u001b[01;32mPMID_8890259.pcr\u001b[0m*\r\n",
      "\u001b[01;32mPMID_8978932.pcr\u001b[0m*\r\n",
      "\u001b[01;32mPMID_9012852.pcr\u001b[0m*\r\n",
      "\u001b[01;32mPMID_9096155.pcr\u001b[0m*\r\n",
      "\u001b[01;32mPMID_9115669.pcr\u001b[0m*\r\n",
      "\u001b[01;32mPMID_9252231.pcr\u001b[0m*\r\n",
      "\u001b[01;32mPMID_9457638.pcr\u001b[0m*\r\n",
      "\u001b[01;32mPMID_9457647.pcr\u001b[0m*\r\n",
      "\u001b[01;32mPMID_9518268.pcr\u001b[0m*\r\n",
      "\u001b[01;32mPMID_9570789.pcr\u001b[0m*\r\n",
      "\u001b[01;32mPMID_9824459.pcr\u001b[0m*\r\n"
     ]
    }
   ],
   "source": [
    "ls \"./neurocuratorDB\""
   ]
  },
  {
   "cell_type": "code",
   "execution_count": 6,
   "metadata": {},
   "outputs": [
    {
     "ename": "ValueError",
     "evalue": "min() arg is an empty sequence",
     "output_type": "error",
     "traceback": [
      "\u001b[0;31m---------------------------------------------------------------------------\u001b[0m",
      "\u001b[0;31mValueError\u001b[0m                                Traceback (most recent call last)",
      "\u001b[0;32m<ipython-input-6-673864da62db>\u001b[0m in \u001b[0;36m<module>\u001b[0;34m()\u001b[0m\n\u001b[0;32m----> 1\u001b[0;31m \u001b[0mprint\u001b[0m\u001b[0;34m(\u001b[0m\u001b[0mmin\u001b[0m\u001b[0;34m(\u001b[0m\u001b[0mintra\u001b[0m\u001b[0;34m)\u001b[0m\u001b[0;34m,\u001b[0m \u001b[0mmax\u001b[0m\u001b[0;34m(\u001b[0m\u001b[0minter\u001b[0m\u001b[0;34m)\u001b[0m\u001b[0;34m)\u001b[0m\u001b[0;34m\u001b[0m\u001b[0m\n\u001b[0m",
      "\u001b[0;31mValueError\u001b[0m: min() arg is an empty sequence"
     ]
    }
   ],
   "source": []
  },
  {
   "cell_type": "code",
   "execution_count": 16,
   "metadata": {
    "collapsed": true
   },
   "outputs": [],
   "source": [
    "%matplotlib inline\n",
    "import seaborn as sb\n",
    "\n",
    "if len(intra):\n",
    "    print(min(intra), max(inter))\n",
    "    sb.distplot(intra, kde=False, norm_hist=True)\n",
    "    sb.distplot(inter, kde=False, norm_hist=True)"
   ]
  },
  {
   "cell_type": "code",
   "execution_count": null,
   "metadata": {
    "collapsed": true
   },
   "outputs": [],
   "source": []
  }
 ],
 "metadata": {
  "kernelspec": {
   "display_name": "python3.5",
   "language": "python",
   "name": "python3.5"
  },
  "language_info": {
   "codemirror_mode": {
    "name": "ipython",
    "version": 3
   },
   "file_extension": ".py",
   "mimetype": "text/x-python",
   "name": "python",
   "nbconvert_exporter": "python",
   "pygments_lexer": "ipython3",
   "version": "3.5.2"
  }
 },
 "nbformat": 4,
 "nbformat_minor": 1
}
