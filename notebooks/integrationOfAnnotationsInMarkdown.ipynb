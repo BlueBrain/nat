{
 "cells": [
  {
   "cell_type": "code",
   "execution_count": 1,
   "metadata": {
    "collapsed": false
   },
   "outputs": [],
   "source": [
    "!pip install -q https://github.com/ipython-contrib/IPython-notebook-extensions/tarball/master --user\n",
    "\n",
    "from notebook.nbextensions import check_nbextension\n",
    "check_nbextension('usability/python-markdown', user=True)\n",
    "\n",
    "ext_require_path = 'usability/python-markdown/main'\n",
    "\n",
    "from notebook.nbextensions import disable_nbextension\n",
    "disable_nbextension('notebook', ext_require_path)\n",
    "\n",
    "try:  # notebook >= 4.2.0\n",
    "    from notebook.nbextensions import disable_nbextension\n",
    "    disable_nbextension('notebook', ext_require_path)\n",
    "except ImportError:\n",
    "    from notebook.nbextensions import DisableNBExtensionApp\n",
    "    DisableNBExtensionApp().disable_nbextension(ext_require_path)"
   ]
  },
  {
   "cell_type": "code",
   "execution_count": 2,
   "metadata": {
    "collapsed": false
   },
   "outputs": [
    {
     "name": "stdout",
     "output_type": "stream",
     "text": [
      "/home/oreilly/GIT_repos/nat/notebooks/neurocuratorDB\n",
      "From https://github.com/christian-oreilly/corpus-thalamus\n",
      " * branch            master     -> FETCH_HEAD\n",
      "Already up-to-date.\n",
      "/home/oreilly/GIT_repos/nat/notebooks\n"
     ]
    }
   ],
   "source": [
    "%cd ./neurocuratorDB\n",
    "!git pull origin master\n",
    "%cd .."
   ]
  },
  {
   "cell_type": "code",
   "execution_count": 3,
   "metadata": {
    "collapsed": false
   },
   "outputs": [],
   "source": [
    "from nat.annotationSearch import AnnotationGetter\n",
    "annotGetter = AnnotationGetter(pathDB=\"neurocuratorDB\")\n",
    "\n",
    "def citeAnnot(annotID):\n",
    "    annot = annotGetter.getAnnot(annotID)\n",
    "    pubId = annot.pubId\n",
    "    return '\"<I>' + annot.text.replace(\"\\n\", \" \") + '</I>\" (annot ID: ' + annotID + ')'\n"
   ]
  },
  {
   "cell_type": "markdown",
   "metadata": {
    "variables": {
     "\"{{\"": "{{",
     "citeAnnot(\"1377836a-6b89-11e6-a6a4-64006a4c56ef\")": "&quot;<I>Short-term facilitation is an established property of L6 CT excit- atory synapses and has been fairly well characterized (Beierlein and Connors, 2002; Descheˆnes and Hu, 1990; Ferster and Lind- stro ̈m, 1985; Landisman and Connors, 2007; Sun and Beierlein, 2011; Turner and Salt, 1998; von Krosigk et al., 1999).</I>&quot; (annot ID: 1377836a-6b89-11e6-a6a4-64006a4c56ef)",
     "citeAnnot(\"7ca269c2-6b89-11e6-a6a4-64006a4c56ef\")": "&quot;<I>the decreasing IPSCs recorded during optical CT train stimuli are primarily explained by the robust short-term synaptic depression of the TRN-VPm synapse, with only a minimal contribution from the intrinsically mediated reductions in TRN spiking</I>&quot; (annot ID: 7ca269c2-6b89-11e6-a6a4-64006a4c56ef)"
    }
   },
   "source": [
    "### Markdown code \n",
    "\n",
    "    * (Reinhold et al, 2015) Distinct recurrent versus afferent dynamics in cortical visual processing,  http://www.nature.com/neuro/journal/v18/n12/full/nn.4153.html\n",
    "\n",
    "    * (Crandall et al, 2015) A corticothalamic switch: Controling the thalamus with dynamic synapses, http://www.cell.com/neuron/abstract/S0896-6273%2815%2900264-0 \n",
    "        * Trains of CT spikes produce initial inhibition and late excitation in TC cells\n",
    "        * The monosynaptic excitation of TC cells by CT cells shows facilitation\n",
    "            * {{\"{{\"}}citeAnnot(\"1377836a-6b89-11e6-a6a4-64006a4c56ef\")}}\n",
    "        * The disynaptic inhibition (through TRN cells) of TC cells by CT cells shows depression\n",
    "            * {{\"{{\"}}citeAnnot(\"7ca269c2-6b89-11e6-a6a4-64006a4c56ef\")}}\n",
    "        * tend to be inhibitory at low frequency (<= 0.1 Hz)\n",
    "        * tend to be excitatory at high frequency (~10 Hz, ~80 Hz)\n",
    "\n",
    "\n",
    "\n",
    "### Markdown rendering\n",
    "* (Reinhold et al, 2015) Distinct recurrent versus afferent dynamics in cortical visual processing,  http://www.nature.com/neuro/journal/v18/n12/full/nn.4153.html\n",
    "\n",
    "* (Crandall et al, 2015) A corticothalamic switch: Controling the thalamus with dynamic synapses, http://www.cell.com/neuron/abstract/S0896-6273%2815%2900264-0 \n",
    "    * Trains of CT spikes produce initial inhibition and late excitation in TC cells\n",
    "    * The monosynaptic excitation of TC cells by CT cells shows facilitation\n",
    "        * {{citeAnnot(\"1377836a-6b89-11e6-a6a4-64006a4c56ef\")}}\n",
    "    * The disynaptic inhibition (through TRN cells) of TC cells by CT cells shows depression\n",
    "        * {{citeAnnot(\"7ca269c2-6b89-11e6-a6a4-64006a4c56ef\")}}\n",
    "    * tend to be inhibitory at low frequency (<= 0.1 Hz)\n",
    "    * tend to be excitatory at high frequency (~10 Hz, ~80 Hz)\n",
    "    \n"
   ]
  },
  {
   "cell_type": "code",
   "execution_count": null,
   "metadata": {
    "collapsed": true
   },
   "outputs": [],
   "source": []
  }
 ],
 "metadata": {
  "kernelspec": {
   "display_name": "Python 3",
   "language": "python",
   "name": "python3"
  },
  "language_info": {
   "codemirror_mode": {
    "name": "ipython",
    "version": 3
   },
   "file_extension": ".py",
   "mimetype": "text/x-python",
   "name": "python",
   "nbconvert_exporter": "python",
   "pygments_lexer": "ipython3",
   "version": "3.4.3"
  }
 },
 "nbformat": 4,
 "nbformat_minor": 0
}
