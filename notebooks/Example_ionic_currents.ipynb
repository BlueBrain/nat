{
 "cells": [
  {
   "cell_type": "markdown",
   "metadata": {},
   "source": [
    "# Example with ionic current conductances\n",
    "\n",
    "In this example:\n",
    "1. The thalamus corpus is queried for ionic current conductances\n",
    "2. Curated values are summarized as a violin plot\n",
    "3. A specific annotation is selected, its JSON representation shown, and its text and context displayed."
   ]
  },
  {
   "cell_type": "markdown",
   "metadata": {},
   "source": [
    "### Downloading the corpus"
   ]
  },
  {
   "cell_type": "code",
   "execution_count": 1,
   "metadata": {},
   "outputs": [],
   "source": [
    "from git import Repo\n",
    "import os\n",
    "\n",
    "git_url = \"https://github.com/BlueBrain/corpus-thalamus.git\"\n",
    "repo_dir = os.path.join(os.getcwd(), \"neurocuratorDB\")\n",
    "if not os.path.isdir(repo_dir):\n",
    "    Repo.clone_from(git_url, repo_dir)\n",
    "else:\n",
    "    Repo(repo_dir).remotes.origin.pull()"
   ]
  },
  {
   "cell_type": "markdown",
   "metadata": {},
   "source": [
    "### Imports"
   ]
  },
  {
   "cell_type": "code",
   "execution_count": 2,
   "metadata": {},
   "outputs": [],
   "source": [
    "# Stadard imports\n",
    "import sys, os\n",
    "import matplotlib.pylab as plt\n",
    "import seaborn as sns\n",
    "import quantities as pq\n",
    "import numpy as np\n",
    "\n",
    "# NAT imports\n",
    "from nat.annotationSearch import ParameterSearch, ConditionAtom"
   ]
  },
  {
   "cell_type": "markdown",
   "metadata": {},
   "source": [
    "### Searching for annotated maximal ionic current conductances and showing the three first records"
   ]
  },
  {
   "cell_type": "code",
   "execution_count": 3,
   "metadata": {},
   "outputs": [
    {
     "data": {
      "text/html": [
       "<div>\n",
       "<style scoped>\n",
       "    .dataframe tbody tr th:only-of-type {\n",
       "        vertical-align: middle;\n",
       "    }\n",
       "\n",
       "    .dataframe tbody tr th {\n",
       "        vertical-align: top;\n",
       "    }\n",
       "\n",
       "    .dataframe thead th {\n",
       "        text-align: right;\n",
       "    }\n",
       "</style>\n",
       "<table border=\"1\" class=\"dataframe\">\n",
       "  <thead>\n",
       "    <tr style=\"text-align: right;\">\n",
       "      <th></th>\n",
       "      <th>AgeCategories</th>\n",
       "      <th>Cell</th>\n",
       "      <th>Context</th>\n",
       "      <th>Species</th>\n",
       "      <th>Text</th>\n",
       "      <th>neuron part</th>\n",
       "    </tr>\n",
       "  </thead>\n",
       "  <tbody>\n",
       "    <tr>\n",
       "      <th>0</th>\n",
       "      <td>[]</td>\n",
       "      <td>Thalamus interneuron small</td>\n",
       "      <td></td>\n",
       "      <td>[{'name': 'Mouse', 'id': 'NIFORG:birnlex_167'}]</td>\n",
       "      <td>Table 1</td>\n",
       "      <td>Neuronal Cell Body</td>\n",
       "    </tr>\n",
       "    <tr>\n",
       "      <th>1</th>\n",
       "      <td>[]</td>\n",
       "      <td>Thalamus relay cell</td>\n",
       "      <td></td>\n",
       "      <td>[{'name': 'Rat', 'id': 'NIFORG:birnlex_160'}]</td>\n",
       "      <td>Table 2</td>\n",
       "      <td></td>\n",
       "    </tr>\n",
       "    <tr>\n",
       "      <th>2</th>\n",
       "      <td>[]</td>\n",
       "      <td>Thalamus relay cell</td>\n",
       "      <td></td>\n",
       "      <td>[{'name': 'Rat', 'id': 'NIFORG:birnlex_160'}]</td>\n",
       "      <td>Table 2</td>\n",
       "      <td></td>\n",
       "    </tr>\n",
       "  </tbody>\n",
       "</table>\n",
       "</div>"
      ],
      "text/plain": [
       "  AgeCategories                        Cell Context  \\\n",
       "0            []  Thalamus interneuron small           \n",
       "1            []         Thalamus relay cell           \n",
       "2            []         Thalamus relay cell           \n",
       "\n",
       "                                           Species     Text  \\\n",
       "0  [{'name': 'Mouse', 'id': 'NIFORG:birnlex_167'}]  Table 1   \n",
       "1    [{'name': 'Rat', 'id': 'NIFORG:birnlex_160'}]  Table 2   \n",
       "2    [{'name': 'Rat', 'id': 'NIFORG:birnlex_160'}]  Table 2   \n",
       "\n",
       "          neuron part  \n",
       "0  Neuronal Cell Body  \n",
       "1                      \n",
       "2                      "
      ]
     },
     "execution_count": 3,
     "metadata": {},
     "output_type": "execute_result"
    }
   ],
   "source": [
    "searcher = ParameterSearch(repo_dir)\n",
    "searcher.setSearchConditions(ConditionAtom(\"Parameter name\", \"conductance_ion_curr_max\"))\n",
    "searcher.expandRequiredTags = True\n",
    "searcher.onlyCentralTendancy = True\n",
    "resultDF = searcher.search()\n",
    "resultDF.head(3)[[\"AgeCategories\", \"Cell\", \"Context\", \"Species\", \"Text\", \"neuron part\"]]"
   ]
  },
  {
   "cell_type": "markdown",
   "metadata": {},
   "source": [
    "### Checking which conductances have been specified as \"specific conductances\" (i.e., conductance densities) and normalizing the units."
   ]
  },
  {
   "cell_type": "code",
   "execution_count": 4,
   "metadata": {},
   "outputs": [],
   "source": [
    "isSpecific = []\n",
    "allConductances = []\n",
    "for v, u in zip(resultDF[\"Values\"], resultDF[\"Unit\"]):\n",
    "    try:\n",
    "        allConductances.append(float(pq.Quantity(v, u).rescale('S/cm**2')))\n",
    "        isSpecific.append(True)\n",
    "    except:\n",
    "        isSpecific.append(False)\n",
    "        "
   ]
  },
  {
   "cell_type": "markdown",
   "metadata": {},
   "source": [
    "### Plotting the result of our query"
   ]
  },
  {
   "cell_type": "code",
   "execution_count": 5,
   "metadata": {},
   "outputs": [],
   "source": [
    "resultDF = resultDF[isSpecific]\n",
    "resultDF[\"Values\"] = np.log10(allConductances)"
   ]
  },
  {
   "cell_type": "code",
   "execution_count": 6,
   "metadata": {},
   "outputs": [
    {
     "data": {
      "image/png": "[encoded data removed]",
      "text/plain": [
       "<matplotlib.figure.Figure at 0x7f0d46d647b8>"
      ]
     },
     "metadata": {},
     "output_type": "display_data"
    }
   ],
   "source": [
    "%matplotlib inline\n",
    "# Plotting a violin plot for annotated values for specific conductances\n",
    "# of the various kind of ionic currents \n",
    "plt.figure(figsize=(6, 8))\n",
    "g = sns.violinplot(y=\"Transmembrane ionic current\", x=\"Values\", data=resultDF, bw=0.25)\n",
    "g = sns.swarmplot( y=\"Transmembrane ionic current\", x=\"Values\", data=resultDF)\n",
    "g.set_ylabel(\"\")\n",
    "g.set_xlabel(\"Specific conductance ($S/cm^2$)\")\n",
    "g.set_xticklabels([('%.0e' % 10**nb) for nb in g.get_xticks()]) \n",
    "\n",
    "for spine in plt.gca().spines.values():\n",
    "    spine.set_visible(False)\n",
    "plt.tick_params(top='off', bottom='off', left='off', right='off', labelleft='on', labelbottom='on')\n",
    "#plt.plot()\n",
    "plt.savefig('example_currents.png', bbox_inches='tight', transparent=True, dpi=200)\n"
   ]
  },
  {
   "cell_type": "markdown",
   "metadata": {
    "collapsed": true
   },
   "source": [
    "### Printing the JSON representation of a specific annotation of the plot"
   ]
  },
  {
   "cell_type": "code",
   "execution_count": 7,
   "metadata": {},
   "outputs": [
    {
     "name": "stdout",
     "output_type": "stream",
     "text": [
      "{\n",
      "    \"annotId\": \"8e3edae6-ef34-11e5-ba5d-c869cd917532\",\n",
      "    \"authors\": [\n",
      "        \"iavarone\",\n",
      "        \"oreilly\"\n",
      "    ],\n",
      "    \"comment\": \"Fast potassium current parameters\",\n",
      "    \"experimentProperties\": [],\n",
      "    \"localizer\": {\n",
      "        \"location\": 26404,\n",
      "        \"text\": \"The gKIR and the\\nfast voltage-gated potassium channel ( gKf) had conductances of 20 \\u0002s/\\ncm2 and 50 mS/cm2, respectively. Both potassium channels had reversal\\npotentials of 100 mV.\",\n",
      "        \"type\": \"text\"\n",
      "    },\n",
      "    \"parameters\": [\n",
      "        {\n",
      "            \"description\": {\n",
      "                \"depVar\": {\n",
      "                    \"typeId\": \"BBP-030003\",\n",
      "                    \"values\": {\n",
      "                        \"statistic\": \"raw\",\n",
      "                        \"type\": \"simple\",\n",
      "                        \"unit\": \"mS/cm^2\",\n",
      "                        \"values\": [\n",
      "                            50.0\n",
      "                        ]\n",
      "                    }\n",
      "                },\n",
      "                \"type\": \"pointValue\"\n",
      "            },\n",
      "            \"id\": \"e47c93ba-ffdc-11e5-8b78-64006a4c56ef\",\n",
      "            \"isExperimentProperty\": false,\n",
      "            \"requiredTags\": [\n",
      "                {\n",
      "                    \"id\": \"BBP_nlx_0020\",\n",
      "                    \"name\": \"Fast voltage-gated potassium (Kf) current\",\n",
      "                    \"rootId\": \"nifext_8054\"\n",
      "                },\n",
      "                {\n",
      "                    \"id\": \"NIFCELL:nifext_41\",\n",
      "                    \"name\": \"Thalamocortical cell\",\n",
      "                    \"rootId\": \"sao1813327414\"\n",
      "                }\n",
      "            ]\n",
      "        },\n",
      "        {\n",
      "            \"description\": {\n",
      "                \"depVar\": {\n",
      "                    \"typeId\": \"BBP-011001\",\n",
      "                    \"values\": {\n",
      "                        \"statistic\": \"raw\",\n",
      "                        \"type\": \"simple\",\n",
      "                        \"unit\": \"mV\",\n",
      "                        \"values\": [\n",
      "                            -100.0\n",
      "                        ]\n",
      "                    }\n",
      "                },\n",
      "                \"type\": \"pointValue\"\n",
      "            },\n",
      "            \"id\": \"e47c95c2-ffdc-11e5-8b78-64006a4c56ef\",\n",
      "            \"isExperimentProperty\": false,\n",
      "            \"requiredTags\": [\n",
      "                {\n",
      "                    \"id\": \"BBP_nlx_0020\",\n",
      "                    \"name\": \"Fast voltage-gated potassium (Kf) current\",\n",
      "                    \"rootId\": \"nifext_8054\"\n",
      "                },\n",
      "                {\n",
      "                    \"id\": \"NIFCELL:nifext_41\",\n",
      "                    \"name\": \"Thalamocortical cell\",\n",
      "                    \"rootId\": \"sao1813327414\"\n",
      "                }\n",
      "            ]\n",
      "        }\n",
      "    ],\n",
      "    \"pubId\": \"10.1523/JNEUROSCI.2740-15.2015\",\n",
      "    \"tags\": [\n",
      "        {\n",
      "            \"id\": \"NIFINV:birnlex_2300\",\n",
      "            \"name\": \"Computational model\"\n",
      "        },\n",
      "        {\n",
      "            \"id\": \"NIFCELL:nifext_46\",\n",
      "            \"name\": \"Thalamus interneuron small\"\n",
      "        },\n",
      "        {\n",
      "            \"id\": \"NIFORG:birnlex_160\",\n",
      "            \"name\": \"Rat\"\n",
      "        }\n",
      "    ],\n",
      "    \"version\": \"1\"\n",
      "}\n"
     ]
    }
   ],
   "source": [
    "import json\n",
    "record = resultDF[resultDF[\"Transmembrane ionic current\"] == \"Fast voltage-gated potassium (Kf) current\"]\n",
    "print(json.dumps(record[\"obj_annotation\"].values[0].toJSON(), \n",
    "                 sort_keys=True, indent=4, separators=(',', ': ')))"
   ]
  },
  {
   "cell_type": "markdown",
   "metadata": {},
   "source": [
    "### Showing the annotated text in its context"
   ]
  },
  {
   "cell_type": "code",
   "execution_count": 8,
   "metadata": {},
   "outputs": [
    {
     "data": {
      "text/html": [
       "st.\n",
       "Thus, our final model comprised the following: gLEAK was modeled\n",
       "with a reversal potential of ⫺79 mV and conductance of 150 ␮s/cm 2, and\n",
       "gH had a reversal potential of ⫺45 mV and peak conductance of 150\n",
       "␮s/cm 2. T-type Ca2⫹ channels ( gT) were modeled with a reversal potential of 120 mV and a permeability of 0.7 ␮m/s. The gCAN had a conductance of 250 ␮S/cm 2 and reversal potential of ⫺20 mV. <b>The gKIR and the\n",
       "fast voltage-gated potassium channel ( gKf) had conductances of 20 ␮s/\n",
       "cm 2 and 50 mS/cm 2, respectively. Both potassium channels had reversal\n",
       "potentials of ⫺100 </b>mV. The gNa had conductance of 50 mS/cm 2 and\n",
       "reversal potential of 50 mV. Throughout this manuscript, when referring\n",
       "to the ability of gT to provide current, we use the term “conductance”\n",
       "rather than “permeability.” Whereas the model is in actuality based on\n",
       "permeability rather than conductance, we use this naming convention to\n",
       "simplify the text.\n",
       "Simulations were solved with a fixed time step of "
      ],
      "text/plain": [
       "<IPython.core.display.HTML object>"
      ]
     },
     "execution_count": 8,
     "metadata": {},
     "output_type": "execute_result"
    }
   ],
   "source": [
    "nbContextChar = 400\n",
    "context = record[\"obj_annotation\"].values[0].getContext(nbContextChar)\n",
    "from IPython.display import HTML\n",
    "HTML(context[:nbContextChar] +  '<b>' + context[nbContextChar:-nbContextChar]\n",
    "      + '</b>' + context[-nbContextChar:])"
   ]
  }
 ],
 "metadata": {
  "kernelspec": {
   "display_name": "venv3.4",
   "language": "python",
   "name": "venv3.4"
  },
  "language_info": {
   "codemirror_mode": {
    "name": "ipython",
    "version": 3
   },
   "file_extension": ".py",
   "mimetype": "text/x-python",
   "name": "python",
   "nbconvert_exporter": "python",
   "pygments_lexer": "ipython3",
   "version": "3.5.2"
  }
 },
 "nbformat": 4,
 "nbformat_minor": 1
}
