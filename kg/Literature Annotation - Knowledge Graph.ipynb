{
 "cells": [
  {
   "cell_type": "markdown",
   "metadata": {},
   "source": [
    "## Description"
   ]
  },
  {
   "cell_type": "markdown",
   "metadata": {},
   "source": [
    "This notebook showcases a **recommended workflow** to prepare the modeling parameters annotated with NeuroCurator for their integration in the **Blue Brain Knowledge Graph** backed by [Blue Brain Nexus](https://bluebrain.github.io/nexus/).\n",
    "\n",
    "The four main parts of the workflow are:\n",
    "1. Prepare schemas from Neuroshapes. Publish them in Nexus.\n",
    "2. Transform source data into JSON-LD / RDF. Register them in Nexus. Recover from errors. Profile invalid data.\n",
    "3. Create test data for schema validation in Neuroshapes.\n",
    "4. Clean, _if needed_, created data in Nexus.\n",
    "\n",
    "For the features of the underlining toolkit, please refer to the [README](https://github.com/BlueBrain/nat/blob/master/kg/README.md) in the directory."
   ]
  },
  {
   "cell_type": "markdown",
   "metadata": {},
   "source": [
    "## Getting Started"
   ]
  },
  {
   "cell_type": "markdown",
   "metadata": {},
   "source": [
    "```\n",
    "mkdir repos\n",
    "cd repos\n",
    "\n",
    "git clone -b prov_literature_annotation --depth=1 https://github.com/INCF/neuroshapes.git\n",
    "git clone -b master --depth=1 https://github.com/BlueBrain/corpus-thalamus.git\n",
    "git clone -b master --depth=1 https://github.com/BlueBrain/nat.git\n",
    "\n",
    "conda create -yn kg python=3.7 jupyter requests\n",
    "conda activate kg\n",
    "pip install --extra-index-url https://testpypi.python.org/pypi pyxus==0.5.1\n",
    "\n",
    "jupyter notebook ./nat/kg/\"Literature Annotation - Knowledge Graph.ipynb\"\n",
    "```"
   ]
  },
  {
   "cell_type": "markdown",
   "metadata": {},
   "source": [
    "## User variables"
   ]
  },
  {
   "cell_type": "code",
   "execution_count": 1,
   "metadata": {
    "scrolled": true
   },
   "outputs": [
    {
     "name": "stdout",
     "output_type": "stream",
     "text": [
      "/Users/fonta/repos\n"
     ]
    }
   ],
   "source": [
    "cd ../.."
   ]
  },
  {
   "cell_type": "code",
   "execution_count": 2,
   "metadata": {},
   "outputs": [],
   "source": [
    "TOKEN = \"...\""
   ]
  },
  {
   "cell_type": "code",
   "execution_count": 3,
   "metadata": {},
   "outputs": [],
   "source": [
    "DEPLOYMENT = \"https://bbp-nexus.epfl.ch/staging/v0\""
   ]
  },
  {
   "cell_type": "code",
   "execution_count": 4,
   "metadata": {},
   "outputs": [],
   "source": [
    "AGENT_IRI_BASE = f\"{DEPLOYMENT}/data/.../contributor/agent/v0.1.0\""
   ]
  },
  {
   "cell_type": "code",
   "execution_count": 5,
   "metadata": {},
   "outputs": [],
   "source": [
    "CLEANING_RULES = [\n",
    "    (DEPLOYMENT, \"{{base}}\"),\n",
    "    (\"...\", \"neurosciencegraph\"),\n",
    "]"
   ]
  },
  {
   "cell_type": "code",
   "execution_count": 6,
   "metadata": {},
   "outputs": [],
   "source": [
    "NEUROSHAPES_DIR = \"./neuroshapes\""
   ]
  },
  {
   "cell_type": "code",
   "execution_count": 7,
   "metadata": {},
   "outputs": [],
   "source": [
    "ANNOTATION_DIR = \"./corpus-thalamus\""
   ]
  },
  {
   "cell_type": "code",
   "execution_count": 8,
   "metadata": {},
   "outputs": [],
   "source": [
    "UTILS_DIR = \"./nat/kg\""
   ]
  },
  {
   "cell_type": "markdown",
   "metadata": {},
   "source": [
    "## Helpers"
   ]
  },
  {
   "cell_type": "code",
   "execution_count": 9,
   "metadata": {},
   "outputs": [],
   "source": [
    "%load_ext autoreload"
   ]
  },
  {
   "cell_type": "code",
   "execution_count": 10,
   "metadata": {},
   "outputs": [],
   "source": [
    "import sys"
   ]
  },
  {
   "cell_type": "code",
   "execution_count": 11,
   "metadata": {},
   "outputs": [],
   "source": [
    "sys.path.append(UTILS_DIR)"
   ]
  },
  {
   "cell_type": "code",
   "execution_count": 12,
   "metadata": {},
   "outputs": [],
   "source": [
    "%autoreload 1"
   ]
  },
  {
   "cell_type": "code",
   "execution_count": 13,
   "metadata": {},
   "outputs": [],
   "source": [
    "%aimport nexus_utils\n",
    "%aimport kg_utils\n",
    "%aimport parameters\n",
    "%aimport annotations"
   ]
  },
  {
   "cell_type": "code",
   "execution_count": 14,
   "metadata": {},
   "outputs": [],
   "source": [
    "from nexus_utils import *\n",
    "from kg_utils import *\n",
    "from parameters import *\n",
    "from annotations import *"
   ]
  },
  {
   "cell_type": "markdown",
   "metadata": {},
   "source": [
    "## Nexus client"
   ]
  },
  {
   "cell_type": "code",
   "execution_count": 15,
   "metadata": {},
   "outputs": [],
   "source": [
    "client = init_client(TOKEN, DEPLOYMENT)"
   ]
  },
  {
   "cell_type": "markdown",
   "metadata": {},
   "source": [
    "## Configuration"
   ]
  },
  {
   "cell_type": "markdown",
   "metadata": {},
   "source": [
    "### Commons"
   ]
  },
  {
   "cell_type": "code",
   "execution_count": 16,
   "metadata": {},
   "outputs": [],
   "source": [
    "commons_config = PipelineConfiguration(TOKEN, DEPLOYMENT, client, \"neurosciencegraph\", \"commons\")"
   ]
  },
  {
   "cell_type": "markdown",
   "metadata": {},
   "source": [
    "### Core"
   ]
  },
  {
   "cell_type": "code",
   "execution_count": 17,
   "metadata": {},
   "outputs": [],
   "source": [
    "core_config = PipelineConfiguration(TOKEN, DEPLOYMENT, client, \"neurosciencegraph\", \"core\")"
   ]
  },
  {
   "cell_type": "markdown",
   "metadata": {},
   "source": [
    "### Literature Annotation"
   ]
  },
  {
   "cell_type": "code",
   "execution_count": 18,
   "metadata": {},
   "outputs": [],
   "source": [
    "organization = \"literatureannotation\"\n",
    "organization_desc = \"Data extracted from the scientific literature.\""
   ]
  },
  {
   "cell_type": "code",
   "execution_count": 19,
   "metadata": {},
   "outputs": [],
   "source": [
    "domain = \"modelingparameter\"\n",
    "domain_desc = \"Modeling parameters extracted from the scientific literature.\""
   ]
  },
  {
   "cell_type": "code",
   "execution_count": 20,
   "metadata": {},
   "outputs": [],
   "source": [
    "config = PipelineConfiguration(TOKEN, DEPLOYMENT, client, organization, domain, organization_desc, domain_desc)"
   ]
  },
  {
   "cell_type": "code",
   "execution_count": 21,
   "metadata": {
    "scrolled": true
   },
   "outputs": [
    {
     "name": "stdout",
     "output_type": "stream",
     "text": [
      "<already pushed> literatureannotation\n",
      "CPU times: user 18.7 ms, sys: 4.95 ms, total: 23.7 ms\n",
      "Wall time: 323 ms\n"
     ]
    }
   ],
   "source": [
    "%%time\n",
    "pushed_organization = config.create_organization()"
   ]
  },
  {
   "cell_type": "code",
   "execution_count": 22,
   "metadata": {},
   "outputs": [
    {
     "name": "stdout",
     "output_type": "stream",
     "text": [
      "<already pushed> modelingparameter\n",
      "CPU times: user 18.7 ms, sys: 3.71 ms, total: 22.4 ms\n",
      "Wall time: 110 ms\n"
     ]
    }
   ],
   "source": [
    "%%time\n",
    "pushed_domain = config.create_domain()"
   ]
  },
  {
   "cell_type": "markdown",
   "metadata": {},
   "source": [
    "## Schemas"
   ]
  },
  {
   "cell_type": "markdown",
   "metadata": {},
   "source": [
    "### Commons"
   ]
  },
  {
   "cell_type": "code",
   "execution_count": 23,
   "metadata": {},
   "outputs": [],
   "source": [
    "commons_schemas = [\n",
    "    (\"parameter\", \"v0.1.0\"),\n",
    "    (\"variables\", \"v0.1.0\"),\n",
    "    (\"selectors\", \"v0.1.0\"),\n",
    "    (\"annotation\", \"v0.1.0\"),\n",
    "]"
   ]
  },
  {
   "cell_type": "code",
   "execution_count": 24,
   "metadata": {},
   "outputs": [
    {
     "data": {
      "text/plain": [
       "{'parameter/v0.1.0': True,\n",
       " 'variables/v0.1.0': True,\n",
       " 'selectors/v0.1.0': True,\n",
       " 'annotation/v0.1.0': True}"
      ]
     },
     "execution_count": 24,
     "metadata": {},
     "output_type": "execute_result"
    }
   ],
   "source": [
    "# For demonstration.\n",
    "commons_config.are_schemas_pushed(commons_schemas)"
   ]
  },
  {
   "cell_type": "code",
   "execution_count": 26,
   "metadata": {
    "scrolled": true
   },
   "outputs": [
    {
     "name": "stdout",
     "output_type": "stream",
     "text": [
      "<prepared> parameter/v0.1.0\n",
      "<prepared> variables/v0.1.0\n",
      "<prepared> selectors/v0.1.0\n",
      "<prepared> annotation/v0.1.0\n"
     ]
    }
   ],
   "source": [
    "prepared_commons_schemas = commons_config.load_prepare_schemas(NEUROSHAPES_DIR, commons_schemas)"
   ]
  },
  {
   "cell_type": "code",
   "execution_count": 27,
   "metadata": {},
   "outputs": [
    {
     "name": "stdout",
     "output_type": "stream",
     "text": [
      "<already pushed> parameter/v0.1.0\n",
      "<already pushed> variables/v0.1.0\n",
      "<already pushed> selectors/v0.1.0\n",
      "<already pushed> annotation/v0.1.0\n",
      "CPU times: user 78.6 ms, sys: 8.5 ms, total: 87.1 ms\n",
      "Wall time: 300 ms\n"
     ]
    }
   ],
   "source": [
    "%%time\n",
    "pushed_commons_schemas = commons_config.create_publish_schemas(prepared_commons_schemas)"
   ]
  },
  {
   "cell_type": "code",
   "execution_count": 28,
   "metadata": {
    "scrolled": true
   },
   "outputs": [
    {
     "data": {
      "text/plain": [
       "{'parameter/v0.1.0': None,\n",
       " 'variables/v0.1.0': None,\n",
       " 'selectors/v0.1.0': None,\n",
       " 'annotation/v0.1.0': None}"
      ]
     },
     "execution_count": 28,
     "metadata": {},
     "output_type": "execute_result"
    }
   ],
   "source": [
    "# For demonstration.\n",
    "pushed_commons_schemas"
   ]
  },
  {
   "cell_type": "markdown",
   "metadata": {},
   "source": [
    "### Core"
   ]
  },
  {
   "cell_type": "code",
   "execution_count": 29,
   "metadata": {},
   "outputs": [],
   "source": [
    "core_schemas = [\n",
    "    (\"annotation\", \"v0.1.0\"),\n",
    "    (\"selectors\", \"v0.1.0\"),\n",
    "    (\"variables\", \"v0.1.0\"),\n",
    "]"
   ]
  },
  {
   "cell_type": "code",
   "execution_count": 30,
   "metadata": {},
   "outputs": [
    {
     "name": "stdout",
     "output_type": "stream",
     "text": [
      "<prepared> annotation/v0.1.0\n",
      "<prepared> selectors/v0.1.0\n",
      "<prepared> variables/v0.1.0\n"
     ]
    }
   ],
   "source": [
    "prepared_core_schemas = core_config.load_prepare_schemas(NEUROSHAPES_DIR, core_schemas)"
   ]
  },
  {
   "cell_type": "code",
   "execution_count": 31,
   "metadata": {},
   "outputs": [
    {
     "name": "stdout",
     "output_type": "stream",
     "text": [
      "<already pushed> annotation/v0.1.0\n",
      "<already pushed> selectors/v0.1.0\n",
      "<already pushed> variables/v0.1.0\n",
      "CPU times: user 57 ms, sys: 7.6 ms, total: 64.6 ms\n",
      "Wall time: 444 ms\n"
     ]
    }
   ],
   "source": [
    "%%time\n",
    "pushed_core_schemas = core_config.create_publish_schemas(prepared_core_schemas)"
   ]
  },
  {
   "cell_type": "markdown",
   "metadata": {},
   "source": [
    "### Literature Annotation"
   ]
  },
  {
   "cell_type": "code",
   "execution_count": 32,
   "metadata": {},
   "outputs": [],
   "source": [
    "schemas = [\n",
    "    (\"parameterannotation\", \"v0.1.0\"),\n",
    "    (\"pointvalueparameter\", \"v0.1.0\"),\n",
    "    (\"numericaltraceparameter\", \"v0.1.0\"),\n",
    "    (\"functionparameter\", \"v0.1.0\"),\n",
    "]"
   ]
  },
  {
   "cell_type": "code",
   "execution_count": 33,
   "metadata": {},
   "outputs": [
    {
     "name": "stdout",
     "output_type": "stream",
     "text": [
      "<prepared> parameterannotation/v0.1.0\n",
      "<prepared> pointvalueparameter/v0.1.0\n",
      "<prepared> numericaltraceparameter/v0.1.0\n",
      "<prepared> functionparameter/v0.1.0\n"
     ]
    }
   ],
   "source": [
    "prepared_schemas = config.load_prepare_schemas(NEUROSHAPES_DIR, schemas, specific=True)"
   ]
  },
  {
   "cell_type": "code",
   "execution_count": 34,
   "metadata": {
    "scrolled": true
   },
   "outputs": [
    {
     "name": "stdout",
     "output_type": "stream",
     "text": [
      "<already pushed> parameterannotation/v0.1.0\n",
      "<already pushed> pointvalueparameter/v0.1.0\n",
      "<already pushed> numericaltraceparameter/v0.1.0\n",
      "<already pushed> functionparameter/v0.1.0\n",
      "CPU times: user 80 ms, sys: 8.06 ms, total: 88.1 ms\n",
      "Wall time: 337 ms\n"
     ]
    }
   ],
   "source": [
    "%%time\n",
    "pushed_schemas = config.create_publish_schemas(prepared_schemas)"
   ]
  },
  {
   "cell_type": "markdown",
   "metadata": {},
   "source": [
    "## Raw annotations"
   ]
  },
  {
   "cell_type": "code",
   "execution_count": 35,
   "metadata": {},
   "outputs": [],
   "source": [
    "import json\n",
    "from pathlib import Path\n",
    "from itertools import chain"
   ]
  },
  {
   "cell_type": "code",
   "execution_count": 36,
   "metadata": {},
   "outputs": [],
   "source": [
    "# TODO Do it with NAT.\n",
    "def raw_annotations_from_dir(repo_dir):\n",
    "    path = Path(repo_dir)\n",
    "    files = path.glob(\"*.pcr\")\n",
    "    for x in files:\n",
    "        if x.stat().st_size > 0:\n",
    "            with x.open(\"r\", encoding=\"utf-8\") as f:\n",
    "                json_obj = json.load(f)\n",
    "                for y in json_obj:\n",
    "                    yield y"
   ]
  },
  {
   "cell_type": "code",
   "execution_count": 37,
   "metadata": {},
   "outputs": [],
   "source": [
    "# TODO Do it with NAT.\n",
    "def raw_annotations_stats(raw_annotations):\n",
    "    annotated_paper_count = len(set(x[\"pubId\"] for x in raw_annotations))\n",
    "    print(annotated_paper_count, \"papers\")  # >= 113\n",
    "\n",
    "    annotation_count = len(raw_annotations)\n",
    "    print(annotation_count, \"annotations\")  # >= 582\n",
    "\n",
    "    parameter_count = len(list(chain.from_iterable(x[\"parameters\"] for x in raw_annotations)))\n",
    "    print(parameter_count, \"parameters\")  # >= 485"
   ]
  },
  {
   "cell_type": "code",
   "execution_count": 38,
   "metadata": {},
   "outputs": [],
   "source": [
    "unfiltered_raw_annotations = list(raw_annotations_from_dir(ANNOTATION_DIR))"
   ]
  },
  {
   "cell_type": "code",
   "execution_count": 39,
   "metadata": {},
   "outputs": [
    {
     "name": "stdout",
     "output_type": "stream",
     "text": [
      "113 papers\n",
      "582 annotations\n",
      "485 parameters\n"
     ]
    }
   ],
   "source": [
    "raw_annotations_stats(unfiltered_raw_annotations)\n",
    "# On 24.09.18:\n",
    "# 113 papers\n",
    "# 582 annotations\n",
    "# 485 parameters"
   ]
  },
  {
   "cell_type": "markdown",
   "metadata": {},
   "source": [
    "### [WIP] Filtered raw annotations"
   ]
  },
  {
   "cell_type": "markdown",
   "metadata": {},
   "source": [
    "Excluded from the raw annotations:\n",
    "\n",
    "**Annotations of facts** (i.e. no parameters) because they are currently not modeled in the SHACL shapes.\n",
    "\n",
    "Annotations with at least a **parameter of type function** because this type of parameter refers to other parameters and handling the IDs in this case is not straightforward with Nexus v0."
   ]
  },
  {
   "cell_type": "code",
   "execution_count": 40,
   "metadata": {},
   "outputs": [],
   "source": [
    "def is_selected_raw_annotation(x):\n",
    "    return x[\"parameters\"] and \"function\" not in {p[\"description\"][\"type\"] for p in x[\"parameters\"]}"
   ]
  },
  {
   "cell_type": "code",
   "execution_count": 41,
   "metadata": {},
   "outputs": [],
   "source": [
    "raw_annotations = [x for x in unfiltered_raw_annotations if is_selected_raw_annotation(x)]"
   ]
  },
  {
   "cell_type": "code",
   "execution_count": 42,
   "metadata": {},
   "outputs": [
    {
     "name": "stdout",
     "output_type": "stream",
     "text": [
      "79 papers\n",
      "316 annotations\n",
      "481 parameters\n"
     ]
    }
   ],
   "source": [
    "raw_annotations_stats(raw_annotations)\n",
    "# On 24.09.18:\n",
    "# 79 papers\n",
    "# 316 annotations\n",
    "# 481 parameters"
   ]
  },
  {
   "cell_type": "markdown",
   "metadata": {},
   "source": [
    "## Parameters"
   ]
  },
  {
   "cell_type": "markdown",
   "metadata": {},
   "source": [
    "### Variable type labels"
   ]
  },
  {
   "cell_type": "code",
   "execution_count": 43,
   "metadata": {},
   "outputs": [],
   "source": [
    "import csv\n",
    "import requests"
   ]
  },
  {
   "cell_type": "code",
   "execution_count": 44,
   "metadata": {},
   "outputs": [],
   "source": [
    "# TODO Use an Ontology Service serving these terms.\n",
    "def variable_type_labels():\n",
    "    response = requests.get(\"https://raw.githubusercontent.com/BlueBrain/nat/master/nat/data/modelingDictionary.csv\")\n",
    "    content = response.content.decode(\"utf-8\")\n",
    "    reader = csv.reader(content.splitlines(), delimiter=\";\")\n",
    "    for x in reader:\n",
    "        if x and not x[0].startswith(\"#\"):\n",
    "            yield x[0], x[2]  # type, label"
   ]
  },
  {
   "cell_type": "code",
   "execution_count": 45,
   "metadata": {
    "scrolled": false
   },
   "outputs": [],
   "source": [
    "variable_labels_mapping = dict(variable_type_labels())"
   ]
  },
  {
   "cell_type": "code",
   "execution_count": 46,
   "metadata": {},
   "outputs": [
    {
     "data": {
      "text/plain": [
       "'interbouton_distance'"
      ]
     },
     "execution_count": 46,
     "metadata": {},
     "output_type": "execute_result"
    }
   ],
   "source": [
    "# For demonstration.\n",
    "variable_labels_mapping[\"BBP-121012\"]"
   ]
  },
  {
   "cell_type": "markdown",
   "metadata": {},
   "source": [
    "### Transformation"
   ]
  },
  {
   "cell_type": "code",
   "execution_count": 47,
   "metadata": {},
   "outputs": [],
   "source": [
    "parameters = list(transform_parameters(raw_annotations, config.data_context, variable_labels_mapping))"
   ]
  },
  {
   "cell_type": "code",
   "execution_count": 48,
   "metadata": {
    "scrolled": false
   },
   "outputs": [
    {
     "name": "stdout",
     "output_type": "stream",
     "text": [
      "{\n",
      "  \"@context\": \"{{base}}/contexts/neurosciencegraph/core/data/v1.0.4\",\n",
      "  \"@type\": \"nsg:PointValueParameter\",\n",
      "  \"name\": \"p-resting_membrane_potential-1dafc5f0\",\n",
      "  \"providerId\": \"1dafc5f0-2f10-11e6-a79a-d0e140998c20\",\n",
      "  \"dependentVariable\": {\n",
      "    \"@type\": \"nsg:CompoundNumericalVariable\",\n",
      "    \"quantityType\": \"nsg:BBP-010002\",\n",
      "    \"series\": [\n",
      "      {\n",
      "        \"statistic\": \"mean\",\n",
      "        \"unitCode\": \"mV\",\n",
      "        \"value\": -70.0\n",
      "      },\n",
      "      {\n",
      "        \"statistic\": \"sem\",\n",
      "        \"unitCode\": \"mV\",\n",
      "        \"value\": 4.0\n",
      "      }\n",
      "    ]\n",
      "  },\n",
      "  \"requiredTag\": [\n",
      "    {\n",
      "      \"rootId\": \"NIFCELL:sao1813327414\",\n",
      "      \"id\": \"NIFCELL:sao1813327414\",\n",
      "      \"label\": \"Cell\"\n",
      "    }\n",
      "  ]\n",
      "}\n"
     ]
    }
   ],
   "source": [
    "# For demonstration.\n",
    "print(prepare(parameters[0], CLEANING_RULES))"
   ]
  },
  {
   "cell_type": "markdown",
   "metadata": {},
   "source": [
    "### Registration"
   ]
  },
  {
   "cell_type": "markdown",
   "metadata": {},
   "source": [
    "#### Selection"
   ]
  },
  {
   "cell_type": "code",
   "execution_count": 49,
   "metadata": {},
   "outputs": [
    {
     "data": {
      "text/plain": [
       "427"
      ]
     },
     "execution_count": 49,
     "metadata": {},
     "output_type": "execute_result"
    }
   ],
   "source": [
    "pv_parameters = list(select_by_type(\"nsg:PointValueParameter\", parameters))\n",
    "len(pv_parameters)\n",
    "# On 24.09.18:\n",
    "# 427"
   ]
  },
  {
   "cell_type": "code",
   "execution_count": 50,
   "metadata": {},
   "outputs": [
    {
     "data": {
      "text/plain": [
       "54"
      ]
     },
     "execution_count": 50,
     "metadata": {},
     "output_type": "execute_result"
    }
   ],
   "source": [
    "nt_parameters = list(select_by_type(\"nsg:NumericalTraceParameter\", parameters))\n",
    "len(nt_parameters)\n",
    "# On 24.09.18:\n",
    "# 54"
   ]
  },
  {
   "cell_type": "code",
   "execution_count": 51,
   "metadata": {},
   "outputs": [],
   "source": [
    "# TODO Upcoming. See filtering section.\n",
    "# f_parameters = list(select_by_type(\"nsg:FunctionParameter\", parameters))\n",
    "# len(f_parameters)"
   ]
  },
  {
   "cell_type": "markdown",
   "metadata": {},
   "source": [
    "#### Push"
   ]
  },
  {
   "cell_type": "markdown",
   "metadata": {},
   "source": [
    "Invalid parameters - FIXME"
   ]
  },
  {
   "cell_type": "code",
   "execution_count": 52,
   "metadata": {},
   "outputs": [],
   "source": [
    "def condition_1(x):\n",
    "    return \"series\" not in x[\"dependentVariable\"]\n",
    "\n",
    "def condition_2(x):\n",
    "    return (\"nsg:SimpleNumericalVariable\" in x[\"dependentVariable\"][\"@type\"]\n",
    "            and \"unitCode\" not in x[\"dependentVariable\"][\"series\"])"
   ]
  },
  {
   "cell_type": "code",
   "execution_count": 53,
   "metadata": {
    "scrolled": true
   },
   "outputs": [
    {
     "name": "stdout",
     "output_type": "stream",
     "text": [
      "<count> condition_1 15\n",
      "<count> condition_2 1\n"
     ]
    }
   ],
   "source": [
    "invalid_pv_parameter_idxs = profiling(pv_parameters, [condition_1, condition_2], flatten=True)"
   ]
  },
  {
   "cell_type": "code",
   "execution_count": 54,
   "metadata": {},
   "outputs": [
    {
     "data": {
      "text/plain": [
       "64"
      ]
     },
     "execution_count": 54,
     "metadata": {},
     "output_type": "execute_result"
    }
   ],
   "source": [
    "# For demonstration.\n",
    "invalid_pv_parameter_idxs[0]"
   ]
  },
  {
   "cell_type": "code",
   "execution_count": 55,
   "metadata": {
    "scrolled": false
   },
   "outputs": [
    {
     "name": "stdout",
     "output_type": "stream",
     "text": [
      "<error>\n",
      "{\n",
      "  \"violations\": [\n",
      "    \"Error: Violation Error(<http://www.w3.org/ns/shacl#minCountError>). Node(_:50d62abf0ca585855acb9662bf36131f) MinCount violation. Expected 2, obtained: 0 Node: _:50d62abf0ca585855acb9662bf36131f, Constraint: _:bbff399e9baa42d0df4d8b6c95c34ab1, path: PredicatePath(<https://bbp-nexus.epfl.ch/vocabs/bbp/neurosciencegraph/core/v0.1.0/series>)\",\n",
      "    \"Error: Violation Error(<http://www.w3.org/ns/shacl#ShapesFailed>). Node(_:50d62abf0ca585855acb9662bf36131f) Failed property shapes Node: _:50d62abf0ca585855acb9662bf36131f, Constraint: _:f03cd1941eed533b63bfc65ae281d615, path: PredicatePath(<>)\"\n",
      "  ],\n",
      "  \"code\": \"ShapeConstraintViolations\",\n",
      "  \"@context\": \"https://bbp-nexus.epfl.ch/staging/v0/contexts/nexus/core/error/v0.1.0\"\n",
      "}\n",
      "<data>\n",
      "{\n",
      "  \"@context\": \"https://bbp-nexus.epfl.ch/staging/v0/contexts/neurosciencegraph/core/data/v1.0.4\",\n",
      "  \"@type\": \"nsg:PointValueParameter\",\n",
      "  \"name\": \"p-connectivity-274c8102\",\n",
      "  \"providerId\": \"274c8102-ffde-11e5-a94f-c869cd917532\",\n",
      "  \"dependentVariable\": {\n",
      "    \"@type\": \"nsg:CompoundNumericalVariable\",\n",
      "    \"quantityType\": \"nsg:BBP-110000\"\n",
      "  }\n",
      "}\n",
      "<index> 64\n",
      "<count> 0\n"
     ]
    }
   ],
   "source": [
    "# For demonstration.\n",
    "config.create_instances(\"pointvalueparameter\", \"v0.1.0\", pv_parameters, start=invalid_pv_parameter_idxs[0])"
   ]
  },
  {
   "cell_type": "markdown",
   "metadata": {},
   "source": [
    "Point value parameters"
   ]
  },
  {
   "cell_type": "code",
   "execution_count": 56,
   "metadata": {},
   "outputs": [
    {
     "data": {
      "text/plain": [
       "411"
      ]
     },
     "execution_count": 56,
     "metadata": {},
     "output_type": "execute_result"
    }
   ],
   "source": [
    "len(pv_parameters) - len(invalid_pv_parameter_idxs)"
   ]
  },
  {
   "cell_type": "code",
   "execution_count": 57,
   "metadata": {
    "scrolled": false
   },
   "outputs": [
    {
     "name": "stdout",
     "output_type": "stream",
     "text": [
      "<count> 411\n",
      "CPU times: user 15.8 s, sys: 1.13 s, total: 16.9 s\n",
      "Wall time: 5min 29s\n"
     ]
    }
   ],
   "source": [
    "%%time\n",
    "config.create_instances(\"pointvalueparameter\", \"v0.1.0\", pv_parameters, exclude_idxs=invalid_pv_parameter_idxs)"
   ]
  },
  {
   "cell_type": "markdown",
   "metadata": {},
   "source": [
    "Numerical trace parameters"
   ]
  },
  {
   "cell_type": "code",
   "execution_count": 58,
   "metadata": {},
   "outputs": [
    {
     "data": {
      "text/plain": [
       "54"
      ]
     },
     "execution_count": 58,
     "metadata": {},
     "output_type": "execute_result"
    }
   ],
   "source": [
    "len(nt_parameters)"
   ]
  },
  {
   "cell_type": "code",
   "execution_count": 59,
   "metadata": {},
   "outputs": [
    {
     "name": "stdout",
     "output_type": "stream",
     "text": [
      "<count> 54\n",
      "CPU times: user 2.17 s, sys: 156 ms, total: 2.33 s\n",
      "Wall time: 42.8 s\n"
     ]
    }
   ],
   "source": [
    "%%time\n",
    "config.create_instances(\"numericaltraceparameter\", \"v0.1.0\", nt_parameters)"
   ]
  },
  {
   "cell_type": "markdown",
   "metadata": {},
   "source": [
    "Function parameters"
   ]
  },
  {
   "cell_type": "code",
   "execution_count": 60,
   "metadata": {},
   "outputs": [],
   "source": [
    "# TODO Upcoming. See filtering section.\n",
    "# len(f_parameters)"
   ]
  },
  {
   "cell_type": "code",
   "execution_count": 61,
   "metadata": {},
   "outputs": [],
   "source": [
    "# TODO Upcoming. See filtering section.\n",
    "# %%time\n",
    "# config.create_instances(\"functionparameter\", \"v0.1.0\", f_parameters)"
   ]
  },
  {
   "cell_type": "markdown",
   "metadata": {},
   "source": [
    "## [Nexus v0] Parameter IDs mapping"
   ]
  },
  {
   "cell_type": "code",
   "execution_count": 62,
   "metadata": {},
   "outputs": [
    {
     "name": "stdout",
     "output_type": "stream",
     "text": [
      "<count> 411\n",
      "<warning> More than one result page. Iteration required.\n"
     ]
    },
    {
     "data": {
      "text/plain": [
       "<pyxus.resources.entity.SearchResultList at 0x11375ae48>"
      ]
     },
     "execution_count": 62,
     "metadata": {},
     "output_type": "execute_result"
    }
   ],
   "source": [
    "# For demonstration.\n",
    "config.instances_by_schema(\"pointvalueparameter\", \"v0.1.0\")"
   ]
  },
  {
   "cell_type": "code",
   "execution_count": 63,
   "metadata": {
    "scrolled": true
   },
   "outputs": [
    {
     "name": "stdout",
     "output_type": "stream",
     "text": [
      "<count> 411\n",
      "<warning> More than one result page. Iteration required.\n"
     ]
    },
    {
     "data": {
      "text/plain": [
       "<pyxus.resources.entity.Instance at 0x1137a4588>"
      ]
     },
     "execution_count": 63,
     "metadata": {},
     "output_type": "execute_result"
    }
   ],
   "source": [
    "# For demonstration.\n",
    "config.instances_by_schema(\"pointvalueparameter\", \"v0.1.0\", resolved=True).results[0]"
   ]
  },
  {
   "cell_type": "code",
   "execution_count": 64,
   "metadata": {},
   "outputs": [
    {
     "data": {
      "text/plain": [
       "465"
      ]
     },
     "execution_count": 64,
     "metadata": {},
     "output_type": "execute_result"
    }
   ],
   "source": [
    "len(parameters) - len(invalid_pv_parameter_idxs)"
   ]
  },
  {
   "cell_type": "code",
   "execution_count": 65,
   "metadata": {},
   "outputs": [],
   "source": [
    "# Note: Need to wait a bit so that Nexus makes the instances available for retrieve_all_results().\n",
    "import time\n",
    "time.sleep(30)"
   ]
  },
  {
   "cell_type": "code",
   "execution_count": 66,
   "metadata": {
    "scrolled": true
   },
   "outputs": [
    {
     "name": "stdout",
     "output_type": "stream",
     "text": [
      "<count> 465\n",
      "<warning> More than one result page. Iteration required.\n"
     ]
    }
   ],
   "source": [
    "pushed_parameters_search = config.instances_of_domain(resolved=True)"
   ]
  },
  {
   "cell_type": "code",
   "execution_count": 67,
   "metadata": {},
   "outputs": [],
   "source": [
    "pushed_parameters = config.retrieve_all_results(pushed_parameters_search)"
   ]
  },
  {
   "cell_type": "code",
   "execution_count": 68,
   "metadata": {},
   "outputs": [],
   "source": [
    "parameter_uuid_mapping = dict(uuid_iri_mapping(pushed_parameters))"
   ]
  },
  {
   "cell_type": "markdown",
   "metadata": {},
   "source": [
    "## Annotations"
   ]
  },
  {
   "cell_type": "markdown",
   "metadata": {},
   "source": [
    "### Transformation"
   ]
  },
  {
   "cell_type": "markdown",
   "metadata": {},
   "source": [
    "Invalid annotations because of invalid parameters - FIXME"
   ]
  },
  {
   "cell_type": "code",
   "execution_count": 69,
   "metadata": {},
   "outputs": [],
   "source": [
    "invalid_pv_parameter_uuids = {pv_parameters[i][\"providerId\"] for i in invalid_pv_parameter_idxs}"
   ]
  },
  {
   "cell_type": "code",
   "execution_count": 70,
   "metadata": {},
   "outputs": [],
   "source": [
    "valid_raw_annotations = [x for x in raw_annotations\n",
    "                         if not {y[\"id\"] for y in x[\"parameters\"]} & invalid_pv_parameter_uuids]"
   ]
  },
  {
   "cell_type": "code",
   "execution_count": 71,
   "metadata": {},
   "outputs": [
    {
     "data": {
      "text/plain": [
       "10"
      ]
     },
     "execution_count": 71,
     "metadata": {},
     "output_type": "execute_result"
    }
   ],
   "source": [
    "len(raw_annotations) - len(valid_raw_annotations)"
   ]
  },
  {
   "cell_type": "markdown",
   "metadata": {},
   "source": [
    "Normal flow"
   ]
  },
  {
   "cell_type": "code",
   "execution_count": 72,
   "metadata": {
    "scrolled": false
   },
   "outputs": [],
   "source": [
    "annotations = list(transform_annotations(valid_raw_annotations, config.data_context, AGENT_IRI_BASE,\n",
    "                                         parameter_uuid_mapping))"
   ]
  },
  {
   "cell_type": "code",
   "execution_count": 73,
   "metadata": {
    "scrolled": false
   },
   "outputs": [
    {
     "name": "stdout",
     "output_type": "stream",
     "text": [
      "{\n",
      "  \"@context\": \"{{base}}/contexts/neurosciencegraph/core/data/v1.0.4\",\n",
      "  \"@type\": \"nsg:ParameterAnnotation\",\n",
      "  \"name\": \"a-figure-5bec10d2\",\n",
      "  \"providerId\": \"5bec10d2-a1b4-11e6-8ba4-64006a4c56ef\",\n",
      "  \"contribution\": {\n",
      "    \"agent\": [\n",
      "      {\n",
      "        \"@id\": \"{{base}}/data/neurosciencegraph/contributor/agent/v0.1.0/124d1066-41cd-4d1b-b0ad-eed2672cf927\",\n",
      "        \"@type\": \"prov:Agent\"\n",
      "      }\n",
      "    ]\n",
      "  },\n",
      "  \"hasTarget\": {\n",
      "    \"@type\": \"nsg:FigureTarget\",\n",
      "    \"hasSource\": \"https://www.ncbi.nlm.nih.gov/pubmed/12509484\",\n",
      "    \"hasSelector\": {\n",
      "      \"@type\": \"nsg:FigureSelector\",\n",
      "      \"index\": \"3.D\"\n",
      "    }\n",
      "  },\n",
      "  \"hasBody\": [\n",
      "    {\n",
      "      \"@id\": \"{{base}}/data/literatureannotation/modelingparameter/numericaltraceparameter/v0.1.0/b97c843c-1613-4a51-920d-b6cfa8525028\",\n",
      "      \"@type\": \"nsg:Parameter\"\n",
      "    }\n",
      "  ],\n",
      "  \"keywords\": [\n",
      "    {\n",
      "      \"@id\": \"NIFORG:birnlex_254\",\n",
      "      \"label\": \"Wistar Rat\"\n",
      "    }\n",
      "  ]\n",
      "}\n"
     ]
    }
   ],
   "source": [
    "# For demonstration.\n",
    "print(prepare(annotations[-1], CLEANING_RULES))"
   ]
  },
  {
   "cell_type": "markdown",
   "metadata": {},
   "source": [
    "### Registration"
   ]
  },
  {
   "cell_type": "markdown",
   "metadata": {},
   "source": [
    "#### Push"
   ]
  },
  {
   "cell_type": "code",
   "execution_count": 74,
   "metadata": {},
   "outputs": [
    {
     "data": {
      "text/plain": [
       "306"
      ]
     },
     "execution_count": 74,
     "metadata": {},
     "output_type": "execute_result"
    }
   ],
   "source": [
    "len(annotations)"
   ]
  },
  {
   "cell_type": "code",
   "execution_count": 75,
   "metadata": {},
   "outputs": [
    {
     "name": "stdout",
     "output_type": "stream",
     "text": [
      "<count> 306\n",
      "CPU times: user 11.8 s, sys: 827 ms, total: 12.6 s\n",
      "Wall time: 4min 40s\n"
     ]
    }
   ],
   "source": [
    "%%time\n",
    "config.create_instances(\"parameterannotation\", \"v0.1.0\", annotations)"
   ]
  },
  {
   "cell_type": "code",
   "execution_count": 76,
   "metadata": {},
   "outputs": [
    {
     "name": "stdout",
     "output_type": "stream",
     "text": [
      "<error> Schema does not exist!\n",
      "<index> 0\n",
      "<count> 0\n"
     ]
    }
   ],
   "source": [
    "# For demonstration.\n",
    "config.create_instances(\"parameterannotation\", \"v0.0.0\", annotations)"
   ]
  },
  {
   "cell_type": "markdown",
   "metadata": {},
   "source": [
    "---"
   ]
  },
  {
   "cell_type": "markdown",
   "metadata": {},
   "source": [
    "## Neuroshapes test data generation"
   ]
  },
  {
   "cell_type": "markdown",
   "metadata": {},
   "source": [
    "This part of the workflow is intended to be done **before pushing the schemas and the data**."
   ]
  },
  {
   "cell_type": "code",
   "execution_count": 77,
   "metadata": {},
   "outputs": [],
   "source": [
    "CLEANING_RULES.append((f\"{organization}/{domain}\", f\"neurosciencegraph/{organization}\"))"
   ]
  },
  {
   "cell_type": "code",
   "execution_count": 78,
   "metadata": {},
   "outputs": [],
   "source": [
    "tdconfig = TestDataConfiguration(organization, NEUROSHAPES_DIR, CLEANING_RULES)"
   ]
  },
  {
   "cell_type": "markdown",
   "metadata": {},
   "source": [
    "### Valid data"
   ]
  },
  {
   "cell_type": "markdown",
   "metadata": {},
   "source": [
    "#### ParameterAnnotation"
   ]
  },
  {
   "cell_type": "code",
   "execution_count": 85,
   "metadata": {},
   "outputs": [],
   "source": [
    "# To find interesting examples.\n",
    "# prettify([x for x in annotations if \"TextPositionTarget\" in x[\"hasTarget\"][\"@type\"]][0])"
   ]
  },
  {
   "cell_type": "code",
   "execution_count": 86,
   "metadata": {},
   "outputs": [],
   "source": [
    "pa_schema_name = \"parameterannotation\"\n",
    "pa_schema_version = \"v0.1.0\"\n",
    "pa_optional_keys = [\"keywords\", \"comment\", \"experimentalProperties\"]"
   ]
  },
  {
   "cell_type": "markdown",
   "metadata": {},
   "source": [
    "TextPositionTarget"
   ]
  },
  {
   "cell_type": "code",
   "execution_count": 87,
   "metadata": {},
   "outputs": [
    {
     "name": "stdout",
     "output_type": "stream",
     "text": [
      "<written> parameterannotation/v0.1.0/auto-all-fields-text.json\n",
      "<written> parameterannotation/v0.1.0/auto-min-fields-text.json\n"
     ]
    }
   ],
   "source": [
    "tdconfig.write(\n",
    "    find(\"e6914b74-ed2a-11e5-b291-3417ebb8f5ca\", annotations),\n",
    "    pa_schema_name, pa_schema_version,\n",
    "    pa_optional_keys,\n",
    "    flavour=\"text\")"
   ]
  },
  {
   "cell_type": "markdown",
   "metadata": {},
   "source": [
    "FigureTarget"
   ]
  },
  {
   "cell_type": "code",
   "execution_count": 88,
   "metadata": {},
   "outputs": [
    {
     "name": "stdout",
     "output_type": "stream",
     "text": [
      "<written> parameterannotation/v0.1.0/auto-all-fields-figure.json\n",
      "<written> parameterannotation/v0.1.0/auto-min-fields-figure.json\n"
     ]
    }
   ],
   "source": [
    "tdconfig.write(\n",
    "    find(\"1132613e-31b1-11e8-b594-64006a67e5d0\", annotations),\n",
    "    pa_schema_name, pa_schema_version,\n",
    "    pa_optional_keys,\n",
    "    flavour=\"figure\")"
   ]
  },
  {
   "cell_type": "markdown",
   "metadata": {},
   "source": [
    "EquationTarget"
   ]
  },
  {
   "cell_type": "code",
   "execution_count": 89,
   "metadata": {},
   "outputs": [
    {
     "name": "stdout",
     "output_type": "stream",
     "text": [
      "<written> parameterannotation/v0.1.0/auto-all-fields-equation.json\n",
      "<written> parameterannotation/v0.1.0/auto-min-fields-equation.json\n"
     ]
    }
   ],
   "source": [
    "tdconfig.write(\n",
    "    find(\"c3af1a82-c5a7-11e5-b8a7-3417ebb8f5ca\", annotations),\n",
    "    pa_schema_name, pa_schema_version,\n",
    "    pa_optional_keys,\n",
    "    flavour=\"equation\")"
   ]
  },
  {
   "cell_type": "markdown",
   "metadata": {},
   "source": [
    "TableTarget"
   ]
  },
  {
   "cell_type": "code",
   "execution_count": 90,
   "metadata": {},
   "outputs": [
    {
     "name": "stdout",
     "output_type": "stream",
     "text": [
      "<written> parameterannotation/v0.1.0/auto-all-fields-table.json\n",
      "<written> parameterannotation/v0.1.0/auto-min-fields-table.json\n"
     ]
    }
   ],
   "source": [
    "tdconfig.write(\n",
    "    find(\"5ffe9b02-ecf3-11e5-b708-64006a4c56ef\", annotations),\n",
    "    pa_schema_name, pa_schema_version,\n",
    "    pa_optional_keys,\n",
    "    flavour=\"table\")"
   ]
  },
  {
   "cell_type": "markdown",
   "metadata": {},
   "source": [
    "AreaTarget"
   ]
  },
  {
   "cell_type": "code",
   "execution_count": 91,
   "metadata": {},
   "outputs": [
    {
     "name": "stdout",
     "output_type": "stream",
     "text": [
      "<written> parameterannotation/v0.1.0/auto-all-fields-area.json\n",
      "<written> parameterannotation/v0.1.0/auto-min-fields-area.json\n"
     ]
    }
   ],
   "source": [
    "tdconfig.write(\n",
    "    find(\"52afbf40-04bc-11e6-b795-64006a4c56ef\", annotations),\n",
    "    pa_schema_name, pa_schema_version,\n",
    "    pa_optional_keys,\n",
    "    flavour=\"area\")"
   ]
  },
  {
   "cell_type": "markdown",
   "metadata": {},
   "source": [
    "#### PointValueParameter"
   ]
  },
  {
   "cell_type": "code",
   "execution_count": 92,
   "metadata": {},
   "outputs": [],
   "source": [
    "pvp_schema_name = \"pointvalueparameter\"\n",
    "pvp_schema_version = \"v0.1.0\"\n",
    "pvp_optional_keys = [\"requiredTag\"]"
   ]
  },
  {
   "cell_type": "markdown",
   "metadata": {},
   "source": [
    "SimpleNumericalVariable"
   ]
  },
  {
   "cell_type": "code",
   "execution_count": 93,
   "metadata": {},
   "outputs": [
    {
     "name": "stdout",
     "output_type": "stream",
     "text": [
      "<written> pointvalueparameter/v0.1.0/auto-all-fields-simple.json\n",
      "<written> pointvalueparameter/v0.1.0/auto-min-fields-simple.json\n"
     ]
    }
   ],
   "source": [
    "tdconfig.write(\n",
    "    find(\"870f0288-061b-11e6-9d1c-c869cd917532\", parameters),\n",
    "    pvp_schema_name, pvp_schema_version,\n",
    "    pvp_optional_keys,\n",
    "    flavour=\"simple\")"
   ]
  },
  {
   "cell_type": "markdown",
   "metadata": {},
   "source": [
    "CompoundNumericalVariable\n"
   ]
  },
  {
   "cell_type": "code",
   "execution_count": 94,
   "metadata": {},
   "outputs": [
    {
     "name": "stdout",
     "output_type": "stream",
     "text": [
      "<written> pointvalueparameter/v0.1.0/auto-all-fields-compound.json\n",
      "<written> pointvalueparameter/v0.1.0/auto-min-fields-compound.json\n"
     ]
    }
   ],
   "source": [
    "tdconfig.write(\n",
    "    find(\"7516d66e-0bb4-11e6-843d-64006a4c56ef\", parameters),\n",
    "    pvp_schema_name, pvp_schema_version,\n",
    "    pvp_optional_keys,\n",
    "    flavour=\"compound\")"
   ]
  },
  {
   "cell_type": "markdown",
   "metadata": {},
   "source": [
    "#### NumericalTraceParameter"
   ]
  },
  {
   "cell_type": "code",
   "execution_count": 95,
   "metadata": {},
   "outputs": [],
   "source": [
    "nt_schema_name = \"numericaltraceparameter\"\n",
    "nt_schema_version = \"v0.1.0\"\n",
    "nt_optional_keys = [\"requiredTag\"]"
   ]
  },
  {
   "cell_type": "markdown",
   "metadata": {},
   "source": [
    "SimpleNumericalVariable - SimpleNumericalVariable"
   ]
  },
  {
   "cell_type": "code",
   "execution_count": 96,
   "metadata": {},
   "outputs": [
    {
     "name": "stdout",
     "output_type": "stream",
     "text": [
      "<written> numericaltraceparameter/v0.1.0/auto-all-fields-simple-simple.json\n",
      "<written> numericaltraceparameter/v0.1.0/auto-min-fields-simple-simple.json\n"
     ]
    }
   ],
   "source": [
    "tdconfig.write(\n",
    "    find(\"0ebdc338-6d38-11e6-b432-64006a4c56ef\", parameters),\n",
    "    nt_schema_name, nt_schema_version,\n",
    "    nt_optional_keys,\n",
    "    flavour=\"simple-simple\")"
   ]
  },
  {
   "cell_type": "markdown",
   "metadata": {},
   "source": [
    "SimpleNumericalVariable - CompoundNumericalVariable"
   ]
  },
  {
   "cell_type": "code",
   "execution_count": 97,
   "metadata": {},
   "outputs": [
    {
     "data": {
      "text/plain": [
       "0"
      ]
     },
     "execution_count": 97,
     "metadata": {},
     "output_type": "execute_result"
    }
   ],
   "source": [
    "len([x for x in parameters\n",
    "     if \"NumericalTraceParameter\" in x[\"@type\"]\n",
    "     and \"SimpleNumericalVariable\" in x[\"dependentVariable\"][\"@type\"]\n",
    "     and \"CompoundNumericalVariable\" in {y[\"@type\"] for y in x[\"independentVariable\"]}])\n",
    "# On 24.09.18:\n",
    "# 0, no data"
   ]
  },
  {
   "cell_type": "markdown",
   "metadata": {},
   "source": [
    "CompoundNumericalVariable - SimpleNumericalVariable"
   ]
  },
  {
   "cell_type": "code",
   "execution_count": 98,
   "metadata": {},
   "outputs": [
    {
     "name": "stdout",
     "output_type": "stream",
     "text": [
      "<written> numericaltraceparameter/v0.1.0/auto-all-fields-compound-simple.json\n",
      "<written> numericaltraceparameter/v0.1.0/auto-min-fields-compound-simple.json\n"
     ]
    }
   ],
   "source": [
    "tdconfig.write(\n",
    "    find(\"db0e39fe-9a9c-11e6-974a-64006a4c56ef\", parameters),\n",
    "    nt_schema_name, nt_schema_version,\n",
    "    nt_optional_keys,\n",
    "    flavour=\"compound-simple\")"
   ]
  },
  {
   "cell_type": "markdown",
   "metadata": {},
   "source": [
    "CompoundNumericalVariable - CompoundNumericalVariable"
   ]
  },
  {
   "cell_type": "code",
   "execution_count": 99,
   "metadata": {},
   "outputs": [
    {
     "data": {
      "text/plain": [
       "0"
      ]
     },
     "execution_count": 99,
     "metadata": {},
     "output_type": "execute_result"
    }
   ],
   "source": [
    "len([x for x in parameters\n",
    "     if \"NumericalTraceParameter\" in x[\"@type\"]\n",
    "     and \"CompoundNumericalVariable\" in x[\"dependentVariable\"][\"@type\"]\n",
    "     and \"CompoundNumericalVariable\" in {y[\"@type\"] for y in x[\"independentVariable\"]}])\n",
    "# On 24.09.18:\n",
    "# 0, no data"
   ]
  },
  {
   "cell_type": "markdown",
   "metadata": {},
   "source": [
    "#### FunctionParameter"
   ]
  },
  {
   "cell_type": "code",
   "execution_count": 100,
   "metadata": {},
   "outputs": [],
   "source": [
    "f_schema_name = \"functionparameter\"\n",
    "f_schema_version = \"v0.1.0\"\n",
    "f_optional_keys = [\"equationParameters\", \"requiredTag\"]"
   ]
  },
  {
   "cell_type": "code",
   "execution_count": 101,
   "metadata": {},
   "outputs": [
    {
     "name": "stdout",
     "output_type": "stream",
     "text": [
      "<written> functionparameter/v0.1.0/auto-all-fields.json\n",
      "<written> functionparameter/v0.1.0/auto-min-fields.json\n"
     ]
    }
   ],
   "source": [
    "# TODO Upcoming. See filtering section.\n",
    "\n",
    "# Meanwhile, ad hoc and temporary code to generate the test data for Neuroshapes.\n",
    "\n",
    "fp = find(\"71233092-eb80-11e5-a9b7-64006a4c56ef\",\n",
    "          chain.from_iterable(x[\"parameters\"] for x in unfiltered_raw_annotations),\n",
    "          \"id\")\n",
    "\n",
    "tfp = transform_parameter(fp, config.data_context, variable_labels_mapping)\n",
    "\n",
    "for i, x in enumerate(tfp[\"equationParameters\"]):\n",
    "    puuid = x[\"@id\"]\n",
    "    pbase = \"{{base}}/data/neurosciencegraph/literatureannotation/pointvalueparameter/v0.1.0\"\n",
    "    tfp[\"equationParameters\"][i][\"@id\"] =  f\"{pbase}/{puuid}\"\n",
    "\n",
    "tdconfig.write(\n",
    "    tfp,  # find(\"71233092-eb80-11e5-a9b7-64006a4c56ef\", parameters),\n",
    "    f_schema_name, f_schema_version,\n",
    "    f_optional_keys)"
   ]
  },
  {
   "cell_type": "markdown",
   "metadata": {},
   "source": [
    "### Invalid data"
   ]
  },
  {
   "cell_type": "markdown",
   "metadata": {},
   "source": [
    "#### ParameterAnnotation"
   ]
  },
  {
   "cell_type": "markdown",
   "metadata": {},
   "source": [
    "TextPositionTarget"
   ]
  },
  {
   "cell_type": "code",
   "execution_count": 102,
   "metadata": {},
   "outputs": [
    {
     "name": "stdout",
     "output_type": "stream",
     "text": [
      "<written> parameterannotation/v0.1.0/auto-missing-entityshape-name.json\n",
      "<written> parameterannotation/v0.1.0/auto-missing-contribution.json\n",
      "<written> parameterannotation/v0.1.0/auto-missing-contributionshape-agent.json\n",
      "<written> parameterannotation/v0.1.0/auto-missing-hastarget.json\n",
      "<written> parameterannotation/v0.1.0/auto-missing-hasbody.json\n",
      "<written> parameterannotation/v0.1.0/auto-missing-selectortargetshape-hassource.json\n",
      "<written> parameterannotation/v0.1.0/auto-missing-textpositiontargetshape-hasselector.json\n",
      "<written> parameterannotation/v0.1.0/auto-missing-textpositionselectorshape-start.json\n",
      "<written> parameterannotation/v0.1.0/auto-missing-textpositionselectorshape-end.json\n"
     ]
    }
   ],
   "source": [
    "tdconfig.write_missing(\n",
    "    pa_schema_name, pa_schema_version, \"auto-min-fields-text\",\n",
    "    [\n",
    "        (\"name\", \"entityshape-name\"),\n",
    "        (\"contribution\", \"contribution\"),\n",
    "        (\"contribution.agent\", \"contributionshape-agent\"),\n",
    "        (\"hasTarget\", \"hastarget\"),\n",
    "        (\"hasBody\", \"hasbody\"),\n",
    "        (\"hasTarget.hasSource\", \"selectortargetshape-hassource\"),\n",
    "        # hasTarget.hasSelector: Same for the other specialized TargetShape.\n",
    "        (\"hasTarget.hasSelector\", \"textpositiontargetshape-hasselector\"),\n",
    "        (\"hasTarget.hasSelector.start\", \"textpositionselectorshape-start\"),\n",
    "        (\"hasTarget.hasSelector.end\", \"textpositionselectorshape-end\"),\n",
    "    ])"
   ]
  },
  {
   "cell_type": "markdown",
   "metadata": {},
   "source": [
    "FigureTarget"
   ]
  },
  {
   "cell_type": "code",
   "execution_count": 103,
   "metadata": {},
   "outputs": [
    {
     "name": "stdout",
     "output_type": "stream",
     "text": [
      "<written> parameterannotation/v0.1.0/auto-missing-indexselectorshape-index.json\n"
     ]
    }
   ],
   "source": [
    "tdconfig.write_missing(\n",
    "    pa_schema_name, pa_schema_version, \"auto-min-fields-figure\",\n",
    "    [\n",
    "        # hasTarget.hasSelector.index: Same for the other specialized IndexSelectorShape (Equation and Table).\n",
    "        (\"hasTarget.hasSelector.index\", \"indexselectorshape-index\"),\n",
    "    ])"
   ]
  },
  {
   "cell_type": "markdown",
   "metadata": {},
   "source": [
    "AreaTarget"
   ]
  },
  {
   "cell_type": "code",
   "execution_count": 104,
   "metadata": {},
   "outputs": [
    {
     "name": "stdout",
     "output_type": "stream",
     "text": [
      "<written> parameterannotation/v0.1.0/auto-missing-fragmentselectorshape-value.json\n",
      "<written> parameterannotation/v0.1.0/auto-missing-fragmentselectorshape-conformsto.json\n"
     ]
    }
   ],
   "source": [
    "tdconfig.write_missing(\n",
    "    pa_schema_name, pa_schema_version, \"auto-min-fields-area\",\n",
    "    [\n",
    "        (\"hasTarget.hasSelector.rdf:value\", \"fragmentselectorshape-value\"),\n",
    "        (\"hasTarget.hasSelector.dcterms:conformsTo\", \"fragmentselectorshape-conformsto\"),\n",
    "    ])"
   ]
  },
  {
   "cell_type": "markdown",
   "metadata": {},
   "source": [
    "#### PointValueParameter"
   ]
  },
  {
   "cell_type": "code",
   "execution_count": 105,
   "metadata": {},
   "outputs": [
    {
     "name": "stdout",
     "output_type": "stream",
     "text": [
      "<written> pointvalueparameter/v0.1.0/auto-missing-series-simple.json\n",
      "<written> pointvalueparameter/v0.1.0/auto-missing-variableshape-quantitytype-simple.json\n",
      "<written> pointvalueparameter/v0.1.0/auto-missing-valueshape-value-simple.json\n",
      "<written> pointvalueparameter/v0.1.0/auto-missing-algebraicvalueshape-unitcode-simple.json\n"
     ]
    }
   ],
   "source": [
    "tdconfig.write_missing(\n",
    "    pvp_schema_name, pvp_schema_version, \"auto-min-fields-simple\",\n",
    "    [\n",
    "        (\"dependentVariable.series\", \"series-simple\"),\n",
    "        (\"dependentVariable.quantityType\", \"variableshape-quantitytype-simple\"),\n",
    "        (\"dependentVariable.series.value\", \"valueshape-value-simple\"),\n",
    "        (\"dependentVariable.series.unitCode\", \"algebraicvalueshape-unitcode-simple\"),\n",
    "    ])"
   ]
  },
  {
   "cell_type": "code",
   "execution_count": 106,
   "metadata": {},
   "outputs": [
    {
     "name": "stdout",
     "output_type": "stream",
     "text": [
      "<written> pointvalueparameter/v0.1.0/auto-missing-series-compound.json\n",
      "<written> pointvalueparameter/v0.1.0/auto-missing-variableshape-quantitytype-compound.json\n"
     ]
    }
   ],
   "source": [
    "tdconfig.write_missing(\n",
    "    pvp_schema_name, pvp_schema_version, \"auto-min-fields-compound\",\n",
    "    [\n",
    "        (\"dependentVariable.series\", \"series-compound\"),\n",
    "        (\"dependentVariable.quantityType\", \"variableshape-quantitytype-compound\"),\n",
    "    ])"
   ]
  },
  {
   "cell_type": "markdown",
   "metadata": {},
   "source": [
    "#### NumericalTraceParameter"
   ]
  },
  {
   "cell_type": "code",
   "execution_count": 107,
   "metadata": {},
   "outputs": [
    {
     "name": "stdout",
     "output_type": "stream",
     "text": [
      "<written> numericaltraceparameter/v0.1.0/auto-missing-indpendentvariable-simple.json\n"
     ]
    }
   ],
   "source": [
    "tdconfig.write_missing(\n",
    "    nt_schema_name, nt_schema_version, \"auto-min-fields-simple-simple\",\n",
    "    [\n",
    "        (\"independentVariable\", \"indpendentvariable-simple\"),\n",
    "    ])"
   ]
  },
  {
   "cell_type": "markdown",
   "metadata": {},
   "source": [
    "#### FunctionParameter"
   ]
  },
  {
   "cell_type": "code",
   "execution_count": 108,
   "metadata": {},
   "outputs": [
    {
     "name": "stdout",
     "output_type": "stream",
     "text": [
      "<written> functionparameter/v0.1.0/auto-missing-equation.json\n"
     ]
    }
   ],
   "source": [
    "tdconfig.write_missing(\n",
    "    f_schema_name, f_schema_version, \"auto-min-fields\",\n",
    "    [\n",
    "        (\"equation\", \"equation\"),\n",
    "    ])"
   ]
  },
  {
   "cell_type": "markdown",
   "metadata": {},
   "source": [
    "---"
   ]
  },
  {
   "cell_type": "markdown",
   "metadata": {},
   "source": [
    "## Cleaning - KNOW WHAT YOU ARE DOING"
   ]
  },
  {
   "cell_type": "code",
   "execution_count": 109,
   "metadata": {},
   "outputs": [],
   "source": [
    "# %%time\n",
    "# config.clean(organization=False, domain=False)"
   ]
  },
  {
   "cell_type": "code",
   "execution_count": null,
   "metadata": {},
   "outputs": [],
   "source": []
  }
 ],
 "metadata": {
  "kernelspec": {
   "display_name": "Python 3",
   "language": "python",
   "name": "python3"
  },
  "language_info": {
   "codemirror_mode": {
    "name": "ipython",
    "version": 3
   },
   "file_extension": ".py",
   "mimetype": "text/x-python",
   "name": "python",
   "nbconvert_exporter": "python",
   "pygments_lexer": "ipython3",
   "version": "3.7.0"
  }
 },
 "nbformat": 4,
 "nbformat_minor": 2
}
